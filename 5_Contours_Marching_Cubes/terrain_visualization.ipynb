{
 "cells": [
  {
   "cell_type": "markdown",
   "metadata": {},
   "source": [
    "# Terrain Visualization"
   ]
  },
  {
   "cell_type": "markdown",
   "metadata": {},
   "source": [
    "In this activity, you will work with creating and manipulating 3D surface meshes using **PyVista**, a Python interface for the **Visualization Toolkit (VTK)**. VTK is a powerful open-source library for computer graphics, visualization, and image processing. You can learn more about both tools through these references:\n",
    "- https://docs.pyvista.org/\n",
    "- https://vtk.org/\n",
    "\n",
    "We will also be using the **itkwidgets** library, which provides interactive Jupyter widgets for plotting, to visualize our meshes.\n",
    "\n",
    "The outline of this activity will be:\n",
    "1. Creating a 3D surface mesh\n",
    "2. Writing code to coarsen the mesh\n",
    "3. Writing code to visualize the error in elevation between the original mesh and the coarse mesh"
   ]
  },
  {
   "cell_type": "markdown",
   "metadata": {},
   "source": [
    "# Part 1: Creating a 3D Surface Mesh\n",
    "We will start by using a topographic surface to create a 3D terrain-following mesh.\n",
    "\n",
    "Terrain following meshes are common in the environmental sciences, for instance\n",
    "in hydrological modelling (see\n",
    "[Maxwell 2013](https://www.sciencedirect.com/science/article/abs/pii/S0309170812002564)\n",
    "and\n",
    "[ParFlow](https://parflow.org)).\n",
    "\n",
    "Below, we domonstrate a simple way to make a 3D grid/mesh that\n",
    "follows a given topographic surface. In this example, it is important to note\n",
    "that the given digital elevation model (DEM) is structured (gridded and not\n",
    "triangulated): this is common for DEMs.\n"
   ]
  },
  {
   "cell_type": "code",
   "execution_count": 2,
   "metadata": {
    "scrolled": true
   },
   "outputs": [],
   "source": [
    "import math\n",
    "import numpy as np\n",
    "import pylab as plt\n",
    "import pyvista as pv\n",
    "from pyvista import examples"
   ]
  },
  {
   "cell_type": "code",
   "execution_count": 3,
   "metadata": {
    "scrolled": true
   },
   "outputs": [],
   "source": [
    "%matplotlib widget\n",
    "from pyvista import set_plot_theme\n",
    "set_plot_theme('document')\n",
    "pv.set_jupyter_backend('pythreejs')"
   ]
  },
  {
   "cell_type": "markdown",
   "metadata": {},
   "source": [
    "Download a gridded topography surface (DEM) using one of the examples provided by PyVista.\n",
    "\n"
   ]
  },
  {
   "cell_type": "code",
   "execution_count": 4,
   "metadata": {
    "scrolled": true
   },
   "outputs": [
    {
     "data": {
      "text/html": [
       "<table><tr><th>Header</th><th>Data Arrays</th></tr><tr><td>\n",
       "<table>\n",
       "<tr><th>UniformGrid</th><th>Information</th></tr>\n",
       "<tr><td>N Cells</td><td>1677401</td></tr>\n",
       "<tr><td>N Points</td><td>1680000</td></tr>\n",
       "<tr><td>X Bounds</td><td>1.810e+06, 1.831e+06</td></tr>\n",
       "<tr><td>Y Bounds</td><td>5.640e+06, 5.658e+06</td></tr>\n",
       "<tr><td>Z Bounds</td><td>0.000e+00, 0.000e+00</td></tr>\n",
       "<tr><td>Dimensions</td><td>1400, 1200, 1</td></tr>\n",
       "<tr><td>Spacing</td><td>1.500e+01, 1.500e+01, 0.000e+00</td></tr>\n",
       "<tr><td>N Arrays</td><td>1</td></tr>\n",
       "</table>\n",
       "\n",
       "</td><td>\n",
       "<table>\n",
       "<tr><th>Name</th><th>Field</th><th>Type</th><th>N Comp</th><th>Min</th><th>Max</th></tr>\n",
       "<tr><td><b>scalar1of1</b></td><td>Points</td><td>float64</td><td>1</td><td>7.339e+02</td><td>2.787e+03</td></tr>\n",
       "</table>\n",
       "\n",
       "</td></tr> </table>"
      ],
      "text/plain": [
       "UniformGrid (0x7f987c196940)\n",
       "  N Cells:\t1677401\n",
       "  N Points:\t1680000\n",
       "  X Bounds:\t1.810e+06, 1.831e+06\n",
       "  Y Bounds:\t5.640e+06, 5.658e+06\n",
       "  Z Bounds:\t0.000e+00, 0.000e+00\n",
       "  Dimensions:\t1400, 1200, 1\n",
       "  Spacing:\t1.500e+01, 1.500e+01, 0.000e+00\n",
       "  N Arrays:\t1"
      ]
     },
     "execution_count": 4,
     "metadata": {},
     "output_type": "execute_result"
    }
   ],
   "source": [
    "dem = examples.download_crater_topo()\n",
    "dem"
   ]
  },
  {
   "cell_type": "code",
   "execution_count": 5,
   "metadata": {},
   "outputs": [],
   "source": [
    "#dir(dem)"
   ]
  },
  {
   "cell_type": "code",
   "execution_count": 6,
   "metadata": {},
   "outputs": [
    {
     "name": "stdout",
     "output_type": "stream",
     "text": [
      "[1810000. 1810015. 1810030. ... 1830955. 1830970. 1830985.]\n",
      "[5640000. 5640000. 5640000. ... 5657985. 5657985. 5657985.]\n",
      "[0. 0. 0. ... 0. 0. 0.]\n"
     ]
    }
   ],
   "source": [
    "type(dem)\n",
    "print(dem.x)\n",
    "print(dem.y)\n",
    "print(dem.z)"
   ]
  },
  {
   "cell_type": "code",
   "execution_count": 7,
   "metadata": {},
   "outputs": [],
   "source": [
    "#help(pv.UniformGridFilters.extract_subset)"
   ]
  },
  {
   "cell_type": "markdown",
   "metadata": {},
   "source": [
    "Now let's subsample and extract an area of interest to make this example\n",
    "simple (also the DEM we just loaded is pretty big).\n",
    "Since the DEM we loaded is a `pyvista.UniformGrid` mesh, we can use\n",
    "the `pyvista.UniformGridFilters.extract_subset` filter to extract a 257x257-point (256x256-cell) area from the DEM:\n",
    "\n"
   ]
  },
  {
   "cell_type": "code",
   "execution_count": 8,
   "metadata": {},
   "outputs": [
    {
     "data": {
      "text/html": [
       "<table><tr><th>Header</th><th>Data Arrays</th></tr><tr><td>\n",
       "<table>\n",
       "<tr><th>UniformGrid</th><th>Information</th></tr>\n",
       "<tr><td>N Cells</td><td>65536</td></tr>\n",
       "<tr><td>N Points</td><td>66049</td></tr>\n",
       "<tr><td>X Bounds</td><td>1.819e+06, 1.822e+06</td></tr>\n",
       "<tr><td>Y Bounds</td><td>5.647e+06, 5.651e+06</td></tr>\n",
       "<tr><td>Z Bounds</td><td>0.000e+00, 0.000e+00</td></tr>\n",
       "<tr><td>Dimensions</td><td>257, 257, 1</td></tr>\n",
       "<tr><td>Spacing</td><td>1.500e+01, 1.500e+01, 0.000e+00</td></tr>\n",
       "<tr><td>N Arrays</td><td>1</td></tr>\n",
       "</table>\n",
       "\n",
       "</td><td>\n",
       "<table>\n",
       "<tr><th>Name</th><th>Field</th><th>Type</th><th>N Comp</th><th>Min</th><th>Max</th></tr>\n",
       "<tr><td><b>scalar1of1</b></td><td>Points</td><td>float64</td><td>1</td><td>1.777e+03</td><td>2.787e+03</td></tr>\n",
       "</table>\n",
       "\n",
       "</td></tr> </table>"
      ],
      "text/plain": [
       "UniformGrid (0x7f987c1201c0)\n",
       "  N Cells:\t65536\n",
       "  N Points:\t66049\n",
       "  X Bounds:\t1.819e+06, 1.822e+06\n",
       "  Y Bounds:\t5.647e+06, 5.651e+06\n",
       "  Z Bounds:\t0.000e+00, 0.000e+00\n",
       "  Dimensions:\t257, 257, 1\n",
       "  Spacing:\t1.500e+01, 1.500e+01, 0.000e+00\n",
       "  N Arrays:\t1"
      ]
     },
     "execution_count": 8,
     "metadata": {},
     "output_type": "execute_result"
    }
   ],
   "source": [
    "subset = dem.extract_subset((572, 828, 472, 728, 0, 0), (1,1,1))\n",
    "subset\n",
    "# type(subset)"
   ]
  },
  {
   "cell_type": "markdown",
   "metadata": {},
   "source": [
    "Let's plot the area we just extracted to see what it looks like."
   ]
  },
  {
   "cell_type": "code",
   "execution_count": 9,
   "metadata": {},
   "outputs": [
    {
     "data": {
      "application/vnd.jupyter.widget-view+json": {
       "model_id": "0b353d542ab54a90b27e1ca50f4118e0",
       "version_major": 2,
       "version_minor": 0
      },
      "text/plain": [
       "Renderer(camera=PerspectiveCamera(aspect=1.3333333333333333, children=(DirectionalLight(intensity=0.25, positi…"
      ]
     },
     "metadata": {},
     "output_type": "display_data"
    }
   ],
   "source": [
    "pv.plot(subset)"
   ]
  },
  {
   "cell_type": "markdown",
   "metadata": {},
   "source": [
    "Now that we have a region of interest for our terrain following mesh, lets\n",
    "make a 3D surface of that DEM."
   ]
  },
  {
   "cell_type": "code",
   "execution_count": 10,
   "metadata": {
    "scrolled": true
   },
   "outputs": [
    {
     "data": {
      "text/html": [
       "<table><tr><th>Header</th><th>Data Arrays</th></tr><tr><td>\n",
       "<table>\n",
       "<tr><th>StructuredGrid</th><th>Information</th></tr>\n",
       "<tr><td>N Cells</td><td>65536</td></tr>\n",
       "<tr><td>N Points</td><td>66049</td></tr>\n",
       "<tr><td>X Bounds</td><td>1.819e+06, 1.822e+06</td></tr>\n",
       "<tr><td>Y Bounds</td><td>5.647e+06, 5.651e+06</td></tr>\n",
       "<tr><td>Z Bounds</td><td>1.777e+03, 2.787e+03</td></tr>\n",
       "<tr><td>Dimensions</td><td>257, 257, 1</td></tr>\n",
       "<tr><td>N Arrays</td><td>1</td></tr>\n",
       "</table>\n",
       "\n",
       "</td><td>\n",
       "<table>\n",
       "<tr><th>Name</th><th>Field</th><th>Type</th><th>N Comp</th><th>Min</th><th>Max</th></tr>\n",
       "<tr><td><b>scalar1of1</b></td><td>Points</td><td>float64</td><td>1</td><td>1.777e+03</td><td>2.787e+03</td></tr>\n",
       "</table>\n",
       "\n",
       "</td></tr> </table>"
      ],
      "text/plain": [
       "StructuredGrid (0x7f987b6794c0)\n",
       "  N Cells:\t65536\n",
       "  N Points:\t66049\n",
       "  X Bounds:\t1.819e+06, 1.822e+06\n",
       "  Y Bounds:\t5.647e+06, 5.651e+06\n",
       "  Z Bounds:\t1.777e+03, 2.787e+03\n",
       "  Dimensions:\t257, 257, 1\n",
       "  N Arrays:\t1"
      ]
     },
     "execution_count": 10,
     "metadata": {},
     "output_type": "execute_result"
    }
   ],
   "source": [
    "terrain = subset.warp_by_scalar() #Warp into a 3D surface mesh (without volume)\n",
    "terrain"
   ]
  },
  {
   "cell_type": "markdown",
   "metadata": {},
   "source": [
    "We can see that our terrain is now a `pyvista.StructuredGrid` mesh. Now let's plot our terrain."
   ]
  },
  {
   "cell_type": "code",
   "execution_count": 11,
   "metadata": {},
   "outputs": [
    {
     "data": {
      "application/vnd.jupyter.widget-view+json": {
       "model_id": "0482c78243e54e9ba5cbc9f10edda65e",
       "version_major": 2,
       "version_minor": 0
      },
      "text/plain": [
       "Renderer(camera=PerspectiveCamera(aspect=1.3333333333333333, children=(DirectionalLight(intensity=0.25, positi…"
      ]
     },
     "metadata": {},
     "output_type": "display_data"
    }
   ],
   "source": [
    "pv.plot(terrain)"
   ]
  },
  {
   "cell_type": "markdown",
   "metadata": {},
   "source": [
    "## Part 2: Coarsening the Mesh (and Writing Code)\n",
    "In this section, you will write code to generate a new coarse mesh from our `terrain` mesh. Coarse meshes generally provide less accurate solutions, but are computationally faster. \n",
    "\n",
    "Your new mesh should be a `StructuredGrid`, just like the original mesh, but with a lower resolution. This means you will need to redefine the (x, y, z) coordinate points of your mesh. We will explain how to redefine your coordinates a little later on.\n",
    "\n",
    "First, let's start with understanding how to generate a new mesh. You can initialize a new `StructuredGrid` object directly from the three point arrays that each contain the x, y, and z coordinates of all points in the mesh, respectively. Note: Each array is a 3D array with dimensions M x N x 1 (with the z-axis always being of length 1).\n",
    "\n",
    "You will find the following reference helpful: https://docs.pyvista.org/version/stable/examples/00-load/create-explicit-structured-grid.html#sphx-glr-examples-00-load-create-explicit-structured-grid-py.\n",
    "\n",
    "Let's look at the example below for initializing a new `StructuredGrid`."
   ]
  },
  {
   "cell_type": "code",
   "execution_count": 12,
   "metadata": {},
   "outputs": [
    {
     "name": "stderr",
     "output_type": "stream",
     "text": [
      "/opt/conda/lib/python3.8/site-packages/pyvista/utilities/helpers.py:475: UserWarning: Points is not a float type. This can cause issues when transforming or applying filters. Casting to ``np.float32``. Disable this by passing ``force_float=False``.\n",
      "  warnings.warn(\n"
     ]
    },
    {
     "data": {
      "text/html": [
       "\n",
       "<table>\n",
       "<tr><th>StructuredGrid</th><th>Information</th></tr>\n",
       "<tr><td>N Cells</td><td>729</td></tr>\n",
       "<tr><td>N Points</td><td>1000</td></tr>\n",
       "<tr><td>X Bounds</td><td>-1.000e+01, 8.000e+00</td></tr>\n",
       "<tr><td>Y Bounds</td><td>-1.000e+01, 8.000e+00</td></tr>\n",
       "<tr><td>Z Bounds</td><td>-1.000e+01, 8.000e+00</td></tr>\n",
       "<tr><td>Dimensions</td><td>10, 10, 10</td></tr>\n",
       "<tr><td>N Arrays</td><td>0</td></tr>\n",
       "</table>\n",
       "\n"
      ],
      "text/plain": [
       "StructuredGrid (0x7f987b6298e0)\n",
       "  N Cells:\t729\n",
       "  N Points:\t1000\n",
       "  X Bounds:\t-1.000e+01, 8.000e+00\n",
       "  Y Bounds:\t-1.000e+01, 8.000e+00\n",
       "  Z Bounds:\t-1.000e+01, 8.000e+00\n",
       "  Dimensions:\t10, 10, 10\n",
       "  N Arrays:\t0"
      ]
     },
     "execution_count": 12,
     "metadata": {},
     "output_type": "execute_result"
    }
   ],
   "source": [
    "xrng = np.arange(-10, 10, 2)                # [-10,  -8,  -6,  -4,  -2,   0,   2,   4,   6,   8]\n",
    "yrng = np.arange(-10, 10, 2)\n",
    "zrng = np.arange(-10, 10, 2)\n",
    "x_example, y_example, z_example = np.meshgrid(xrng, yrng, zrng)\n",
    "grid_example = pv.StructuredGrid(x_example, y_example, z_example)\n",
    "grid_example"
   ]
  },
  {
   "cell_type": "code",
   "execution_count": 13,
   "metadata": {},
   "outputs": [],
   "source": [
    "#dir(terrain)\n",
    "# terrain.GetBounds()"
   ]
  },
  {
   "cell_type": "code",
   "execution_count": 14,
   "metadata": {},
   "outputs": [],
   "source": [
    "# print(terrain.x.shape)\n",
    "# new_x = terrain.x[::2,::2,:]\n",
    "# print(new_x.shape)\n",
    "# print(new_x[10,:,:])"
   ]
  },
  {
   "cell_type": "code",
   "execution_count": 15,
   "metadata": {},
   "outputs": [],
   "source": [
    "# print(terrain.y.shape)\n",
    "# new_y = terrain.y[::2,::2,:]\n",
    "# print(new_y.shape)\n",
    "# print(new_y[:,10,:])"
   ]
  },
  {
   "cell_type": "code",
   "execution_count": 16,
   "metadata": {},
   "outputs": [
    {
     "name": "stdout",
     "output_type": "stream",
     "text": [
      "(257, 257, 1)\n",
      "[1804.57 1804.36 1803.23 1801.25 1798.36 1793.65 1790.99 1792.03 1795.19\n",
      " 1797.06 1795.59 1789.51 1782.07 1777.38 1777.8  1783.47 1792.91 1801.77\n",
      " 1810.81 1819.5  1826.43 1831.52 1834.17 1834.1  1832.09 1828.79 1826.46\n",
      " 1825.62 1825.57 1825.77 1825.77 1825.21 1825.24 1828.46 1834.65 1839.69\n",
      " 1842.16 1843.42 1843.53 1842.58 1840.67 1840.07 1840.19 1841.32 1844.54\n",
      " 1847.05 1846.76 1845.26 1842.68 1841.07 1840.45 1840.19 1839.18 1834.99\n",
      " 1828.16 1819.17 1808.71 1799.65 1792.3  1786.17 1781.34 1780.52 1783.19\n",
      " 1786.13 1788.62 1790.18 1791.19 1791.82 1792.27 1792.69 1792.96 1791.83\n",
      " 1788.14 1784.36 1780.55 1778.66 1779.96 1783.83 1788.96 1793.84 1797.72\n",
      " 1801.39 1807.61 1814.21 1819.94 1822.76 1821.41 1819.23 1817.23 1820.5\n",
      " 1827.57 1835.38 1837.32 1836.86 1836.73 1837.42 1837.27 1837.52 1837.06\n",
      " 1836.15 1835.18 1834.97 1835.58 1835.9  1833.97 1830.76 1826.32 1821.2\n",
      " 1817.71 1815.65 1816.17 1820.68 1828.6  1836.2  1839.94 1840.66 1840.09\n",
      " 1840.3  1842.62 1844.41 1842.98 1839.93 1836.78 1836.21 1840.78 1850.04\n",
      " 1861.81 1875.36 1887.69 1899.21 1909.93 1920.3  1930.78 1941.31 1951.95\n",
      " 1960.65 1968.08 1973.69 1975.71 1975.66 1974.96 1973.99 1973.65 1974.26\n",
      " 1976.77 1981.74 1991.   2001.08 2011.05 2018.39 2022.36 2024.16 2024.86\n",
      " 2025.06 2025.05 2024.96 2024.89 2024.77 2024.29 2022.89 2020.58 2018.89\n",
      " 2016.46 2014.82 2013.27 2012.31 2011.85 2011.71 2011.85 2012.27 2012.95\n",
      " 2013.92 2014.95 2014.98 2013.93 2012.78 2011.74 2010.79 2010.   2009.3\n",
      " 2008.6  2007.8  2006.67 2005.07 2002.77 1999.99 1997.6  1996.38 1995.52\n",
      " 1994.38 1993.96 1994.73 1996.64 1998.99 1999.5  1998.47 1994.99 1990.61\n",
      " 1985.43 1979.44 1972.58 1964.99 1956.86 1948.5  1941.36 1936.37 1932.55\n",
      " 1932.21 1932.06 1930.36 1927.34 1923.51 1919.39 1915.79 1909.78 1902.98\n",
      " 1898.97 1898.01 1899.14 1898.83 1896.99 1895.75 1894.83 1893.99 1894.31\n",
      " 1894.66 1895.08 1895.91 1897.37 1899.3  1899.07 1895.99 1891.91 1887.5\n",
      " 1883.43 1880.41 1880.26 1882.3  1884.75 1886.88 1888.31 1889.31 1890.39\n",
      " 1892.19 1895.22 1898.67 1900.78 1903.29 1904.43 1903.91 1900.86 1894.22\n",
      " 1882.98 1872.83 1864.08 1860.16 1858.11]\n"
     ]
    }
   ],
   "source": [
    "print(terrain.z.shape)\n",
    "new_z = terrain.z[0,:,0]\n",
    "print(new_z)\n"
   ]
  },
  {
   "cell_type": "markdown",
   "metadata": {},
   "source": [
    "Now, let's follow the same general steps as in the above example to generate our new coarse mesh from our previously created `terrain` mesh.\n",
    "\n",
    "We can coarsen the mesh by merging every `f` quads/cells into one and dropping the center point, where `f` is your sampling factor aka the factor by which you want to reduce the resolution. In other words, we can produce a reduced version of the mesh by sampling one out of every `f` points along each axis of the mesh.\n",
    "\n",
    "Write code to coarsen `terrain` by a **factor of 2**. In other words, we will be converting the mesh from a 257x257-point mesh to a 129x129-point mesh (or equivalently, a 256x256-cell mesh to a 128x128-cell mesh). \n",
    "\n",
    "In the code block below, complete the implementation of `coarsen(terrain)` by defining three new point arrays, `xnew`, `ynew`, and `znew` and composing them into a new `StructuredGrid` object named `coarse`. Your function should return a tuple containing `(xnew, ynew, znew, coarse)`.\n",
    "You will find the following reference helpful: https://docs.pyvista.org/version/stable/api/core/_autosummary/pyvista.StructuredGrid.html."
   ]
  },
  {
   "cell_type": "code",
   "execution_count": 17,
   "metadata": {
    "nbgrader": {
     "grade": false,
     "grade_id": "coarsenMesh",
     "locked": false,
     "schema_version": 3,
     "solution": true,
     "task": false
    }
   },
   "outputs": [],
   "source": [
    "#NOTE: You do not need to round any values within your results.\n",
    "def coarsen(terrain, f=2):\n",
    "   \n",
    "    coarse_grid = pv.StructuredGrid(terrain.x[::f,::f,:], terrain.y[::f,::f,:], terrain.z[::f,::f,:])\n",
    "    \n",
    "    x_new = coarse_grid.x\n",
    "    y_new = coarse_grid.y\n",
    "    z_new = coarse_grid.z\n",
    "    \n",
    "    return(x_new, y_new, z_new, coarse_grid)\n",
    "    \n",
    "    ### END STUDENT SOLUTION"
   ]
  },
  {
   "cell_type": "code",
   "execution_count": 18,
   "metadata": {
    "nbgrader": {
     "grade": true,
     "grade_id": "coarsenMesh_test",
     "locked": true,
     "points": 5,
     "schema_version": 3,
     "solution": false,
     "task": false
    }
   },
   "outputs": [
    {
     "name": "stdout",
     "output_type": "stream",
     "text": [
      "Coarsening from 257 to 129...\n"
     ]
    }
   ],
   "source": [
    "### Tests for coarsenMesh. \n",
    "### Please DO NOT hard-code the answers as we will also be using hidden test cases when grading your submission.\n",
    "\n",
    "print(f\"Coarsening from {terrain.dimensions[0]} to {math.ceil(terrain.dimensions[0]/2)}...\")\n",
    "xnew, ynew, znew, coarse = coarsen(terrain)\n",
    "\n",
    "assert xnew.shape == (129,129,1)\n",
    "assert ynew.shape == (129,129,1)\n",
    "np.testing.assert_allclose(xnew[0][0][0],1818580, rtol=1e-7)\n",
    "np.testing.assert_allclose(xnew[5][120][0],1818730, rtol=1e-7)\n",
    "np.testing.assert_allclose(ynew[128][120][0],5650680, rtol=1e-7)\n",
    "np.testing.assert_allclose(znew[12][12][0],1880.53, rtol=1e-5)"
   ]
  },
  {
   "cell_type": "markdown",
   "metadata": {},
   "source": [
    "We can plot the z-values of our new coarsened mesh by adding an additional attribute `values` to our mesh, which will contain a normalized, column-major flattened representation of the z-axis values of our grid.\n",
    "\n",
    "See the following reference for more information on array flattening: https://numpy.org/doc/stable/reference/generated/numpy.ndarray.flatten.html"
   ]
  },
  {
   "cell_type": "code",
   "execution_count": 19,
   "metadata": {},
   "outputs": [
    {
     "data": {
      "application/vnd.jupyter.widget-view+json": {
       "model_id": "e23a87f809ff443d86d748bcb8446e28",
       "version_major": 2,
       "version_minor": 0
      },
      "text/plain": [
       "Renderer(camera=PerspectiveCamera(aspect=1.3333333333333333, children=(DirectionalLight(intensity=0.25, positi…"
      ]
     },
     "metadata": {},
     "output_type": "display_data"
    }
   ],
   "source": [
    "#Plot the z-values using the viridis (default) color map\n",
    "coarse['values'] = pv.plotting.normalize(coarse.z.flatten(\"F\"))\n",
    "\n",
    "pv.plot(coarse, scalars='values')"
   ]
  },
  {
   "cell_type": "markdown",
   "metadata": {},
   "source": [
    "## Part 3: Visualizing Error Values\n",
    "\n",
    "Now that we have generated our coarse mesh, we can visualize the error in elevation between our coarse mesh and our original mesh. More specifically, we want to compute the error value for each point between the new (bilinearly interpolated) center point elevation and the original. We will then visualize the error as a scalar field on the original mesh."
   ]
  },
  {
   "cell_type": "markdown",
   "metadata": {},
   "source": [
    "Since we will need to bilinearly interpolate the center point elevation (i.e. the z-value) of each point in our coarse mesh in order to match the dimensions of our original mesh, let's define a function to do just that.\n",
    "\n",
    "Define the function `bilin()` to bilinearly interpolate the value at coordinates `(x,y)` within a rectilinear grid of points.\n",
    "\n",
    "**The parameters of your function are:**\n",
    "- `x` = x-coordinate of point whose value we wish to interpolate\n",
    "- `y` = y-coordinate of point whose value we wish to interpolate\n",
    "- `points` = a list of four triplets of the form `(xc, yc, val)`, where `val` denotes the function value associated with coordinates `(xc, yc)`\n",
    "\n",
    "This function should return a bilinearly interpolated value associated with coordinate `(x,y)` w.r.t the rectilinear grid formed by `points`.\n",
    "\n",
    "**Hints:**\n",
    "- You may assume the four triplets within `points` form a valid rectangle\n",
    "- You may assume `x` and `y` fall within the rectangle formed by the `points` parameter\n",
    "- You should NOT assume the four triplets within `points` are in any specific order"
   ]
  },
  {
   "cell_type": "code",
   "execution_count": 20,
   "metadata": {
    "nbgrader": {
     "grade": false,
     "grade_id": "bilin",
     "locked": false,
     "schema_version": 3,
     "solution": true,
     "task": false
    }
   },
   "outputs": [],
   "source": [
    "#grade (write your code in this cell and DO NOT DELETE THIS LINE)\n",
    "#NOTE: You do not need to round any values within your results.\n",
    "def bilin(x, y, points):\n",
    "    ### BEGIN STUDENT SOLUTION\n",
    "    points_sorted = sorted(points, key=lambda x: x[0])\n",
    "    g1 = sorted(points_sorted[:2], key=lambda x: x[1])  # Group One (left) sorted in y \n",
    "    g2 = sorted(points_sorted[2:], key=lambda x: x[1])  # Group Two (right) sorted in y\n",
    "    \n",
    "    # Interpolation in y\n",
    "    t1 = (y - g1[0][1]) / (g1[1][1] - g1[0][1]) \n",
    "    v1 = (1 - t1) * g1[0][2] + t1 * g1[1][2] \n",
    "    v2 = (1 - t1) * g2[0][2] + t1 * g2[1][2]\n",
    "    \n",
    "    # Interpolation in x\n",
    "    t2 = (x - g1[0][0]) / (g2[0][0] - g1[0][0])\n",
    "    v_int = (1 - t2) * v1 + t2 * v2\n",
    "    return v_int\n",
    "    \n",
    "    ### END STUDENT SOLUTION"
   ]
  },
  {
   "cell_type": "code",
   "execution_count": 21,
   "metadata": {},
   "outputs": [],
   "source": [
    "# testing_points = [(1,1,3), (3,1,6), (1,3,7), (3,3,9)]\n",
    "# v_int = bilin(2,2, testing_points)\n",
    "# print(v_int)"
   ]
  },
  {
   "cell_type": "code",
   "execution_count": 22,
   "metadata": {
    "nbgrader": {
     "grade": true,
     "grade_id": "bilin_test",
     "locked": true,
     "points": 5,
     "schema_version": 3,
     "solution": false,
     "task": false
    }
   },
   "outputs": [],
   "source": [
    "### Tests for bilin(x, y, points) function. \n",
    "### Please DO NOT hard-code the answers as we will also be using hidden test cases when grading your submission.\n",
    "testing_points = [(1,1,3), (3,1,6), (1,3,7), (3,3,9)]\n",
    "result = bilin(2,2,testing_points)\n",
    "np.testing.assert_allclose(result,6.25, rtol=1e-2)\n",
    "result = bilin(2.5,2.5,testing_points)\n",
    "np.testing.assert_allclose(result,7.6875, rtol=1e-3)\n",
    "result = bilin(1.1,1.1,testing_points)\n",
    "np.testing.assert_allclose(result,3.3475, rtol=1e-3)"
   ]
  },
  {
   "cell_type": "markdown",
   "metadata": {},
   "source": [
    "Now, using your `bilin()` function, create a new mesh or `StructuredGrid` object named `intmesh`, reconstructed from `coarse` using bilinear interpolation, with the same dimensions as our original mesh `terrain`. Your new mesh should contain the interpolated z-values for each point in `terrain`.\n",
    "\n",
    "As a starting point, we have defined some of the variables that will be helpful to you for creating your new interpolated mesh. Specifically, we will be checking the values in `errz` and `intz`, as defined below:\n",
    "- `intz`: a 3D array with the same shape as `terrain.z` that will contain the bilinearly interpolated z-values from the coarsened mesh.<br/>**Note:** `intz` is a 3D M x N x 1 array where the last dimension contains the z-values. You should note this when assigning elements to `intz`. The interpolated mesh is a 3D M by N by 1 array, so tests will fail if you assign values to it as if it were just a 2D M by N array, bypassing the z-axis entirely. So, if your code looks like `intz[x][y] = bilin(...)` the fix is to change it to something like `intz[x][y] = [ bilin(...) ]` or  `intz[x][y][0] = bilin(...)`.\n",
    "\n",
    "- `errz`: a list of scalar values. This should contain the absolute error values between each z-value in the original mesh and each interpolated z-value in the new returned mesh\n",
    "\n",
    "Just like how we added the attribute `values` to our coarse mesh in order to plot the z-values of the mesh, you should add an additional attribute `errors` to `intmesh` in order to plot the absolute error values between the z-values in the original mesh and the interpolated z-values in our new returned mesh.\n",
    "\n",
    "In the code block below, complete the implementation of `reconstructMesh(terrain,coarse)`, which should return a tuple containing `(intz, errz, intmesh)`."
   ]
  },
  {
   "cell_type": "code",
   "execution_count": 23,
   "metadata": {},
   "outputs": [
    {
     "data": {
      "text/plain": [
       "(257, 257, 1)"
      ]
     },
     "execution_count": 23,
     "metadata": {},
     "output_type": "execute_result"
    }
   ],
   "source": [
    "np.zeros_like(terrain.z).shape"
   ]
  },
  {
   "cell_type": "code",
   "execution_count": 24,
   "metadata": {},
   "outputs": [
    {
     "data": {
      "text/plain": [
       "pyvista_ndarray([1818580., 1818595., 1818610., 1818625., 1818640.,\n",
       "                 1818655., 1818670., 1818685., 1818700., 1818715.,\n",
       "                 1818730., 1818745., 1818760., 1818775., 1818790.,\n",
       "                 1818805., 1818820., 1818835., 1818850., 1818865.,\n",
       "                 1818880., 1818895., 1818910., 1818925., 1818940.,\n",
       "                 1818955., 1818970., 1818985., 1819000., 1819015.,\n",
       "                 1819030., 1819045., 1819060., 1819075., 1819090.,\n",
       "                 1819105., 1819120., 1819135., 1819150., 1819165.,\n",
       "                 1819180., 1819195., 1819210., 1819225., 1819240.,\n",
       "                 1819255., 1819270., 1819285., 1819300., 1819315.,\n",
       "                 1819330., 1819345., 1819360., 1819375., 1819390.,\n",
       "                 1819405., 1819420., 1819435., 1819450., 1819465.,\n",
       "                 1819480., 1819495., 1819510., 1819525., 1819540.,\n",
       "                 1819555., 1819570., 1819585., 1819600., 1819615.,\n",
       "                 1819630., 1819645., 1819660., 1819675., 1819690.,\n",
       "                 1819705., 1819720., 1819735., 1819750., 1819765.,\n",
       "                 1819780., 1819795., 1819810., 1819825., 1819840.,\n",
       "                 1819855., 1819870., 1819885., 1819900., 1819915.,\n",
       "                 1819930., 1819945., 1819960., 1819975., 1819990.,\n",
       "                 1820005., 1820020., 1820035., 1820050., 1820065.,\n",
       "                 1820080., 1820095., 1820110., 1820125., 1820140.,\n",
       "                 1820155., 1820170., 1820185., 1820200., 1820215.,\n",
       "                 1820230., 1820245., 1820260., 1820275., 1820290.,\n",
       "                 1820305., 1820320., 1820335., 1820350., 1820365.,\n",
       "                 1820380., 1820395., 1820410., 1820425., 1820440.,\n",
       "                 1820455., 1820470., 1820485., 1820500., 1820515.,\n",
       "                 1820530., 1820545., 1820560., 1820575., 1820590.,\n",
       "                 1820605., 1820620., 1820635., 1820650., 1820665.,\n",
       "                 1820680., 1820695., 1820710., 1820725., 1820740.,\n",
       "                 1820755., 1820770., 1820785., 1820800., 1820815.,\n",
       "                 1820830., 1820845., 1820860., 1820875., 1820890.,\n",
       "                 1820905., 1820920., 1820935., 1820950., 1820965.,\n",
       "                 1820980., 1820995., 1821010., 1821025., 1821040.,\n",
       "                 1821055., 1821070., 1821085., 1821100., 1821115.,\n",
       "                 1821130., 1821145., 1821160., 1821175., 1821190.,\n",
       "                 1821205., 1821220., 1821235., 1821250., 1821265.,\n",
       "                 1821280., 1821295., 1821310., 1821325., 1821340.,\n",
       "                 1821355., 1821370., 1821385., 1821400., 1821415.,\n",
       "                 1821430., 1821445., 1821460., 1821475., 1821490.,\n",
       "                 1821505., 1821520., 1821535., 1821550., 1821565.,\n",
       "                 1821580., 1821595., 1821610., 1821625., 1821640.,\n",
       "                 1821655., 1821670., 1821685., 1821700., 1821715.,\n",
       "                 1821730., 1821745., 1821760., 1821775., 1821790.,\n",
       "                 1821805., 1821820., 1821835., 1821850., 1821865.,\n",
       "                 1821880., 1821895., 1821910., 1821925., 1821940.,\n",
       "                 1821955., 1821970., 1821985., 1822000., 1822015.,\n",
       "                 1822030., 1822045., 1822060., 1822075., 1822090.,\n",
       "                 1822105., 1822120., 1822135., 1822150., 1822165.,\n",
       "                 1822180., 1822195., 1822210., 1822225., 1822240.,\n",
       "                 1822255., 1822270., 1822285., 1822300., 1822315.,\n",
       "                 1822330., 1822345., 1822360., 1822375., 1822390.,\n",
       "                 1822405.], dtype=float32)"
      ]
     },
     "execution_count": 24,
     "metadata": {},
     "output_type": "execute_result"
    }
   ],
   "source": [
    "terrain.x[:-1,0,0]"
   ]
  },
  {
   "cell_type": "code",
   "execution_count": 25,
   "metadata": {
    "nbgrader": {
     "grade": false,
     "grade_id": "vizError",
     "locked": false,
     "schema_version": 3,
     "solution": true,
     "task": false
    }
   },
   "outputs": [],
   "source": [
    "#grade (write your code in this cell and DO NOT DELETE THIS LINE)\n",
    "#NOTE: You do not need to round any values within your results.\n",
    "import copy \n",
    "def reconstructMesh(terrain,coarse):\n",
    "    #errz   = [] #Create a new empty list for holding absolute error values\n",
    "    intz   = np.zeros_like(terrain.z) #Create a new array for holding bilinearly interpolated values from coarse mesh\n",
    "    errz_mtx = np.zeros_like(terrain.z)\n",
    "    scale  = (terrain.z.shape[0]-1)/(coarse.z.shape[0]-1) #Reduction factor between original and coarse; should equal 2\n",
    "\n",
    "    ### BEGIN STUDENT SOLUTION\n",
    "    x_vec_fine = list(terrain.x[:,0,0])\n",
    "    y_vec_fine = list(terrain.y[0,:,0])\n",
    "    \n",
    "    x_vec_coarse = list(coarse.x[:,0,0])\n",
    "    y_vec_coarse = list(coarse.y[0,:,0])\n",
    "    \n",
    "    for i in range(len(x_vec_coarse) - 1):\n",
    "        for j in range(len(y_vec_coarse) - 1):\n",
    "            points = [(x_vec_coarse[i], y_vec_coarse[j], coarse.z[i, j, 0]),\n",
    "                     (x_vec_coarse[i + 1], y_vec_coarse[j], coarse.z[i + 1, j, 0]),\n",
    "                     (x_vec_coarse[i], y_vec_coarse[j + 1], coarse.z[i, j + 1, 0]),\n",
    "                     (x_vec_coarse[i + 1], y_vec_coarse[j + 1], coarse.z[i + 1, j + 1, 0])]\n",
    "            for ii in range(2*i, 2*i + 3):\n",
    "                for jj in range(2*j, 2*j + 3):            \n",
    "                    intz[ii][jj][0] = bilin(x_vec_fine[ii], y_vec_fine[jj], points)\n",
    "                    errz_mtx[ii][jj][0] = abs(terrain.z[ii, jj, 0] - intz[ii][jj][0])\n",
    "    \n",
    "    errz = list(errz_mtx.flatten(\"C\"))\n",
    "    \n",
    "    terrain['errors'] = pv.plotting.normalize(errz_mtx.flatten(\"C\"))\n",
    "    intmesh = copy.deepcopy(terrain)\n",
    "    \n",
    "    return (intz, errz, intmesh)\n",
    "    \n",
    "    ### END STUDENT SOLUTION"
   ]
  },
  {
   "cell_type": "code",
   "execution_count": 26,
   "metadata": {},
   "outputs": [],
   "source": [
    "# x_vec = list(terrain.x[:-1,0,0])\n",
    "# x_vec\n",
    "# errz"
   ]
  },
  {
   "cell_type": "code",
   "execution_count": 27,
   "metadata": {
    "nbgrader": {
     "grade": true,
     "grade_id": "vizError_tests",
     "locked": true,
     "points": 5,
     "schema_version": 3,
     "solution": false,
     "task": false
    }
   },
   "outputs": [],
   "source": [
    "### Tests for vizError. \n",
    "### Please DO NOT hard-code the answers as we will also be using hidden test cases when grading your submission.\n",
    "intz, errz, intmesh = reconstructMesh(terrain,coarse)\n",
    "np.testing.assert_allclose(intz[130][130][0],2547.8, rtol=1e-4)\n",
    "np.testing.assert_allclose(intz[247][13][0],2142.71, rtol=1e-5)\n",
    "np.testing.assert_allclose(errz[89],1.89996337890625, rtol=1e-2)\n",
    "np.testing.assert_allclose(errz[30678],1.18499755859375, rtol=1e-2)\n",
    "np.testing.assert_allclose(errz[-10],1.0299072265625, rtol=1e-2)"
   ]
  },
  {
   "cell_type": "code",
   "execution_count": 28,
   "metadata": {},
   "outputs": [
    {
     "data": {
      "text/html": [
       "<table><tr><th>Header</th><th>Data Arrays</th></tr><tr><td>\n",
       "<table>\n",
       "<tr><th>StructuredGrid</th><th>Information</th></tr>\n",
       "<tr><td>N Cells</td><td>65536</td></tr>\n",
       "<tr><td>N Points</td><td>66049</td></tr>\n",
       "<tr><td>X Bounds</td><td>1.819e+06, 1.822e+06</td></tr>\n",
       "<tr><td>Y Bounds</td><td>5.647e+06, 5.651e+06</td></tr>\n",
       "<tr><td>Z Bounds</td><td>1.777e+03, 2.787e+03</td></tr>\n",
       "<tr><td>Dimensions</td><td>257, 257, 1</td></tr>\n",
       "<tr><td>N Arrays</td><td>2</td></tr>\n",
       "</table>\n",
       "\n",
       "</td><td>\n",
       "<table>\n",
       "<tr><th>Name</th><th>Field</th><th>Type</th><th>N Comp</th><th>Min</th><th>Max</th></tr>\n",
       "<tr><td><b>errors</b></td><td>Points</td><td>float32</td><td>1</td><td>0.000e+00</td><td>1.000e+00</td></tr>\n",
       "<tr><td>scalar1of1</td><td>Points</td><td>float64</td><td>1</td><td>1.777e+03</td><td>2.787e+03</td></tr>\n",
       "</table>\n",
       "\n",
       "</td></tr> </table>"
      ],
      "text/plain": [
       "StructuredGrid (0x7f987b558760)\n",
       "  N Cells:\t65536\n",
       "  N Points:\t66049\n",
       "  X Bounds:\t1.819e+06, 1.822e+06\n",
       "  Y Bounds:\t5.647e+06, 5.651e+06\n",
       "  Z Bounds:\t1.777e+03, 2.787e+03\n",
       "  Dimensions:\t257, 257, 1\n",
       "  N Arrays:\t2"
      ]
     },
     "execution_count": 28,
     "metadata": {},
     "output_type": "execute_result"
    }
   ],
   "source": [
    "intmesh"
   ]
  },
  {
   "cell_type": "markdown",
   "metadata": {},
   "source": [
    "Now we can visualize the error values that we computed! We recommend adjusting the color map to better visualize the error values. You can change the color map by clicking the settings icon at the top left of the interface."
   ]
  },
  {
   "cell_type": "code",
   "execution_count": 29,
   "metadata": {},
   "outputs": [
    {
     "name": "stdout",
     "output_type": "stream",
     "text": [
      "Visualizing error between resolutions 257 and 129...\n"
     ]
    },
    {
     "data": {
      "application/vnd.jupyter.widget-view+json": {
       "model_id": "a43d1a06243246acbb39cf3b2c9f7532",
       "version_major": 2,
       "version_minor": 0
      },
      "text/plain": [
       "Renderer(camera=PerspectiveCamera(aspect=1.3333333333333333, children=(DirectionalLight(intensity=0.25, positi…"
      ]
     },
     "metadata": {},
     "output_type": "display_data"
    }
   ],
   "source": [
    "print(f\"Visualizing error between resolutions {terrain.dimensions[0]} and {math.ceil(terrain.dimensions[0]/2)}...\")\n",
    "\n",
    "pv.plot(intmesh, scalars='errors')"
   ]
  },
  {
   "cell_type": "markdown",
   "metadata": {},
   "source": [
    "For reference, here is a sample of what your final visualization should look like (with the magma colormap applied):\n",
    "<img src='error-visualization.png' width=600/>"
   ]
  },
  {
   "cell_type": "markdown",
   "metadata": {},
   "source": [
    "As you can see the error values are represented in thin lines. One of the things that can be done to visualize the erroneous regions in a clearer way is to smooth the image. There are different methods for image smoothing, but here we use a simple one that updates the error value of each pixel as the average of the error of its surrounding pixels. For this purpose we want to use a $k \\times k$ 2D convolution with a value of $\\frac{1}{k^2}$ at each element. `scipy.signal` has an implementation of this function. The `errz` list that your `reconstructMesh` outputs is $1$-dimensional, so you would have to reshape it to the correct dimensions of your grid before giving that as input to the `convolve2d` function. You need to flatten this array again before returning that in the function below. For `convolve2d`, use the symmetrical boundary condition (see this for more info: \n",
    "[convolve2d](https://docs.scipy.org/doc/scipy/reference/generated/scipy.signal.convolve2d.html))"
   ]
  },
  {
   "cell_type": "code",
   "execution_count": 30,
   "metadata": {
    "nbgrader": {
     "grade": false,
     "grade_id": "smoothError_tests",
     "locked": false,
     "schema_version": 3,
     "solution": true,
     "task": false
    }
   },
   "outputs": [],
   "source": [
    "#grade (write your code in this cell and DO NOT DELETE THIS LINE)\n",
    "#NOTE: You do not need to round any values within your results.\n",
    "from scipy import signal\n",
    "\n",
    "def smoothed_errors(errz, shape, kernel_size):\n",
    "    ### BEGIN STUDENT SOLUTION\n",
    "    if isinstance(errz, list):\n",
    "        errz = np.array(errz)\n",
    "    errz_mtx = errz.reshape(shape[0], shape[1])\n",
    "    kernel = np.ones((kernel_size, kernel_size)) * (1 / kernel_size**2) \n",
    "    conv_2d = signal.convolve2d(errz_mtx, kernel, boundary='symm', mode='same')\n",
    "    \n",
    "    smoothed_errz = conv_2d.flatten(\"C\")                                \n",
    "    \n",
    "    return smoothed_errz\n",
    "\n",
    "    ### END STUDENT SOLUTION"
   ]
  },
  {
   "cell_type": "code",
   "execution_count": 31,
   "metadata": {},
   "outputs": [
    {
     "data": {
      "text/plain": [
       "(66049,)"
      ]
     },
     "execution_count": 31,
     "metadata": {},
     "output_type": "execute_result"
    }
   ],
   "source": [
    "shape = (terrain.z.shape[0], terrain.z.shape[1])\n",
    "np.random.seed(1)\n",
    "rand_errz = np.random.uniform(low=0.0, high=1.0, size=len(errz))\n",
    "smoothed_errz = smoothed_errors(rand_errz, shape, 4)\n",
    "smoothed_errz.shape"
   ]
  },
  {
   "cell_type": "code",
   "execution_count": 32,
   "metadata": {
    "nbgrader": {
     "grade": true,
     "grade_id": "smoothError_tests",
     "locked": true,
     "points": 5,
     "schema_version": 3,
     "solution": false,
     "task": false
    }
   },
   "outputs": [],
   "source": [
    "### Tests for smoothing the error. \n",
    "### Please DO NOT hard-code the answers as we will also be using hidden test cases when grading your submission.\n",
    "shape = (terrain.z.shape[0], terrain.z.shape[1])\n",
    "np.random.seed(1)\n",
    "rand_errz = np.random.uniform(low=0.0, high=1.0, size=len(errz))\n",
    "smoothed_errz = smoothed_errors(rand_errz, shape, 4)\n",
    "np.testing.assert_allclose(smoothed_errz[95],0.5182084931710876, rtol=1e-2)\n",
    "np.testing.assert_allclose(smoothed_errz[103],0.6119100598363368, rtol=1e-2)"
   ]
  },
  {
   "cell_type": "markdown",
   "metadata": {},
   "source": [
    "Now we can use this function to smooth the error values before visualizing it."
   ]
  },
  {
   "cell_type": "code",
   "execution_count": 33,
   "metadata": {},
   "outputs": [
    {
     "data": {
      "application/vnd.jupyter.widget-view+json": {
       "model_id": "9789f99785f94dcfb5f02a6e049be50a",
       "version_major": 2,
       "version_minor": 0
      },
      "text/plain": [
       "Renderer(camera=PerspectiveCamera(aspect=1.3333333333333333, children=(DirectionalLight(intensity=0.25, positi…"
      ]
     },
     "metadata": {},
     "output_type": "display_data"
    }
   ],
   "source": [
    "smoothed_errz = smoothed_errors(errz, shape, 2)\n",
    "intmesh['errors'] = pv.plotting.normalize(smoothed_errz)\n",
    "pl = pv.plot(intmesh, scalars='errors')"
   ]
  },
  {
   "cell_type": "markdown",
   "metadata": {},
   "source": [
    "As we increase the kernel size, the error values become smoother and less informative about the specific regions with higher error values:"
   ]
  },
  {
   "cell_type": "code",
   "execution_count": 34,
   "metadata": {},
   "outputs": [
    {
     "data": {
      "application/vnd.jupyter.widget-view+json": {
       "model_id": "1117e0c3018f4712ba70bbb06960df77",
       "version_major": 2,
       "version_minor": 0
      },
      "text/plain": [
       "Renderer(camera=PerspectiveCamera(aspect=1.3333333333333333, children=(DirectionalLight(intensity=0.25, positi…"
      ]
     },
     "metadata": {},
     "output_type": "display_data"
    }
   ],
   "source": [
    "smoothed_errz = smoothed_errors(errz, shape, 5)\n",
    "intmesh['errors'] = pv.plotting.normalize(smoothed_errz)\n",
    "pl = pv.plot(intmesh, scalars='errors')"
   ]
  },
  {
   "cell_type": "markdown",
   "metadata": {},
   "source": [
    "One way to keep the regions with larger error values in such visualizations more noticeable is to apply a non-linear transformation to the error values. One such simple transformation is to raise all the values to the same power. If this value is larger than 1, the larger values increase more greatly compared to the smaller values. If the power is less than 1, the values become more similar to each other:"
   ]
  },
  {
   "cell_type": "code",
   "execution_count": 35,
   "metadata": {},
   "outputs": [
    {
     "data": {
      "application/vnd.jupyter.widget-view+json": {
       "model_id": "f1cd648e000142ceba7e5f9253984187",
       "version_major": 2,
       "version_minor": 0
      },
      "text/plain": [
       "Renderer(camera=PerspectiveCamera(aspect=1.3333333333333333, children=(DirectionalLight(intensity=0.25, positi…"
      ]
     },
     "metadata": {},
     "output_type": "display_data"
    }
   ],
   "source": [
    "smoothed_errz = smoothed_errors(errz, shape, 5)\n",
    "transformed_errz = smoothed_errz**2\n",
    "intmesh['errors'] = pv.plotting.normalize(transformed_errz)\n",
    "pl = pv.plot(intmesh, scalars='errors')"
   ]
  },
  {
   "cell_type": "code",
   "execution_count": 36,
   "metadata": {},
   "outputs": [
    {
     "data": {
      "application/vnd.jupyter.widget-view+json": {
       "model_id": "def84cce859b438e9337aafedff484de",
       "version_major": 2,
       "version_minor": 0
      },
      "text/plain": [
       "Renderer(camera=PerspectiveCamera(aspect=1.3333333333333333, children=(DirectionalLight(intensity=0.25, positi…"
      ]
     },
     "metadata": {},
     "output_type": "display_data"
    }
   ],
   "source": [
    "smoothed_errz = smoothed_errors(errz, shape, 5)\n",
    "transformed_errz = smoothed_errz**0.5\n",
    "intmesh['errors'] = pv.plotting.normalize(transformed_errz)\n",
    "pl = pv.plot(intmesh, scalars='errors')"
   ]
  }
 ],
 "metadata": {
  "celltoolbar": "Create Assignment",
  "kernelspec": {
   "display_name": "Python 3",
   "language": "python",
   "name": "python3"
  },
  "language_info": {
   "codemirror_mode": {
    "name": "ipython",
    "version": 3
   },
   "file_extension": ".py",
   "mimetype": "text/x-python",
   "name": "python",
   "nbconvert_exporter": "python",
   "pygments_lexer": "ipython3",
   "version": "3.8.6"
  }
 },
 "nbformat": 4,
 "nbformat_minor": 4
}
