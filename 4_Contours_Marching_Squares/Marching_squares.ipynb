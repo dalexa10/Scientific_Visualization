{
  "cells": [
    {
      "cell_type": "markdown",
      "metadata": {
        "id": "view-in-github",
        "colab_type": "text"
      },
      "source": [
        "<a href=\"https://colab.research.google.com/github/dalexa10/Scientific_Visualization/blob/main/4_Contours_Marching_Squares/Marching_squares.ipynb\" target=\"_parent\"><img src=\"https://colab.research.google.com/assets/colab-badge.svg\" alt=\"Open In Colab\"/></a>"
      ]
    },
    {
      "cell_type": "code",
      "source": [
        "__author__ = 'Dario Rodriguez'"
      ],
      "metadata": {
        "id": "f4mdxWmPy3Yw"
      },
      "execution_count": 43,
      "outputs": []
    },
    {
      "cell_type": "markdown",
      "metadata": {
        "id": "SlZnQ5rsvWdG"
      },
      "source": [
        "# MP1: Marching Squares"
      ]
    },
    {
      "cell_type": "markdown",
      "metadata": {
        "id": "rWhN7x7cvWdI"
      },
      "source": [
        "In this activity, you will implement marching squares to draw 2D contour lines. The algorithm is described in\n",
        "in the Week 3 Lesson enititled Contouring: Marching Squares. You can also refer to the\n",
        "Wikipedia article (http://en.wikipedia.org/wiki/Marching_squares) but you should be aware that article uses different conventions than the lecture.\n",
        "For example, in the Wikipedia page, cells above the threshold are seen as a '1', and cells below are seen as a '0'; and in the 16-case picture, and '1' cells are marked as white, and the '0' cells are marked as black.\n",
        "This is different than almost any textbook presentation on the algorithm, so we'll stick with the lecture conventions.\n",
        "\n",
        "You will also implement and apply a new colormap and interpolation function.\n",
        "\n",
        "By the end of this activity, you should be able to generate an interactive visualization that toggles between the presence of contour lines, the colormap, and the use of interpolation on your contour lines. Your visualization should be able to produce the following images:\n",
        "\n",
        "<table>\n",
        "    <tr>\n",
        "        <td><h3 align=\"center\">Grayscale</h3><img src=https://raw.githubusercontent.com/dalexa10/Scientific_Visualization/4dc49d734ea25862452aa2e8fc02fca77921556a/4_Contours_Marching_Squares/grayscale-rough.png width='300'/></td>\n",
        "        <td><h3 align=\"center\">Plasma</h3><img src=https://raw.githubusercontent.com/dalexa10/Scientific_Visualization/4dc49d734ea25862452aa2e8fc02fca77921556a/4_Contours_Marching_Squares/plasma-rough.png width='300'/></td>\n",
        "        <td><h3 align=\"center\">Plasma with Interpolation</h3><img src=https://raw.githubusercontent.com/dalexa10/Scientific_Visualization/4dc49d734ea25862452aa2e8fc02fca77921556a/4_Contours_Marching_Squares/plasma-interpolated.png width='300'/></td>\n",
        "    </tr>\n",
        "</table>\n",
        "\n",
        "To simplify the assignment, we have taken care of the plotting required to create the visualization. You are only responsible for implementing the placeholder functions that are defined in Parts 1, 2, 3, and 4."
      ]
    },
    {
      "cell_type": "markdown",
      "metadata": {
        "id": "9ZfNlzkVvWdJ"
      },
      "source": [
        "Let's start by importing the libraries that we will use in this activity."
      ]
    },
    {
      "cell_type": "code",
      "source": [
        "!pip install ipympl"
      ],
      "metadata": {
        "colab": {
          "base_uri": "https://localhost:8080/"
        },
        "id": "tez_HnL3xy8_",
        "outputId": "d50ca88a-5444-4906-f475-1664368df3bd"
      },
      "execution_count": 5,
      "outputs": [
        {
          "output_type": "stream",
          "name": "stdout",
          "text": [
            "Looking in indexes: https://pypi.org/simple, https://us-python.pkg.dev/colab-wheels/public/simple/\n",
            "Requirement already satisfied: ipympl in /usr/local/lib/python3.10/dist-packages (0.9.3)\n",
            "Requirement already satisfied: ipython<9 in /usr/local/lib/python3.10/dist-packages (from ipympl) (7.34.0)\n",
            "Requirement already satisfied: numpy in /usr/local/lib/python3.10/dist-packages (from ipympl) (1.22.4)\n",
            "Requirement already satisfied: ipython-genutils in /usr/local/lib/python3.10/dist-packages (from ipympl) (0.2.0)\n",
            "Requirement already satisfied: pillow in /usr/local/lib/python3.10/dist-packages (from ipympl) (8.4.0)\n",
            "Requirement already satisfied: traitlets<6 in /usr/local/lib/python3.10/dist-packages (from ipympl) (5.7.1)\n",
            "Requirement already satisfied: ipywidgets<9,>=7.6.0 in /usr/local/lib/python3.10/dist-packages (from ipympl) (7.7.1)\n",
            "Requirement already satisfied: matplotlib<4,>=3.4.0 in /usr/local/lib/python3.10/dist-packages (from ipympl) (3.7.1)\n",
            "Requirement already satisfied: setuptools>=18.5 in /usr/local/lib/python3.10/dist-packages (from ipython<9->ipympl) (67.7.2)\n",
            "Requirement already satisfied: jedi>=0.16 in /usr/local/lib/python3.10/dist-packages (from ipython<9->ipympl) (0.18.2)\n",
            "Requirement already satisfied: decorator in /usr/local/lib/python3.10/dist-packages (from ipython<9->ipympl) (4.4.2)\n",
            "Requirement already satisfied: pickleshare in /usr/local/lib/python3.10/dist-packages (from ipython<9->ipympl) (0.7.5)\n",
            "Requirement already satisfied: prompt-toolkit!=3.0.0,!=3.0.1,<3.1.0,>=2.0.0 in /usr/local/lib/python3.10/dist-packages (from ipython<9->ipympl) (3.0.38)\n",
            "Requirement already satisfied: pygments in /usr/local/lib/python3.10/dist-packages (from ipython<9->ipympl) (2.14.0)\n",
            "Requirement already satisfied: backcall in /usr/local/lib/python3.10/dist-packages (from ipython<9->ipympl) (0.2.0)\n",
            "Requirement already satisfied: matplotlib-inline in /usr/local/lib/python3.10/dist-packages (from ipython<9->ipympl) (0.1.6)\n",
            "Requirement already satisfied: pexpect>4.3 in /usr/local/lib/python3.10/dist-packages (from ipython<9->ipympl) (4.8.0)\n",
            "Requirement already satisfied: ipykernel>=4.5.1 in /usr/local/lib/python3.10/dist-packages (from ipywidgets<9,>=7.6.0->ipympl) (5.5.6)\n",
            "Requirement already satisfied: widgetsnbextension~=3.6.0 in /usr/local/lib/python3.10/dist-packages (from ipywidgets<9,>=7.6.0->ipympl) (3.6.4)\n",
            "Requirement already satisfied: jupyterlab-widgets>=1.0.0 in /usr/local/lib/python3.10/dist-packages (from ipywidgets<9,>=7.6.0->ipympl) (3.0.7)\n",
            "Requirement already satisfied: contourpy>=1.0.1 in /usr/local/lib/python3.10/dist-packages (from matplotlib<4,>=3.4.0->ipympl) (1.0.7)\n",
            "Requirement already satisfied: cycler>=0.10 in /usr/local/lib/python3.10/dist-packages (from matplotlib<4,>=3.4.0->ipympl) (0.11.0)\n",
            "Requirement already satisfied: fonttools>=4.22.0 in /usr/local/lib/python3.10/dist-packages (from matplotlib<4,>=3.4.0->ipympl) (4.39.3)\n",
            "Requirement already satisfied: kiwisolver>=1.0.1 in /usr/local/lib/python3.10/dist-packages (from matplotlib<4,>=3.4.0->ipympl) (1.4.4)\n",
            "Requirement already satisfied: packaging>=20.0 in /usr/local/lib/python3.10/dist-packages (from matplotlib<4,>=3.4.0->ipympl) (23.1)\n",
            "Requirement already satisfied: pyparsing>=2.3.1 in /usr/local/lib/python3.10/dist-packages (from matplotlib<4,>=3.4.0->ipympl) (3.0.9)\n",
            "Requirement already satisfied: python-dateutil>=2.7 in /usr/local/lib/python3.10/dist-packages (from matplotlib<4,>=3.4.0->ipympl) (2.8.2)\n",
            "Requirement already satisfied: jupyter-client in /usr/local/lib/python3.10/dist-packages (from ipykernel>=4.5.1->ipywidgets<9,>=7.6.0->ipympl) (6.1.12)\n",
            "Requirement already satisfied: tornado>=4.2 in /usr/local/lib/python3.10/dist-packages (from ipykernel>=4.5.1->ipywidgets<9,>=7.6.0->ipympl) (6.3.1)\n",
            "Requirement already satisfied: parso<0.9.0,>=0.8.0 in /usr/local/lib/python3.10/dist-packages (from jedi>=0.16->ipython<9->ipympl) (0.8.3)\n",
            "Requirement already satisfied: ptyprocess>=0.5 in /usr/local/lib/python3.10/dist-packages (from pexpect>4.3->ipython<9->ipympl) (0.7.0)\n",
            "Requirement already satisfied: wcwidth in /usr/local/lib/python3.10/dist-packages (from prompt-toolkit!=3.0.0,!=3.0.1,<3.1.0,>=2.0.0->ipython<9->ipympl) (0.2.6)\n",
            "Requirement already satisfied: six>=1.5 in /usr/local/lib/python3.10/dist-packages (from python-dateutil>=2.7->matplotlib<4,>=3.4.0->ipympl) (1.16.0)\n",
            "Requirement already satisfied: notebook>=4.4.1 in /usr/local/lib/python3.10/dist-packages (from widgetsnbextension~=3.6.0->ipywidgets<9,>=7.6.0->ipympl) (6.4.8)\n",
            "Requirement already satisfied: jinja2 in /usr/local/lib/python3.10/dist-packages (from notebook>=4.4.1->widgetsnbextension~=3.6.0->ipywidgets<9,>=7.6.0->ipympl) (3.1.2)\n",
            "Requirement already satisfied: pyzmq>=17 in /usr/local/lib/python3.10/dist-packages (from notebook>=4.4.1->widgetsnbextension~=3.6.0->ipywidgets<9,>=7.6.0->ipympl) (23.2.1)\n",
            "Requirement already satisfied: argon2-cffi in /usr/local/lib/python3.10/dist-packages (from notebook>=4.4.1->widgetsnbextension~=3.6.0->ipywidgets<9,>=7.6.0->ipympl) (21.3.0)\n",
            "Requirement already satisfied: jupyter-core>=4.6.1 in /usr/local/lib/python3.10/dist-packages (from notebook>=4.4.1->widgetsnbextension~=3.6.0->ipywidgets<9,>=7.6.0->ipympl) (5.3.0)\n",
            "Requirement already satisfied: nbformat in /usr/local/lib/python3.10/dist-packages (from notebook>=4.4.1->widgetsnbextension~=3.6.0->ipywidgets<9,>=7.6.0->ipympl) (5.8.0)\n",
            "Requirement already satisfied: nbconvert in /usr/local/lib/python3.10/dist-packages (from notebook>=4.4.1->widgetsnbextension~=3.6.0->ipywidgets<9,>=7.6.0->ipympl) (6.5.4)\n",
            "Requirement already satisfied: nest-asyncio>=1.5 in /usr/local/lib/python3.10/dist-packages (from notebook>=4.4.1->widgetsnbextension~=3.6.0->ipywidgets<9,>=7.6.0->ipympl) (1.5.6)\n",
            "Requirement already satisfied: Send2Trash>=1.8.0 in /usr/local/lib/python3.10/dist-packages (from notebook>=4.4.1->widgetsnbextension~=3.6.0->ipywidgets<9,>=7.6.0->ipympl) (1.8.0)\n",
            "Requirement already satisfied: terminado>=0.8.3 in /usr/local/lib/python3.10/dist-packages (from notebook>=4.4.1->widgetsnbextension~=3.6.0->ipywidgets<9,>=7.6.0->ipympl) (0.17.1)\n",
            "Requirement already satisfied: prometheus-client in /usr/local/lib/python3.10/dist-packages (from notebook>=4.4.1->widgetsnbextension~=3.6.0->ipywidgets<9,>=7.6.0->ipympl) (0.16.0)\n",
            "Requirement already satisfied: platformdirs>=2.5 in /usr/local/lib/python3.10/dist-packages (from jupyter-core>=4.6.1->notebook>=4.4.1->widgetsnbextension~=3.6.0->ipywidgets<9,>=7.6.0->ipympl) (3.3.0)\n",
            "Requirement already satisfied: argon2-cffi-bindings in /usr/local/lib/python3.10/dist-packages (from argon2-cffi->notebook>=4.4.1->widgetsnbextension~=3.6.0->ipywidgets<9,>=7.6.0->ipympl) (21.2.0)\n",
            "Requirement already satisfied: MarkupSafe>=2.0 in /usr/local/lib/python3.10/dist-packages (from jinja2->notebook>=4.4.1->widgetsnbextension~=3.6.0->ipywidgets<9,>=7.6.0->ipympl) (2.1.2)\n",
            "Requirement already satisfied: lxml in /usr/local/lib/python3.10/dist-packages (from nbconvert->notebook>=4.4.1->widgetsnbextension~=3.6.0->ipywidgets<9,>=7.6.0->ipympl) (4.9.2)\n",
            "Requirement already satisfied: beautifulsoup4 in /usr/local/lib/python3.10/dist-packages (from nbconvert->notebook>=4.4.1->widgetsnbextension~=3.6.0->ipywidgets<9,>=7.6.0->ipympl) (4.11.2)\n",
            "Requirement already satisfied: bleach in /usr/local/lib/python3.10/dist-packages (from nbconvert->notebook>=4.4.1->widgetsnbextension~=3.6.0->ipywidgets<9,>=7.6.0->ipympl) (6.0.0)\n",
            "Requirement already satisfied: defusedxml in /usr/local/lib/python3.10/dist-packages (from nbconvert->notebook>=4.4.1->widgetsnbextension~=3.6.0->ipywidgets<9,>=7.6.0->ipympl) (0.7.1)\n",
            "Requirement already satisfied: entrypoints>=0.2.2 in /usr/local/lib/python3.10/dist-packages (from nbconvert->notebook>=4.4.1->widgetsnbextension~=3.6.0->ipywidgets<9,>=7.6.0->ipympl) (0.4)\n",
            "Requirement already satisfied: jupyterlab-pygments in /usr/local/lib/python3.10/dist-packages (from nbconvert->notebook>=4.4.1->widgetsnbextension~=3.6.0->ipywidgets<9,>=7.6.0->ipympl) (0.2.2)\n",
            "Requirement already satisfied: mistune<2,>=0.8.1 in /usr/local/lib/python3.10/dist-packages (from nbconvert->notebook>=4.4.1->widgetsnbextension~=3.6.0->ipywidgets<9,>=7.6.0->ipympl) (0.8.4)\n",
            "Requirement already satisfied: nbclient>=0.5.0 in /usr/local/lib/python3.10/dist-packages (from nbconvert->notebook>=4.4.1->widgetsnbextension~=3.6.0->ipywidgets<9,>=7.6.0->ipympl) (0.7.4)\n",
            "Requirement already satisfied: pandocfilters>=1.4.1 in /usr/local/lib/python3.10/dist-packages (from nbconvert->notebook>=4.4.1->widgetsnbextension~=3.6.0->ipywidgets<9,>=7.6.0->ipympl) (1.5.0)\n",
            "Requirement already satisfied: tinycss2 in /usr/local/lib/python3.10/dist-packages (from nbconvert->notebook>=4.4.1->widgetsnbextension~=3.6.0->ipywidgets<9,>=7.6.0->ipympl) (1.2.1)\n",
            "Requirement already satisfied: fastjsonschema in /usr/local/lib/python3.10/dist-packages (from nbformat->notebook>=4.4.1->widgetsnbextension~=3.6.0->ipywidgets<9,>=7.6.0->ipympl) (2.16.3)\n",
            "Requirement already satisfied: jsonschema>=2.6 in /usr/local/lib/python3.10/dist-packages (from nbformat->notebook>=4.4.1->widgetsnbextension~=3.6.0->ipywidgets<9,>=7.6.0->ipympl) (4.3.3)\n",
            "Requirement already satisfied: attrs>=17.4.0 in /usr/local/lib/python3.10/dist-packages (from jsonschema>=2.6->nbformat->notebook>=4.4.1->widgetsnbextension~=3.6.0->ipywidgets<9,>=7.6.0->ipympl) (23.1.0)\n",
            "Requirement already satisfied: pyrsistent!=0.17.0,!=0.17.1,!=0.17.2,>=0.14.0 in /usr/local/lib/python3.10/dist-packages (from jsonschema>=2.6->nbformat->notebook>=4.4.1->widgetsnbextension~=3.6.0->ipywidgets<9,>=7.6.0->ipympl) (0.19.3)\n",
            "Requirement already satisfied: cffi>=1.0.1 in /usr/local/lib/python3.10/dist-packages (from argon2-cffi-bindings->argon2-cffi->notebook>=4.4.1->widgetsnbextension~=3.6.0->ipywidgets<9,>=7.6.0->ipympl) (1.15.1)\n",
            "Requirement already satisfied: soupsieve>1.2 in /usr/local/lib/python3.10/dist-packages (from beautifulsoup4->nbconvert->notebook>=4.4.1->widgetsnbextension~=3.6.0->ipywidgets<9,>=7.6.0->ipympl) (2.4.1)\n",
            "Requirement already satisfied: webencodings in /usr/local/lib/python3.10/dist-packages (from bleach->nbconvert->notebook>=4.4.1->widgetsnbextension~=3.6.0->ipywidgets<9,>=7.6.0->ipympl) (0.5.1)\n",
            "Requirement already satisfied: pycparser in /usr/local/lib/python3.10/dist-packages (from cffi>=1.0.1->argon2-cffi-bindings->argon2-cffi->notebook>=4.4.1->widgetsnbextension~=3.6.0->ipywidgets<9,>=7.6.0->ipympl) (2.21)\n"
          ]
        }
      ]
    },
    {
      "cell_type": "code",
      "execution_count": 30,
      "metadata": {
        "id": "Xcn-MCBkvWdJ"
      },
      "outputs": [],
      "source": [
        "import random\n",
        "import numpy as np"
      ]
    },
    {
      "cell_type": "code",
      "execution_count": 4,
      "metadata": {
        "id": "ajdK-9FhvWdL"
      },
      "outputs": [],
      "source": [
        "import pylab as plt\n",
        "from matplotlib.widgets import Button\n",
        "from matplotlib.colors import ListedColormap, LinearSegmentedColormap\n",
        "%matplotlib widget"
      ]
    },
    {
      "cell_type": "markdown",
      "metadata": {
        "id": "szxg5DtSvWdL"
      },
      "source": [
        "We will use a 2-D Gaussian function to generate the grid that we will apply marching squares to."
      ]
    },
    {
      "cell_type": "code",
      "execution_count": 6,
      "metadata": {
        "id": "gslXo8DLvWdL"
      },
      "outputs": [],
      "source": [
        "def gauss_2d(mu, sigma, size=10):\n",
        "  x, y = np.meshgrid(np.linspace(-1,1,size), np.linspace(-1,1,size))\n",
        "  d    = np.sqrt(x*x+y*y)\n",
        "  g    = np.exp(-( (d-mu)**2 / ( 2.0 * sigma**2 ) ) )\n",
        "  return g"
      ]
    },
    {
      "cell_type": "markdown",
      "metadata": {
        "id": "G75UEUgevWdL"
      },
      "source": [
        "The following code constructs the `March` class which uses the functions you will define later on to plot an interactive visualization. This class uses the `matplotlib` library to generate the grid, contour lines, and colormaps.\n",
        "\n",
        "**Do NOT edit this class.** You may read through it for your own edification to understand how the visualization is constructed, but it is not necessary to implement the other functions."
      ]
    },
    {
      "cell_type": "code",
      "execution_count": 7,
      "metadata": {
        "nbgrader": {
          "grade": false,
          "grade_id": "cell-a083618d127ba326",
          "locked": true,
          "schema_version": 3,
          "solution": false,
          "task": false
        },
        "id": "RNJrCsRrvWdM"
      },
      "outputs": [],
      "source": [
        "class March(object):\n",
        "    def __init__(self,res=32,thres=0.5,size=320):\n",
        "\n",
        "        #Initialize variables\n",
        "        self.res      = res                      #Number of grid cells per axis\n",
        "        self.thres    = thres                    #Threshold for binarization\n",
        "        self.size     = size                     #Size of image (in pixels)\n",
        "        self.contours = 0                        #Whether we're showing contours (0 = off,  1 = normal, 2 = interpolated)\n",
        "        self.cmap     = self.colorMapGrayscale() #Default grayscale color map\n",
        "        self.cmapi    = 0                        #Index of color map (0 = gray, 1 = plasma, 2 = custom)\n",
        "\n",
        "        #Hardcode some cells to start with to test all cases\n",
        "        self.cells    = gauss_2d(0.5,0.4,self.res)\n",
        "\n",
        "        #Compute other useful variables from grid size\n",
        "        self.step     = self.size // self.res #Spacing between grid lines (in pixels)\n",
        "\n",
        "        #Set up axes\n",
        "        self.fig, self.axes = plt.subplots()\n",
        "        self.axes.set_aspect('equal')\n",
        "        plt.subplots_adjust(bottom=0.2)\n",
        "\n",
        "        #Set up buttons\n",
        "        self.btog = Button(plt.axes([0.61, 0.05, 0.2, 0.075]), 'No Contours')\n",
        "        self.btog.on_clicked(self.toggle_contours)\n",
        "        self.bmap = Button(plt.axes([0.41, 0.05, 0.2, 0.075]), 'Grayscale')\n",
        "        self.bmap.on_clicked(self.toggle_colormap)\n",
        "\n",
        "        #Perform initial drawing\n",
        "        self.redraw()\n",
        "\n",
        "    def show(self):\n",
        "        plt.show()\n",
        "\n",
        "    def update(self):\n",
        "        self.fig.canvas.draw()\n",
        "\n",
        "    def toggle_contours(self,event):\n",
        "        #Toggle whether we draw contours or not\n",
        "        self.contours = (self.contours + 1) % 3\n",
        "        self.redraw()\n",
        "\n",
        "    def toggle_colormap(self,event):\n",
        "        self.cmapi = (self.cmapi+1)%2\n",
        "        if self.cmapi == 0:\n",
        "          self.cmap = self.colorMapGrayscale()\n",
        "          self.bmap.label.set_text(\"Grayscale\")\n",
        "        elif self.cmapi == 1:\n",
        "          self.cmap = colorMapPlasma()\n",
        "          self.bmap.label.set_text(\"Plasma\")\n",
        "        self.redraw()\n",
        "\n",
        "    def redraw(self):\n",
        "        # Regenerate a blank white canvas withou axis lines or tick marks\n",
        "        self.axes.clear()\n",
        "        self.axes.set_yticks([])\n",
        "        self.axes.set_xticks([])\n",
        "        self.axes.set_yticklabels([])\n",
        "        self.axes.set_xticklabels([])\n",
        "\n",
        "        #Invert y axis to match up with array ordering\n",
        "        self.axes.invert_yaxis()\n",
        "\n",
        "        #Draw the image from our img matrix\n",
        "        self.drawImage()\n",
        "        if self.contours == 0:\n",
        "          for i in range(1,self.res): #Draw image grid\n",
        "            self.axes.plot([0,self.size-1], [self.step*i,self.step*i], color='black', linestyle='-', linewidth=1)\n",
        "            self.axes.plot([self.step*i,self.step*i], [0,self.size-1], color='black', linestyle='-', linewidth=1)\n",
        "          self.btog.label.set_text('No Contours')\n",
        "        else:  # Draw contours and contour grid\n",
        "          for i in range(self.res): #Draw contour grid\n",
        "            self.axes.plot([0,self.size-1], [self.step*(i+0.5),self.step*(i+0.5)], color='gray', linestyle='-', linewidth=1)\n",
        "            self.axes.plot([self.step*(i+0.5),self.step*(i+0.5)], [0,self.size-1], color='gray', linestyle='-', linewidth=1)\n",
        "          if self.contours == 1:\n",
        "            self.btog.label.set_text('Rough Contours')\n",
        "            self.drawTableLookupContours()\n",
        "          else:\n",
        "            self.btog.label.set_text('Interp. Contours')\n",
        "            self.drawInterpolatedContours()\n",
        "\n",
        "        #Update the underlying plot\n",
        "        self.update()\n",
        "\n",
        "    def colorMapGrayscale(self):\n",
        "        cdict = {'red':   [[0, 0, 0],\n",
        "                           [1, 1, 1]],\n",
        "                 'green': [[0, 0, 0],\n",
        "                           [1, 1, 1]],\n",
        "                 'blue':  [[0, 0, 0],\n",
        "                           [1, 1, 1]]}\n",
        "        return cdict\n",
        "\n",
        "    def drawImage(self):\n",
        "        newcmp = LinearSegmentedColormap('testCmap', segmentdata=self.cmap, N=256)\n",
        "        self.axes.imshow(gauss_2d(0.5,0.4,self.size),cmap=newcmp)\n",
        "\n",
        "    def drawTableLookupContours(self):\n",
        "        for y,row in enumerate(self.cells):\n",
        "          for x,cell in enumerate(row):\n",
        "            case = getContourCase(y,x,self.thres,self.cells)\n",
        "            self.drawCellContourByCase(y,x,case)\n",
        "\n",
        "    def drawInterpolatedContours(self):\n",
        "        segments = getContourSegments(self.thres,self.cells)\n",
        "        for s in segments:\n",
        "          x1 = self.step*(0.5+s[0][0])\n",
        "          x2 = self.step*(0.5+s[1][0])\n",
        "          y1 = self.step*(0.5+s[0][1])\n",
        "          y2 = self.step*(0.5+s[1][1])\n",
        "          self.axes.plot([x1,x2], [y1,y2], color='green', linestyle='-', linewidth=1)\n",
        "\n",
        "    def drawCellContourByCase(self,yrow,xcol,case):\n",
        "        if case in [0,15]:\n",
        "          return #Nothing to draw for empty cells, completely surrounded cells, or border cells\n",
        "\n",
        "        #Handle saddle points\n",
        "        if case in [5]:\n",
        "          if disambiguateSaddle(yrow,xcol,self.thres,self.cells):\n",
        "            self.drawCellContourByCase(yrow,xcol,2)\n",
        "            self.drawCellContourByCase(yrow,xcol,7)\n",
        "          else:\n",
        "            self.drawCellContourByCase(yrow,xcol,11)\n",
        "            self.drawCellContourByCase(yrow,xcol,14)\n",
        "          return\n",
        "        if case in [10]:\n",
        "          if disambiguateSaddle(yrow,xcol,self.thres,self.cells):\n",
        "            self.drawCellContourByCase(yrow,xcol,11)\n",
        "            self.drawCellContourByCase(yrow,xcol,14)\n",
        "          else:\n",
        "            self.drawCellContourByCase(yrow,xcol,2)\n",
        "            self.drawCellContourByCase(yrow,xcol,7)\n",
        "          return\n",
        "\n",
        "        #Compute coordinates based on case lookup table\n",
        "        s    = self.step\n",
        "        ymin = s*yrow + (0         if case in [4,6,7,8,9,11]   else s//2)\n",
        "        ymax = s*yrow + (self.step if case in [1,2,6,9,13,14]  else s//2)\n",
        "        xmin = s*xcol + (0         if case in [1,3,7,8,12,14]  else s//2)\n",
        "        xmax = s*xcol + (self.step if case in [2,3,4,11,12,13] else s//2)\n",
        "        if case in [2,7,8,13]: #Reverse direction for lines drawn up and right (i.e., x increases while y decreases)\n",
        "          xmin,xmax = xmax,xmin\n",
        "\n",
        "        #Contour lines should be drawn halfway between grid cells, so set an offset\n",
        "        off = s//2\n",
        "        #Smooth contours should have different color\n",
        "        color = 'red' if self.contours == 1 else 'green'\n",
        "        #Actually draw the contour lines\n",
        "        self.axes.plot([xmin+off, xmax+off], [ymin+off, ymax+off], color=color, linestyle='-', linewidth=1)\n",
        "        return"
      ]
    },
    {
      "cell_type": "markdown",
      "metadata": {
        "id": "Xz_sY7I4vWdN"
      },
      "source": [
        "## Part 1: Getting the Contour Case\n",
        "\n",
        "The basic idea of marching squares is to \"march\" from one cell to another and classify each cell into a specific contour case, using the values at the corners of the cell.\n",
        "\n",
        "These contour cases will be located in a lookup table consisting of 16 entries. Each entry represents a different contour case (the edges that the contour line intersects) and maps to a unique index.\n",
        "\n",
        "We have already implemented the lookup table in the `March` class, but you will need to build the index for the contouring cells. You can refer to https://en.wikipedia.org/wiki/Marching_squares for how to build a binary index.\n",
        "\n",
        "**Note**: In the Wikipedia page, cells above the threshold are seen as a '1', and cells below are seen as a '0'; and in the 16-case picture, and '1' cells are marked as white, and the '0' cells are marked as black. This mapping is somewhat counter-intuitive, so we will mark '1' cells with black and '0' cells with white. The way of matching colors to cases should be the same."
      ]
    },
    {
      "cell_type": "markdown",
      "metadata": {
        "id": "jvc6goTZvWdN"
      },
      "source": [
        "Define the function `getContourCase()` to determine the contour lookup table index for a contouring cell corresponding to a 2x2 block of grid cells specified by `cells`.\n",
        "\n",
        "The parameters of the function are:\n",
        "- `top`: the y-index of the top-left grid cell relative to the contouring cell\n",
        "- `left`: the x-index of the top-left grid cell relative to the contouring cell\n",
        "- `thres`: the threshold/isovalue\n",
        "- `cells`: a 2-D array of grid cells/values\n",
        "\n",
        "This function should return an integer between `0` and `15` inclusive indicating the contouring cell's index in the contouring lookup table. Your function should return `0` any time an out-of-bounds access is encountered. You should not assume the size of the 2D array passed in the `cells` parameter, so your function should handle the general out of bounds case gracefully.\n",
        "\n",
        "Note that grid cells are distinct from contouring cells. Contouring cells are denoted using the four surrounding grid cells and they share their index with the top-left grid cell. For example, the contouring cell at (0,2) as denoted by the parameters `top=0, left=2` uses the Gaussian `cells` at (0,2), (1,2), (0,3), and (1,3).  Equivalently, you can think about the 2D array of grid `cells` as a 2D array of vertices for the contouring cells."
      ]
    },
    {
      "cell_type": "code",
      "execution_count": 8,
      "metadata": {
        "colab": {
          "base_uri": "https://localhost:8080/"
        },
        "id": "wbMmSAgsvWdO",
        "outputId": "a64890c5-eede-4f75-d998-2ebc1c954b7b"
      },
      "outputs": [
        {
          "output_type": "execute_result",
          "data": {
            "text/plain": [
              "array([[0.5, 0.6, 0.6, 0.5],\n",
              "       [0.5, 0.7, 0.7, 0.4],\n",
              "       [0.5, 0.7, 0.7, 0.4],\n",
              "       [0.5, 0.7, 0.7, 0.4]])"
            ]
          },
          "metadata": {},
          "execution_count": 8
        }
      ],
      "source": [
        "test_cases = np.array([[0.5,0.6,0.6,0.5],[0.5,0.7,0.7,0.4],[0.5,0.7,0.7,0.4],[0.5,0.7,0.7,0.4]])\n",
        "test_cases"
      ]
    },
    {
      "cell_type": "code",
      "execution_count": 31,
      "metadata": {
        "nbgrader": {
          "grade": false,
          "grade_id": "getContourCase",
          "locked": false,
          "schema_version": 3,
          "solution": true,
          "task": false
        },
        "id": "3Orxy2N7vWdP"
      },
      "outputs": [],
      "source": [
        "def getContourCase(top,left,thres,cells):\n",
        "    lookup_dict = {'0000': 0,\n",
        "                   '0001': 1,\n",
        "                   '0010': 2,\n",
        "                   '0011': 3,\n",
        "                   '0100': 4,\n",
        "                   '0101': 5,\n",
        "                   '0110': 6,\n",
        "                   '0111': 7,\n",
        "                   '1000': 8,\n",
        "                   '1001': 9,\n",
        "                   '1010': 10,\n",
        "                   '1011': 11,\n",
        "                   '1100': 12,\n",
        "                   '1101': 13,\n",
        "                   '1110': 14,\n",
        "                   '1111': 15}\n",
        "\n",
        "    try:\n",
        "        comp_f = lambda val, thres: '1' if val >= thres else '0'\n",
        "        cell_code = comp_f(cells[top, left], thres) + comp_f(cells[top, left + 1], thres) + comp_f(cells[top + 1, left + 1], thres) + comp_f(cells[top + 1, left], thres)\n",
        "        case = lookup_dict[cell_code]\n",
        "#         print(case)\n",
        "        return case\n",
        "    except Exception as e:\n",
        "        return 0"
      ]
    },
    {
      "cell_type": "code",
      "execution_count": 32,
      "metadata": {
        "nbgrader": {
          "grade": true,
          "grade_id": "getContourCase_test",
          "locked": true,
          "points": 5,
          "schema_version": 3,
          "solution": false,
          "task": false
        },
        "colab": {
          "base_uri": "https://localhost:8080/",
          "height": 35
        },
        "id": "IhLvmn0FvWdP",
        "outputId": "3c148264-4e4e-4b35-c129-aa96f39d479b"
      },
      "outputs": [
        {
          "output_type": "stream",
          "name": "stdout",
          "text": [
            "0\n"
          ]
        }
      ],
      "source": [
        "## Tests for getContourCase() function.\n",
        "\n",
        "test_cases = np.array([[0.5,0.6,0.6,0.5],[0.5,0.7,0.7,0.4],[0.5,0.7,0.7,0.4],[0.5,0.7,0.7,0.4]])\n",
        "assert getContourCase(0,0,0.5,test_cases) == 15\n",
        "assert getContourCase(0,2,0.5,test_cases) == 13\n",
        "assert getContourCase(2,2,0.5,test_cases) == 9\n",
        "\n",
        "#Out of bound case\n",
        "print(getContourCase(3,3,0.5,test_cases))"
      ]
    },
    {
      "cell_type": "markdown",
      "metadata": {
        "id": "uzXR1IT6vWdP"
      },
      "source": [
        "## Part 2: Disambiguating Saddle Points\n",
        "\n",
        "There are some cases, called saddle points, where the contour is ambiguous. In other words, there are multiple edges that can serve as a valid contour for that case. To resolve the ambiguous cases, you should average the function values at the corners of the contouring cell to generate a sample in the square center. For further information, see <https://en.wikipedia.org/wiki/Marching_squares#Disambiguation_of_saddle_points>.\n",
        "\n",
        "Define the Boolean function `disambiguateSaddle()` to determine the orientation of line segments in a contouring cell with ambiguous values in the surrounding 2x2 block of grid cells.\n",
        "\n",
        "The parameters of the function are:\n",
        "- `top`: the y-index of the top-left grid cell relative to the contouring cell\n",
        "- `left`: the x-index of the top-left grid cell relative to the contouring cell\n",
        "- `thres`: the threshold/isovalue\n",
        "- `cells`: a 2-D array of grid cells/values\n",
        "\n",
        "This function should return `True` if the averaged sample cell is greater than or equal to the threshold, and `False` otherwise."
      ]
    },
    {
      "cell_type": "code",
      "execution_count": 33,
      "metadata": {
        "nbgrader": {
          "grade": false,
          "grade_id": "disambiguateSaddle",
          "locked": false,
          "schema_version": 3,
          "solution": true,
          "task": false
        },
        "id": "l_z9DswVvWdP"
      },
      "outputs": [],
      "source": [
        "def disambiguateSaddle(top,left,thres,cells):\n",
        "    avg = (cells[top, left] + cells[top, left + 1] + cells[top + 1, left + 1] + cells[top + 1, left]) / 4\n",
        "    # print(avg)\n",
        "    if avg >= thres:\n",
        "        return True\n",
        "    else:\n",
        "        return False"
      ]
    },
    {
      "cell_type": "code",
      "execution_count": 34,
      "metadata": {
        "nbgrader": {
          "grade": true,
          "grade_id": "disambiguateSaddle_test",
          "locked": true,
          "points": 5,
          "schema_version": 3,
          "solution": false,
          "task": false
        },
        "colab": {
          "base_uri": "https://localhost:8080/",
          "height": 90
        },
        "id": "IsYPRDnAvWdQ",
        "outputId": "5837e9e3-f125-4ac3-c89c-328793474e7b"
      },
      "outputs": [
        {
          "output_type": "stream",
          "name": "stdout",
          "text": [
            "[[0.5 0.6 0.6 0.5]\n",
            " [0.5 0.7 0.7 0.4]\n",
            " [0.5 0.7 0.7 0.4]\n",
            " [0.5 0.7 0.7 0.4]]\n"
          ]
        }
      ],
      "source": [
        "### Tests for disambiguateSaddle() function.\n",
        "\n",
        "test_cases = np.array([[0.5,0.6,0.6,0.5],[0.5,0.7,0.7,0.4],[0.5,0.7,0.7,0.4],[0.5,0.7,0.7,0.4]])\n",
        "print(test_cases)\n",
        "assert disambiguateSaddle(0,1,0.5,test_cases) == True\n",
        "assert disambiguateSaddle(0,1,0.6,test_cases) == True\n",
        "assert disambiguateSaddle(0,1,0.7,test_cases) == False\n",
        "assert disambiguateSaddle(1,2,0.5,test_cases) == True\n",
        "assert disambiguateSaddle(1,2,0.6,test_cases) == False\n",
        "assert disambiguateSaddle(1,2,0.7,test_cases) == False"
      ]
    },
    {
      "cell_type": "markdown",
      "metadata": {
        "id": "ZbnraKJMvWdQ"
      },
      "source": [
        "## Part 3: Interpolating the Contour Lines\n",
        "\n",
        "Only using `getContourCase()` will default to intersecting the contour lines at the midpoints of each edge, resulting in \"rough\" contours. To smoothen the contours, we will use linear interpolation to find the exact position of the contour line along the edges of the cell."
      ]
    },
    {
      "cell_type": "markdown",
      "metadata": {
        "id": "CDYXnGpmvWdQ"
      },
      "source": [
        "First, define the function `interpolate()` to determine the relative position of a value `t` between two values `v1` and `v2`.\n",
        "\n",
        "The parameters of the function are:\n",
        "- `v1`: the first value to use for linear interpolation\n",
        "- `v2`: the second value to use for linear interpolation\n",
        "- `t`: the threshold for which to find the relative position between `v1` and `v2`.\n",
        "\n",
        "This function should return a float between 0 and 1 designating the relative position of `t` between `v1` and `v2`."
      ]
    },
    {
      "cell_type": "code",
      "execution_count": 35,
      "metadata": {
        "nbgrader": {
          "grade": false,
          "grade_id": "interpolate",
          "locked": false,
          "schema_version": 3,
          "solution": true,
          "task": false
        },
        "id": "3a07zojHvWdQ"
      },
      "outputs": [],
      "source": [
        "def interpolate(v1,v2,t):\n",
        "    int_val = (t - v1) / (v2 - v1)\n",
        "    return int_val"
      ]
    },
    {
      "cell_type": "code",
      "execution_count": 36,
      "metadata": {
        "nbgrader": {
          "grade": true,
          "grade_id": "interpolate_test",
          "locked": true,
          "points": 5,
          "schema_version": 3,
          "solution": false,
          "task": false
        },
        "id": "_B6lcELkvWdQ"
      },
      "outputs": [],
      "source": [
        "### Tests for interpolate() function.\n",
        "assert interpolate(1.5,2.5,2.5) ==  1/1\n",
        "assert interpolate(1.5,2.5,2)   ==  1/2\n",
        "assert interpolate(1.5,2.5,1.5) ==  0/1\n",
        "assert interpolate(1,4,2)       ==  1/3"
      ]
    },
    {
      "cell_type": "markdown",
      "metadata": {
        "id": "7ZdGzqLdvWdR"
      },
      "source": [
        "Now that we have defined our interpolation function, we can use it to obtain the exact coordinates of a contour line's endpoints.\n",
        "\n",
        "Define the function `getCellSegments()` to produce a list of line segments representing contour lines within a given contouring cell.\n",
        "\n",
        "The parameters of the function are:\n",
        "- `top`: the y-index of the top-left grid cell relative to the contouring cell\n",
        "- `left`: the x-index of the top-left grid cell relative to the contouring cell\n",
        "- `thres`: the threshold/isovalue\n",
        "- `cells`: a 2-D array of grid cells/values\n",
        "\n",
        "This function should return a list of pairs of (x, y) coordinates indicating contour segments within a cell e.g. [ [(x1,y1),(x2,y2)], [(x3,y3),(x4,y4)] ]. If any of the grid cells bordering a countouring cell are out of bounds, your function should just return an empty list `[]` (*note*: **be careful not to return the list containing the empty list** `[[]]`, as this is not equivalent and your tests will fail).\n",
        "\n",
        "**Notes**:\n",
        "- Coordinates assume an origin of (0,0) for the top left contouring cell.\n",
        "- Coordinates should be computed in terms of grid cell lengths, not pixel coordinates, e.g., the coordinate (5 ,7.5) indicates 5 grid cells right and 7.5 grid cells down from the origin.\n",
        "- For contouring cells with four intersection points, you will need to use the `disambiguateSaddle()` function to determine which two pairs of points form the contouring lines for the cell, and may need to reorder the pairs of points in your returned list accordingly."
      ]
    },
    {
      "cell_type": "code",
      "execution_count": 37,
      "metadata": {
        "nbgrader": {
          "grade": false,
          "grade_id": "getCellSegments",
          "locked": false,
          "schema_version": 3,
          "solution": true,
          "task": false
        },
        "id": "aSHwlwSFvWdR"
      },
      "outputs": [],
      "source": [
        "def getCellSegments(top,left,thres,cells):\n",
        "    try:\n",
        "        saddle_ls = [5, 10]\n",
        "        cd_ls = []\n",
        "        case = getContourCase(top, left, thres, cells)\n",
        "#         print(case)\n",
        "\n",
        "        if case == 0 or case == 15:\n",
        "            return []\n",
        "\n",
        "        elif case == 1 or case == 14:\n",
        "            y1, x1 = top + interpolate(cells[top, left], cells[top + 1, left], thres), left\n",
        "            y2, x2 = top + 1, left + interpolate(cells[top + 1, left], cells[top + 1, left + 1], thres)\n",
        "            cd_ls.append([(x1, y1), (x2, y2)])\n",
        "            return cd_ls\n",
        "\n",
        "        elif case == 2 or case == 13:\n",
        "            y1, x1 = top + 1, left + interpolate(cells[top + 1, left], cells[top + 1, left + 1], thres)\n",
        "            y2, x2 = top + interpolate(cells[top, left + 1], cells[top + 1, left + 1], thres), left + 1\n",
        "            cd_ls.append([(x1, y1), (x2, y2)])\n",
        "            return cd_ls\n",
        "\n",
        "        elif case == 3 or case == 12:\n",
        "            y1, x1 = top + interpolate(cells[top, left], cells[top + 1, left], thres), left\n",
        "            y2, x2 = top + interpolate(cells[top, left + 1], cells[top + 1, left + 1], thres), left + 1\n",
        "            cd_ls.append([(x1, y1), (x2, y2)])\n",
        "            return cd_ls\n",
        "\n",
        "        elif case == 4 or case == 11:\n",
        "            y1, x1 = top, left + interpolate(cells[top, left], cells[top, left + 1], thres)\n",
        "            y2, x2 = top + interpolate(cells[top, left + 1], cells[top + 1, left + 1], thres), left + 1\n",
        "            cd_ls.append([(x1, y1), (x2, y2)])\n",
        "            return cd_ls\n",
        "\n",
        "        elif case == 6 or case == 9:\n",
        "            y1, x1 = top, left + interpolate(cells[top, left], cells[top, left + 1], thres)\n",
        "            y2, x2 = top + 1, left + interpolate(cells[top + 1, left], cells[top + 1, left + 1], thres)\n",
        "            cd_ls.append([(x1, y1), (x2, y2)])\n",
        "            return cd_ls\n",
        "\n",
        "        elif case == 7 or case == 8:\n",
        "            y1, x1 = top + interpolate(cells[top, left], cells[top + 1, left], thres), left\n",
        "            y2, x2 = top, left + interpolate(cells[top, left], cells[top, left + 1], thres)\n",
        "            cd_ls.append([(x1, y1), (x2, y2)])\n",
        "            return cd_ls\n",
        "\n",
        "        elif case == 5 or case == 10:\n",
        "            dis_cell = disambiguateSaddle(top,left,thres,cells)\n",
        "\n",
        "            if (case == 5 and dis_cell == True) or (case == 10 and dis_cell == False):\n",
        "                y1, x1 = top + interpolate(cells[top, left], cells[top + 1, left], thres), left\n",
        "                y2, x2 = top, left + interpolate(cells[top, left], cells[top, left + 1], thres)\n",
        "                y3, x3 = top + 1, left + interpolate(cells[top + 1, left], cells[top + 1, left + 1], thres)\n",
        "                y4, x4 = top + interpolate(cells[top, left + 1], cells[top + 1, left + 1], thres), left + 1\n",
        "                cd_ls.append([(x1, y1), (x2, y2)])\n",
        "                cd_ls.append([(x3, y3), (x4, y4)])\n",
        "                return cd_ls\n",
        "            else:\n",
        "                y1, x1 = top, left + interpolate(cells[top, left], cells[top, left + 1], thres)\n",
        "                y2, x2 = top + interpolate(cells[top, left + 1], cells[top + 1, left + 1], thres), left + 1\n",
        "                y3, x3 = top + interpolate(cells[top, left], cells[top + 1, left], thres), left\n",
        "                y4, x4 = top + 1, left + interpolate(cells[top + 1, left], cells[top + 1, left + 1], thres)\n",
        "                cd_ls.append([(x1, y1), (x2, y2)])\n",
        "                cd_ls.append([(x3, y3), (x4, y4)])\n",
        "                return cd_ls\n",
        "    except Exception as e:\n",
        "        return []\n",
        ""
      ]
    },
    {
      "cell_type": "code",
      "execution_count": 38,
      "metadata": {
        "nbgrader": {
          "grade": true,
          "grade_id": "getCellSegments_test",
          "locked": true,
          "points": 5,
          "schema_version": 3,
          "solution": false,
          "task": false
        },
        "id": "CJ2VFwfhvWdR"
      },
      "outputs": [],
      "source": [
        "### Tests for getCellSegments() function.\n",
        "\n",
        "test_cases_1 = np.array([[0.5,0.6,0.6,0.5],[0.5,0.7,0.7,0.4],[0.5,0.7,0.7,0.4],[0.5,0.7,0.7,0.4]])\n",
        "assert getCellSegments(3,3,0.9,test_cases_1) == []\n",
        "\n",
        "test_cases_2 = np.array([[0.07339991, 0.38311005, 0.38311005, 0.07339991],[0.38311005, 0.99744795, 0.99744795, 0.38311005],[0.38311005, 0.99744795, 0.99744795, 0.38311005],[0.07339991, 0.38311005, 0.38311005, 0.07339991]])\n",
        "result = getCellSegments(0,0,0.2,test_cases_2)\n",
        "result[0].sort()\n",
        "try:\n",
        "    np.testing.assert_allclose(result, [[(0, 0.40876959985875827), (0.40876959985875827, 0)]], rtol=1e-5)\n",
        "except:\n",
        "    np.testing.assert_allclose(result, [[(0.40876959985875827, 0), (0, 0.40876959985875827)]], rtol=1e-5)\n",
        "\n",
        "\n",
        "test_cases_3 = np.array([[0.05,0.4,0.4,0.05],[0.4,0.9,0.9,0.4],[0.4,0.9,0.9,0.4],[0.05,0.4,0.4,0.05]])\n",
        "result = getCellSegments(2,2,0.2,test_cases_3)\n",
        "\n",
        "result[0].sort()\n",
        "try:\n",
        "    np.testing.assert_allclose(result, [[(2.571428571428571, 3), (3, 2.571428571428571)]], rtol=1e-5)\n",
        "except:\n",
        "    np.testing.assert_allclose(result, [[(3, 2.571428571428571), (2.571428571428571, 3)]], rtol=1e-5)"
      ]
    },
    {
      "cell_type": "markdown",
      "metadata": {
        "id": "ibM0zHLnvWdS"
      },
      "source": [
        "We can now apply the above function to all of the contouring cells in our grid.\n",
        "\n",
        "Define the function `getContourSegments()` to produce a list of pairs of coordinates, where each pair of coordinates represents a line segment used for drawing the contours of a Marching Squares invocation.\n",
        "\n",
        "The parameters of the function are:\n",
        "- `thres`: the threshold/isovalue\n",
        "- `cells`: a 2-D array of grid cells/values\n",
        "\n",
        "This function should return a list of pairs of (x, y) coordinates indicating all contour segments for the grid e.g. [ [(x1,y1),(x2,y2)], [(x3,y3),(x4,y4)] ].\n",
        "\n",
        "**Note:** In the test cases, we will round your results to three decimal places. Do NOT implement any rounding within your functions."
      ]
    },
    {
      "cell_type": "code",
      "execution_count": 39,
      "metadata": {
        "nbgrader": {
          "grade": false,
          "grade_id": "getContourSegments",
          "locked": false,
          "schema_version": 3,
          "solution": true,
          "task": false
        },
        "id": "3cmv7bRBvWdS"
      },
      "outputs": [],
      "source": [
        "def getContourSegments(thres,cells):\n",
        "    #Hint: this function should accumulate a list of line segments by looping\n",
        "    #      over each cell in \"cells\" and calling getCellSegments() on each cell\n",
        "    coord_ls = []\n",
        "    for j in range(cells.shape[1]):\n",
        "        for i in range(cells.shape[0]):\n",
        "            cell_ls = getCellSegments(j,i,thres,cells)\n",
        "            for cell_i in cell_ls:\n",
        "                coord_ls.append(cell_i)\n",
        "    return coord_ls"
      ]
    },
    {
      "cell_type": "code",
      "execution_count": 40,
      "metadata": {
        "nbgrader": {
          "grade": true,
          "grade_id": "getContourSegments_test",
          "locked": true,
          "points": 5,
          "schema_version": 3,
          "solution": false,
          "task": false
        },
        "id": "XQduQTACvWdS"
      },
      "outputs": [],
      "source": [
        "### Tests for getContourSegments() function.\n",
        "\n",
        "test_cases = np.array([[0.07339991, 0.38311005, 0.38311005, 0.07339991],[0.38311005, 0.99744795, 0.99744795, 0.38311005],[0.38311005, 0.99744795, 0.99744795, 0.38311005],[0.07339991, 0.38311005, 0.38311005, 0.07339991]])\n",
        "result = getContourSegments(0.9,test_cases)\n",
        "\n",
        "# print(test_cases)\n",
        "# print(test_cases.shape)\n",
        "# print(result)\n",
        "\n",
        "rounded_result = []\n",
        "for [(x1, y1), (x2, y2)] in result:\n",
        "    rounded_result.append([(round(x1, 3),round(y1, 3)),(round(x2, 3),round(y2, 3))])\n",
        "\n",
        "answer = [[(0.841, 1), (0.841, 2)], [(0.841, 1), (1, 0.841)], [(0.841, 2), (1, 2.159)], [(1, 0.841), (2, 0.841)], [(1, 2.159), (2, 2.159)], [(2, 0.841), (2.159, 1)], [(2.159, 1), (2.159, 2)], [(2, 2.159), (2.159, 2)]]\n",
        "\n",
        "for [(x1,y1),(x2,y2)] in rounded_result:\n",
        "    assert [(x1,y1),(x2,y2)] in answer or  [(x2,y2),(x1,y1)] in answer\n",
        "\n",
        "for [(x1,y1),(x2,y2)] in answer:\n",
        "    assert [(x1,y1),(x2,y2)] in rounded_result or  [(x2,y2),(x1,y1)] in rounded_result"
      ]
    },
    {
      "cell_type": "markdown",
      "metadata": {
        "id": "QSBlNKybvWdS"
      },
      "source": [
        "## Part 4: Creating a Colormap\n",
        "\n",
        "In addition to rendering the contour lines, your code should display the function across the domain using the Plasma color map.\n",
        "\n",
        "Define the function `colorMapPlasma()` to create a Plasma color map for mapping scalar data to colors.\n",
        "\n",
        "The function should return a dictionary containing a Plasma color map usable by matplotlib's `LinearSegmentedColormap()` function.\n",
        "\n",
        "You should refer to documentation on LinearSegmentedColormap (https://matplotlib.org/3.3.1/api/_as_gen/matplotlib.colors.LinearSegmentedColormap.html) and on the Plasma color map (https://www.kennethmoreland.com/color-advice/). Use the byte representation of the color table with 8 anchor values.\n",
        "\n",
        "**Note:** Since the part is just reading the values from a file and copying the values, we will provide the results to you."
      ]
    },
    {
      "cell_type": "code",
      "execution_count": 41,
      "metadata": {
        "nbgrader": {
          "grade": false,
          "grade_id": "colorMapPlasma",
          "locked": false,
          "schema_version": 3,
          "solution": true,
          "task": false
        },
        "id": "Wub9GsujvWdS"
      },
      "outputs": [],
      "source": [
        "def colorMapPlasma():\n",
        "    cdict = {'red': [[0.0,  13/255,  13/255],\n",
        "                     [0.142857142857142,  84/255,  84/255],\n",
        "                     [0.285714285714285, 139/255, 139/255],\n",
        "                     [0.428571428571428, 185/255, 185/255],\n",
        "                     [0.571428571428571, 219/255, 219/255],\n",
        "                     [0.714285714285714, 244/255, 244/255],\n",
        "                     [0.857142857142857, 254/255, 254/255],\n",
        "                     [1.0, 240/255, 240/255]],\n",
        "           'green': [[0.0,   8/255,   8/255],\n",
        "                     [0.142857142857142,   2/255,   2/255],\n",
        "                     [0.285714285714285,   10/255,   10/255],\n",
        "                     [0.428571428571428,  50/255,  50/255],\n",
        "                     [0.571428571428571,  92/255,  92/255],\n",
        "                     [0.714285714285714, 136/255, 136/255],\n",
        "                     [0.857142857142857, 188/255, 188/255],\n",
        "                     [1.0, 249/255, 249/255]],\n",
        "           'blue':  [[0.0, 135/255, 135/255],\n",
        "                     [0.142857142857142, 163/255, 163/255],\n",
        "                     [0.285714285714285, 165/255, 165/255],\n",
        "                     [0.428571428571428, 137/255, 137/255],\n",
        "                     [0.571428571428571, 104/255, 104/255],\n",
        "                     [0.714285714285714,  73/255,  73/255],\n",
        "                     [0.857142857142857,  43/255,  43/255],\n",
        "                     [1.0,  33/255,  33/255]]}\n",
        "    return cdict"
      ]
    },
    {
      "cell_type": "code",
      "execution_count": 42,
      "metadata": {
        "nbgrader": {
          "grade": true,
          "grade_id": "colorMapPlasma_test",
          "locked": true,
          "points": 5,
          "schema_version": 3,
          "solution": false,
          "task": false
        },
        "id": "gqcbGlufvWdT"
      },
      "outputs": [],
      "source": [
        "### Tests for colorMapPlasma() function.\n",
        "\n",
        "test_dict = colorMapPlasma()\n",
        "np.testing.assert_allclose(test_dict['red'][1], [0.142857142857142, 84/255, 84/255], rtol=1e-5)\n",
        "np.testing.assert_allclose(test_dict['green'][3], [0.428571428571428,  50/255,  50/255], rtol=1e-5)\n"
      ]
    },
    {
      "cell_type": "markdown",
      "metadata": {
        "id": "Cd9MkzWXvWdT"
      },
      "source": [
        "Now we can finally generate our 2-D interactive visualization! If your functions were defined correctly, you should be able to toggle the visualization to see the images from the beginning of this notebook.\n",
        "\n",
        "**Note:** If the image below is cut off, right click the cell and select \"Disable Scrolling for Outputs\""
      ]
    },
    {
      "cell_type": "code",
      "source": [
        "from google.colab import output\n",
        "output.enable_custom_widget_manager()"
      ],
      "metadata": {
        "id": "mc9CMeW1yP0q"
      },
      "execution_count": 28,
      "outputs": []
    },
    {
      "cell_type": "code",
      "source": [
        "March(res=12,thres=0.9).show()"
      ],
      "metadata": {
        "colab": {
          "base_uri": "https://localhost:8080/",
          "height": 569,
          "referenced_widgets": [
            "1e38da5ecf3c4c469ff2ffd821531ab1",
            "1b817de141c140e7bd92b7ef0b40c453",
            "b1eb76ddff144279b699cd1ca2f07f08",
            "af79aa5b832f401487aa467b12cb617c"
          ]
        },
        "id": "85kBWsjoyT_i",
        "outputId": "04871f41-d693-4724-f1d7-47b2d51b3682"
      },
      "execution_count": 29,
      "outputs": [
        {
          "output_type": "display_data",
          "data": {
            "text/plain": [
              "Canvas(toolbar=Toolbar(toolitems=[('Home', 'Reset original view', 'home', 'home'), ('Back', 'Back to previous …"
            ],
            "image/png": "[encoded data removed]",
            "text/html": [
              "\n",
              "            <div style=\"display: inline-block;\">\n",
              "                <div class=\"jupyter-widgets widget-label\" style=\"text-align: center;\">\n",
              "                    Figure\n",
              "                </div>\n",
              "                <img src='data:image/png;base64,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' width=640.0/>\n",
              "            </div>\n",
              "        "
            ],
            "application/vnd.jupyter.widget-view+json": {
              "version_major": 2,
              "version_minor": 0,
              "model_id": "1e38da5ecf3c4c469ff2ffd821531ab1"
            }
          },
          "metadata": {
            "application/vnd.jupyter.widget-view+json": {
              "colab": {
                "custom_widget_manager": {
                  "url": "https://ssl.gstatic.com/colaboratory-static/widgets/colab-cdn-widget-manager/b3e629b1971e1542/manager.min.js"
                }
              }
            }
          }
        }
      ]
    }
  ],
  "metadata": {
    "celltoolbar": "Create Assignment",
    "coursera": {
      "schema_names": [
        "MP1"
      ]
    },
    "kernelspec": {
      "display_name": "Python 3",
      "language": "python",
      "name": "python3"
    },
    "language_info": {
      "codemirror_mode": {
        "name": "ipython",
        "version": 3
      },
      "file_extension": ".py",
      "mimetype": "text/x-python",
      "name": "python",
      "nbconvert_exporter": "python",
      "pygments_lexer": "ipython3",
      "version": "3.8.6"
    },
    "colab": {
      "provenance": [],
      "include_colab_link": true
    },
    "widgets": {
      "application/vnd.jupyter.widget-state+json": {
        "1e38da5ecf3c4c469ff2ffd821531ab1": {
          "model_module": "jupyter-matplotlib",
          "model_name": "MPLCanvasModel",
          "model_module_version": "^0.11",
          "state": {
            "_cursor": "default",
            "_data_url": "data:image/png;base64,iVBORw0KGgoAAAANSUhEUgAAAoAAAAHgCAYAAAA10dzkAAAAOXRFWHRTb2Z0d2FyZQBNYXRwbG90bGliIHZlcnNpb24zLjcuMSwgaHR0cHM6Ly9tYXRwbG90bGliLm9yZy/bCgiHAAAACXBIWXMAAA9hAAAPYQGoP6dpAADDZklEQVR4nO29ebRlV1XvP8+tSqUSkypCEqhUqkmqL0IlpDDSCMMnyvMJgtL4DJAABgQTpEmMQRCGPzQRAY0QkMIgGLCwQUlQhGc7eIjosENEfdWmUl2qKqStSmOquff+/siYN/N+75xzrX3OPnV36n6/Y5yxV9/tffb6nLn22qc3Pj4+LhRFURRFUdSM0ch0N4CiKIqiKIo6viIAUhRFURRFzTARACmKoiiKomaYCIAURVEURVEzTARAiqIoiqKoGSYCIEVRFEVR1AwTAZCiKIqiKGqGiQBIURRFURQ1w0QApCiKoiiKmmEiAFIURVEURc0wEQApiqIoiqJmmAiAFEVRFEVRM0wEQIqiKIqiqBkmAiBFURRFUdQMEwGQoiiKoihqhokASFEURVEUNcNEAKQoiqIoipphIgBSFEVRFEXNMBEAKYqiKIqiZpgIgBRFURRFUTNMBECKoiiKoqgZJgIgRVEURVHUDBMBkKIoiqIoaoaJAEhRFEVRFDXDRACkKIqiKIqaYSIAUhRFURRFzTARACmKoiiKomaYCIAURVEURVEzTARAiqIoiqKoGSYCIEVRFEVR1AwTAZCiKIqiKGqGiQBIURRFURQ1w0QApCiKoiiKmmEiAFIURVEURc0wEQApiqIoiqJmmAiAFEVRFEVRM0wEQIqiKIqiqBkmAiBFURRFUdQMEwGQoiiKoihqhokASFEURVEUNcNEAKQoiqIoipphIgBSFEVRFEXNMBEAKYqiKIqiZpgIgBRFURRFUTNMBECKoiiKoqgZJgIgRVEURVHUDBMBkKIoiqIoaoaJAEhRFEVRFDXDRACkKIqiKIqaYSIAUhRFURRFzTARACmKoiiKomaYCIAURVEURVEzTARAiqIoiqKoGSYCIEVRFEVR1AwTAZCiKIqiKGqGiQBIURRFURQ1wzR7uhtAUVZjY2Oyb98+Of3006XX6013cyiKoqZd4+Pj8uCDD8rChQtlZIR2G6odEQCpTmnfvn2yePHi6W4GRVFU57Rnzx5ZtGjRdDeDOkFEAKQ6pdNPP33CrRZAe+wnzPOLiIyOjspDDz0k8+bNk1mzZk1K6+XPwkVERkZGJvk13ZEjR2TPnj2yZMkSOeWUU4p5MEx/8dfkefjhh+Vb3/qWXHzxxTJv3ryw/V5d0ThpGhv+wAMPyFe/+lV5wQteIE9+8pMnlVdzfmrSq/+ee+6RL33pS/LSl75Uzj77bEFZiwjmbaJ77rlHvvCFL8grX/lKOeuss8J04+PjjcrFPOPj43LPPffIbbfdJj/6oz86pS5NW3scGxsL8957773yl3/5l/LCF75QzjjjjDS9/WiYpsVw+9E0Bw8elH/+53+WSy65RE4//XQ3jRdmw20621aMf/jhh2XHjh2ybNkyOfnkk8MybLtLabz+HTlyRO6//34544wzZNasWWmZ2Th5caW83tHeHylqUBEAqU6pBtwy0Ktxq19vqiMjI40AMIMkzz86OioiIrNmzZLZs2dX5Yn8Wb29Xk8OHz4sIiInnXSSzJkzJ4Q/D/xq0mj9c+bMmajn5JNPLkK3LTM7n95RJ/i5c+fK3LlzQ8jL4M+DQQzTeubMmSOnnHLKlPSZPCjEMOvX8Zs7d+6kujyos+HZ0curfTr55JNl7ty5U9J7EGbdWTr8nHTSSSLy+LXnpclA0OtDlGb27MemrlmzZslJJ50Upo/KGBkZqYLbWbNmicjj94gMFtHf6/WKcGjTqNuL17CmP2ooKhMBkOqs2oK/UjpMWwOAESh5fgwvpa8pE+FMwxSw1N0U/Ly2R30WeWwC9tri1Vk6V1YWFK1bJ2SbJwM/VPb8lJY9a9asSfV48oBPpWARtSUCCxs/MjIyBfLGxsYmlRmBhaaxZdpxtJCi9Sgg2byldBEsaX1eGg2zZXhhCmj2ulS/vQ7s98mWgX4swyszO6d4/UfnFc+PHc9adxRGUW2LAEh1UsOCv1LaWggUaQZupfh+/F6YB05odSv1JRqnqG47GXv1ZW4cFzzPIpPBDMcTy1BhGi9PlMaOXa3sBG1BK0pj67R1ZRY+hEIETc/CpJYyPU8Wsmy6EuTZtB6wWWjR8yQiISzWgGDmx7GugTz0R6CI58dz9yNCINU1EQCpzqof+Gsah/E1ACjSjoWuTfDz2twv+OH4eGks9EV1RefQlpmdW+9cNbUA1oAglj2oBbAEfriEiRbAzNKnxwgILTSITIZoaymz9WTLl5lVENPgjw+05LUJgmgVrgXHCPoQFFXRdajjUQobxCoYWXMpqi0RAKlOqg34q/VjWAZVIs3hbdD8TeBvWPHRuHnPT+L50XSlc2iPNo/C2OzZs91NI/Yceu5IaOWzZTa1AFqrVFQ3LslqG9BiWFr+LQGhzeNBmeaJYNCWUbP0i7CifcpgEuUBWMl6541lrfWvxq9hWkfNNeXJA0UvLoPAfuumqEwEQKrTGib8RWEZFGH9tfCmboWlJnmbgpu2cRjgaPshEj8DiH0vgR+2PTp3nuXQKoK6yG/Dm1gARfxlXwz3/BbM8BlAmxZhzYZFQIh5vEcCEPL6tfhhvAebTfJ78RiGsKnXX7RM3A8E4vhqn2ohLAM+L74GAilqGCIAUp1UCfisexDY88JKYNTU77U9Sz8ouKkf4XMQ8PPK1z5ZWPKsnzXAh/H2aDdMeM812mum5K4Js7DURN5E7QEd9iOCDs3jWfw8ax+Cm5YvMnmpedDNHhHIYZ+a5q8FQTxXer5KGzxq/doXW14TAPQ06NLwIHVTVCQCINVJHQ/4qwFAkXY2bqgGeXawBtzsJOzB5CDg59WDdUTnwo5DBHweJGJ+a0H10mfgF02iGt7UAigSP5uVWQHHx/1dwKWlXxuOYOgBoZavR03jQZ4ts19Q867XfkAyAlstG5e27WdQ659nDVQ1gTDPCjgoBFJU2yIAUp1VW/CXQWGUfhDYQwirydvU6lcDZt67Db1J2ourGZdSObYPpfNp09sw2ye79NwU/lCehc+rs4lKzwFaCPSul8zSZ8Nrl39tP/V68CBM85RAzfYRrYZoLbOQ2QQErSKIxGunifUPx68WAvG61rCmy7ODQCBFtS0CINVJDRv+avK0CXs2rGT1q7XKRcvMtm1NwS+r1+uXtZZhOdn5seV55xjLw7bbeCsLbt6E7cn2BftUkp2Ybd2ZBbDmGcDsWLv8a5dl8Vk5BEcP1DA+gzkFTB1P28YaENQxqYVEBMBa0GuSFq/V6PqJFFnu+oHApnVTVI0IgFQndTzgz5tEVG1a9qJn5EpWvxIoahob5y3NYnxT8Ivy2LGNoM+DtSZWQeyjdWO5ERg2BUELM1Y1VpgM/NSP/VB3zetf9OhZ+zx4i66HCMS0TRbMSkCmbuxTbV4FswwScVnXqwvjERoja18GhSq83u14la6HtiCQotoWAZDqrAaFv1oA1DQigz3v16/F0AOz2jgRcV/D4gFfDVDWxts02d/oaZrsnNm0eF5sflsX5sHziG7Pj2G4s7lWHghkIDg+PtgzgBkQonUQz1OTpd2my7f2eoyWbzHv6Oho0VqI/fKuIbTajY6OTgE9C2+1UOgtoWevs2miphBIUW2LAEh1UjiRDwP+PFBpCn81VkGvHs86V4K0mjgPlmy817Ym4GfLRrdXRna+0K357Fh5fcJ4vGZK4BdN3l7/PGWTcY0FEOvS/nlgF0GhLS+yDKJVzgIQpmsKel48wtLY2FjRqodQFVn8MA6vDwRmWy6W4/kHed9gSZkFz4M+Wxf6KapNEQCpzgrBwQsbFP5UTeEve5+fF6ftsVBm0+KnqUXQWxptYmXEfiA0evEa5tWdnQv1Y7k2nU2Dy30Y703SmTsK8143U6uSFbDGAmjTZUcLB9mGkKyeWoufracEggibaNmLyq6x+GFcdr1H4Nfr+ZZBzRdZDbEeL76kJhDohdECSA1DBECqkyrBnBfWBP6awN4gFrrIEpbBlrd865WJcQieUTlR/6P6vHz4wH/NOVCVgA/DaiyATcAvkldPJNyxmtXjgSBCrY3LjhiGFkKEK3se7RJwBmPW8oiWuswi6NWl4Ih5o6VfHVuES9wkYs87Wvu0DZ6FL7MMenH2/JasiCUNAoFNrmOKqhUBkOqkjhf8YV1Nl3m9OEwXgVaNha6mfFseWuEyYOwH/LBPuAu4BH0R5GVA2MQCaIUTOArDPCiLhPElCyDuXkXYbGIBLC35IjTZPiFsYXoErwz2MA6tcRnQaZsxTvPbOG+TCH4HvV3EWnfJMmjbiHF4XU4XBBIAqWGIAEh1Whmw1cZF6XESr7X0icRLwJ7b1oNLvt6yGbazdpkYrYjR37QNAn7YJw8wvfH0zmWtO7PM4dJc5vb8NryJBVAkXpbDcLs86lkAcdz6hT/r1joRyjBNCfSagKAHm1o35tN2eGCWWQrROmevfZvHXt8e+Fm3pouWh209Nm4QCNQya+Ki64yiBhUBkOqkPPjIwKQW/BBkVLXw148VMAMvkTIU1uTx8qLFrLaPJdC09XjgmZ0XDLN+dWNYEwugF+b5vbAmFkBUyQJo/RYIR0ZGZPbs2VNgr+nuX8+6Zuvx/grOW371rIi1IBhdS97zg2iNtABm647+vg6/u1Eem6Zk/atdAvbKaAqBXj+yuCblUlStCIBUJ2UnFOtHeIjijgf8ec/c2TxonUJrWRPAq7UUemBWshTWxkXtwVezlKAvAj88J7Yfti47phkEotvz2/BhWgDR7cGmB2E2vMnuXwRAa5WzIBVtBvFgz+bxQNCeGwtTNbBn2x9tErHWQAu2CGa2XlxGRvDLrH/aFz0OCwJtPVEcAZAahgiAVKfVFvh5UKOKLHM11j0vHUJUBDMZnA0ChRrmWQm9/tTEZePppffOD4apH8+DTaf99sY2g78S+HkT6iAWQJH6V8AgmNU+A4jgZv169Kx52t/or+Ayq6CXzr7ixcbZcbSw6VkSsR/4nJ+39OtZAxHMsCwRCf3qRmDVPth0WpeNsyA5CATac5iBIEW1LQIg1Um1CX4R/Nmbe7/wZ61f2StetN0YjuAVgVkJFtVfW1a/4OeNTZbPO1845jaNHSev3mFZAO310C8AqtqwAOIRw9BCGO3mtdccWuIGAUGVBbvsr+A0rc2P5UWAaPuLoGTrQnD0LHzWX7L+efCH6RAkbVxTCLTnt8l1S1H9igBIdVJtgV8Gf9Y6EkFdBH+Zdc5Lp2VpuqgszJO9zDmDuVIbS1Do1Wfj8P1yGfB50BeBn+fuxwKIQqDz0qFVrqkQ/HAZ0abrxwKYudFahmNnQcnmww+Wo2nRgueBm3edIbRZMKsFRLtcrHkRoD0rYRSubdRyI+ufuu15yjaKtAWB9rx71zhFtSUCINVJtQF+NfBnyxdpDn8RvGG41lObvsbqVwLSfqyBJfDzxjZKo4qgrxYCbV1oAbR1RNdOdF1heFMAjJbm0MrXtgUwcyPE2evBWwLOPha6ovf6IZjpWM6ePVvGxsYmvU7FPjuIzwBqPg8QtX82HH+86VjadNlzgTomGfghwCksHi8ItNcAAZAahgiAVGc1CPjVwB/+um4b/uwkb/sTgVkb4RaEai2WTcHP1uONgzfu3rkpgaAerQUQ67bHWrfnt+cJfyDUCoHQAz91RxbAtnb/esuy+mkCgU1AMPqOeVCnQOgtXdtx8J7fwx8XFrS89DYtQqAN99w2jfbneEOgjg1FtS0CINVJjY6OTplYShCBQGCBRv32Rn7kyBERETl8+LALP9Y9CAg9/PDDIiLy8MMPT4GZUllZG7z0999/v4iIPPDAAzJ79uwp/fFgEMsqfURE7r77bhERueeeeybqKcGdFx7ls9q/f//EMbIAYh0YFvmt9u3bN3HsBwBVNSCode3fvz+1AHplRfEeDN51110iIvKd73zHBS2EPS/M+4g8/vyf5tFr7957750Efho/Ojo6qa02v/e6Gcxv0z/00EMiIvLggw9Oise0GG7DSnWPj4/L4cOHRUTk0UcfnUjr1Yfjgju2bdracbdhtjyKaku9cf60oDqkQ4cOyfz586e7GRRFUZ3TwYMHZd68edPdDOoEES2AVCc1b968xta/zPLnpT18+LDs3btXlixZInPnzu3L8pc9W6fxDz30kPzrv/6rXHLJJTJv3rwpS8Pesq5IvEyrfffae99998mXv/xleclLXiJnnXVWlUWvxuKHYQcOHJDPfvaz8vrXv17OOeec4rmqCUe3at++ffLRj35U3va2t8miRYsm0qE8CyD6Mwvgnj175MYbb5RrrrlGFi9eHKYrKVr6tf49e/bIRz7yEXn7298+0adoiRfz11gANXz//v1y8803yxvf+EZZsGBBauWLyqhdKv7Od74jt956q7zsZS+TM888s5g+su55FjlrPRwbG5MHHnhAvvGNb8hznvMcmTdv3kRZXt5sM4uN9+IeeeQR2b59uyxbtkxOPvnkSeV47qjsmrSl8T906JB3uVFU3yIAUp2UPrReCykeTKHfixMRmTt3rpx22mkhkFm3hS5vhy4ebdvmz58vT37yk90yvDq9ZwxrnwE866yzZOHChY2eA8yWmnE8dSn23HPPlaVLl1ZBYwTlNq3n1roWL14sy5cvd4HOg78M9uz5R//SpUtlxYoVaV5UaYkOQU3rWrJkiSxbtmxSHMJfBIbZMqGG6RjoeaoBuRIweeH2mbinPOUpE7CpaT3IKoV79dmNJCIiT3rSk+RJT3rSlPbWlGHjFTAxTnXqqafKqaeeOqm93vK2Nz4IfRlwRh8LwBTVlgiAVCfVj5WqCfxl/+IRgWBTcPM2gUSgGMFcU1DEzQURJHtwWQN+WFYGjrXQV4JAr92axh6tLNxhfASGOHaRLBhgXoyzfvtaGNu3Nl4Do1BpIcPCs45dDWz0enWbPmwY9snWpXFe+7Nwu1PYjgVussBXv3jv/8M47zUx9h2CWI+97r0NH9HGEOvGuNIPFKsmaSmqVgRAqpPqBwD7gT/Np3kiEOwX/ry/SRsE8kqgWAN5JfjLwA/HXC213jnD/FGakjsDMwuieD4ztxfmnfsaeUCIFj8tV93eZiBMXwt/1o0wGEGZZz0sgWAJAksvgtY8Cko2v8hk4LJ5cGcvnlOEtgjsPAjUsbFp7TUX3VsGhUDsR0kEQGoYIgBSnVRT+IugJbIKqluF4U3hL7LsIdBkaSN4jMqNQNHWVQK+yLJXgkSc7KMxjs5XUwj0zgUeo7Aav70emgKgKrP+WT+C2ezZs1MrVxP4Qz/Cc/QMmsKe/djlVrRkehBo+4SWQ6/NHthFFlAcD7z+EMi0HdaKGZWLafFfQzTeAzqEwAz0bFxTKyABkBqGCIDUE0L9wJ/Np3EIOJinTfiLrHZN4LGU1msXhpWgMQO9kgXQG9Ma6CvBnpanfVF/9FdwpbDIb8MzS6Mnz/LnhUfWQD2q28KJtaCJTAWgGiugV49ClpYXLQOjBRBB0LMEYl227daCqOl7vcl/w4b9zeAQrzlMi+VGS8Bal5YVWQLtWHpWvaZWwRoIjK4vimpLBECqk/JgAcNFmln7PPizZXrpmwJZBH9aj83fz1JyKa21AOq/gdTAXRPwi2ApSx+BoPq1LOv30nlpvCO6PT+G9WsBLC0Box8BxgNAPFqYEZn8Pjo9ejBox8tCJcJRPyBo83njp2k9cIz6WQtx9ppRyFJ/zdJvDQTaccJrENNbN0Kg1+ZsaTha6qaotkUApDqpGpBA4MM4D/gQejRfCeyawp8HZdY9qDUxWx62dWXt17T97ga29dTAXgn6vHgFWW2nbUMt/JXAD8PsODdR7RKwyOR+lzaBRECI1sHIOieS/xWcBTrNHz0TiMu/9nk+vPaw7R7U1cR5R7y+0NKWLfnWQqCtR/uUgZ91W/BDIFQhEOp5qL1eKWpQEQCpTioDP5F4x2/kzgAIIceLqwG1ErTVAF0/QIjptd8ZyNo0JfjzxjOC5+y8eecnAkab3oPBDPqyyTICOwTNQZaAER68PPa8ZxbAUphnzbMwmG3MyECwye5ffSWKrcsu+WZ9seVFY6Bjqu2342dh00vvgV6Uxp47tMzZa74WArGcyO3VhyIAUsMQAZDqpDKY8OAPrX0R8Hn5I/hrAmWlMNu2GlhsUjem1z55VsJadwR+CGyZBRDTlaDPAz4PWDGNlQU8jPMm0Qggm1gAEQQtkHhpIrBoagWshUFtUwkAa0EQIVD74X0fI8jr9XKLn/cMID5Lh/2y+bIyEfgyCMTrYxAItG5bDkKgJwIgNQwRAKnOKoIJjRNpZu3zIEfLGjb8afswLgPBDAhL6b2ybTk18IdjatPhxozoPEXg2AQCPQBUv01b6/b8tjysp1YZ9Fm3N37Rc2BN4M+DQfxBUAOA3rN++BoYC3XqtnXpeffAr8biVwJEvA6aWPiaQqA92u/BoBBoy9Gx1joo6niIAEh1UhEY1ACfzWfdXnqvjjbhDyfhfvJ6x1JdNg7TluAvAkIP5LBcPC/eGJfOk+fGuvAascfM7flVduyiJeBo2TeKzyBQ67J9svBi03mAF7ntx/6AQNiosQBaP9aBEOjVNTIyMiWt7Wdk8SsdVRbWBwW+CAL1PEQbS7QdntueQzzvJSC01w2hkBqGCIBUJxUBQA3w2ZcvRy9ixryRpa0f+PPyYv1RulrAiyyCCBY10JfBoAd+Hmji+SkBXwn2bHk1r4EZFP6iPmWKYLAGAvEfOmycgpv1WyiogT9bju2fhbt+QRCXf2162ydMj223x16v2ZJwdK4wXSmsBIF476mFQM1rN6fgRhUs3wNCHVcCIDUMEQCpTgohIQM+a0GJ3B4I2nQ2TVvwZ5dGtV58Px/WWwK8qG4Esyht5LZ1luAPYQnz4RjXQKA9Dxkc4sTcBAAz+LP11wKgSB0Eem6EJRvnHRVgLBBZWIqWgb0+YXnejt/I0qd+7988sk0gnoVP8+LRGwMERHt+rFvT2XAvzLYpg0CsR5fDIwi0/bfvEqzZCILXBT4rSlFtiwBIdVIRNIhMhbzIGoWWKRH/pcleeFvw57XJgox9tUkJ7mqeA8S6MgD02lWCP5snylsDgyqEPg/sSq+BwfQYFvmzMmoBUMSHwJIV0Pa7rdfA2PSeVa72NTAeEHoQaHf/ehtObJttHbYsr88KbAiMmEZksiXVxltYtNBm02pcBoF4DZcg0AM/W25NeOm6pqi2RACkOqkM+Jq6PRAsAUrb8Gfrx3JK9YhMBcUIEnHC96DPg7zI7YGf9Wew6I2xloHjHp0TdWNdGG6vG8/tCSHP+/FQK9y9iXVHAKh11Tz7Frk9GNQ0uNRcs+Rr+5RBoPYTl2Xt9YH5tNyaPntLwmiZQ4C2YKWApuH9QKB3T7FhHrCVAA/z1rgJgNQwRACkOqkM7JqCjOa1MOUBZhMoq4U/BFDM0y8U4lH75YEZjgmOQQn+onDbpxIAlqAvAz8cvwwAVQhwmMbLg6DZRBZoVOi3GzuwrhoA1CO6ayyDNQDogWBmCUS3d014lr5er+6lz1mY1y9v3BFo+4FAe56yzSLWKmjH3wO/GjdCIEW1LQIg1VlZsBCp3zHqQY0HPjgJRzA0CPwhTNSU1QQKvfRRPaV+eqCXASGOXQR+TaEvAkAdY+86sekzdxaGY9dUpaVgW2cExDZPtPzbBAbxPNUAoLc07JWPbhy/JlDrHa3bApetC8EM01q3+ptAoHdfaQqBWk9pZ3DkxrwU1ZYIgFRn5YFE5s52/Nq0GF4DfIPAH06MWb4s3GuT91ygrcuGZf8njG6b3oM/W6ZnUbXjWguACH5euDcx2+ul5M7Chg2AHgzafx2xsGPTlMDLujMo02f1ML39RM//qcUuswLauux5s+m8Y/S8n6ZRt02Hddn8OoaDQiBe0x781S7v2vPe7wYRimpbBECqk6oBPoQrBBeEGw+kRJpbAPuBP9teC09e2pqNIREURgBYgj5vXCP488bOnoMI7mogUN04ZnZcbJo2AdADzSZqAoAebFrwsX7c5KHHEvx5S6UKcfisoLfE64VbMMLlXdun2bNnT4FNbL89ZkvCXjrbL+/1KjputRBoz3kTC6AXZsvRNjbdIOK5KaptEQCpTgqBLwIXmwbdXj4Nt+kwLIInD4xK8BfBksJMkzprABDHIbP6YV+icG8cvbGsgb0MAFV2vLy6bPpa6Cv5bb0I7rVCALQAhvEZAHqWMM86WAOAWI+3vIsgGEGgrddu5ND03nXe69U976dleHGe26vLLr2qaiHQAzJ7bjzQ03HFMIRFVQnwSs8DUlTbIgBSnRSCQuQuQSFCmPcMIG6I0PKxbCyzBv6s1aoEeTXQ6aX1+mnrjuDOjle0KSQL03yDAKAKwR3PsR0/mwbTY1jkz9LYOmuFsKdhkd8D3sxK5lkHEQZrLICeZc8DQQ8CbZgFO2xbDdRGRxH/xc3ojs4Vjrm2s18IxPNlgQwtjzYMgbAG9mw9mZui2hIBkOqsPKBDdwSCaEWy+Wx+ry6Eocx6VoK/CFqbAqBtVwaAOAln6bz+RWmwbPvS3wwAPQj0xhzT4njZulQl8KuBQBvugWZJCD823IZZf2SZs/F49MIQBq0fLYA6dgiAGQh6EGjL1/jIWub1BeHOA0ALlzjOtgw7fl6c+r2NGV4eb2kXf1B5S7iRNRCBUOuyaW2fPUhEYKSoNkUApDopD9wyN8KKjc9AB9N57/CLoKyUJiunBH8RDGZh2hetK3sPoAe1Ecx544SgWQN/2L4oTXREEG0KgCU1AUDcqIHygNC6cfwQ7LyjLQeBzKaxEOeBZvZBELR1eVCoffX6hO3VtLXP+0XQp3VoefjDoAR4GmbL8fIioFmgw7xo7cM6sk0hJfDDH04U1ZYIgFQndeTIkUk3Wg9KvAkngxmMe/jhh0VE5KGHHqq2kEUgiW2w5d17770iInLfffdNWTL1yu/X3ev1ZP/+/SIisn//fpk9+7GvdzZeGTRjvA3bvXu3iIjs2rXLPT+aTmXr0DgP/mw+Pe7YsWPiaCfdGtgrgZzVtm3bJh3bkme90T7dfvvtk+BNVbNU6lnlbNzY2JjccccdIiKyc+fOiXoii54Xhhs97NIzxt95550TRwuKOgZYpuevdd99990iInLPPfe47fXyqrVS26MfbIsNe/DBB0VEJo79tNeLs23wysW0ei+kqDbVG8c7D0VNow4dOiTz58+f7mZQFEV1TgcPHpR58+ZNdzOoE0S0AFKd1JIlS6Zs2FBrjv17q9JSJVr2NH+v15OHHnpIvvnNb8oll1wi8+bNS/NFS6eR34bfd999ctttt8krXvEKecpTnpKm9crTPkVuOwb79u2Tm266Sd7xjnfIkiVLXMteZvWLwjB+586d8p73vEd+5Vd+RZYtWyYiU5dqVZllMLMEatj27dvl7W9/u9x0002yYsWKiTo8ZVbB0jLa9u3b5corr5QNGzbIypUr07Sl382RRU/d27Ztk7e+9a3y0Y9+dKIutBR6Vj/1Z5Y/G3777bfLddddJx/84Afl/PPPd3faliyCnuXPC9u1a5d84AMfkJ/7uZ+TRYsWhdYtzzqm/c/cNv2BAwfkc5/7nLzqVa+Ss88+201TsgRGVj+b7oEHHpCvf/3r8tznPldOP/30orVPLXVZG7RPmaUP40dHRyes7hTVlgiAVCd18skny5w5c1IoqnnfH0KazaMgOW/ePDnzzDOL+aKyvY+2z9bzlKc8RRYtWjQlbdbuLN4DU61ryZIlE2CRpS8tKUdhWs+yZcvkggsumKjHA7oozPrVnR1XrVol69atC0HSc3v+UtjKlSvloosucq/LTB4URiCo18iqVavkwgsvdGHPAiHGewDogZz2Sc9TBnMR9GVh+DygyGPX3ooVK6ZAHMKWd8zcNky1YMECWbhwoZvG+i1YZR+bzy67PulJT5IzzjgjTGPzj46OToHLDD4tOEbxR44cSa48iupPBECqk7JWpMxqhfHRs3yRNdDm96x6TeDPwozNg8/bRYCHgFoDfV6YrSvqO8bZMa2FQK+etuBP22OP2D9Mn0FgFGbjPAtrJoQ7W77GYRi2246djR8fH5dZs2ZNlGM3GWg6e0S3+j1LsU2rmwwi+BsZGXHDNJ+21bYdr3nvFSsIsl4chmN5eN6sMJ/I5JdIR+fXy4f1aN/1+5rtDLb12bIt3Nt46/bqpqg2RQCkOqkS6GG8Z30qWbYwrVeHtwztgR3mQYDTtrYBfzUAGAFfBoWlsfJAz25qsWPRD/xpu21YdJ4wjXfteHFZuFdnJkxjwSWCQQRD7RPCH4JaDQxGECgydbdxCQQ9+EPLovVbuLHfjcxyiWPmwSCmGRsbm/KXj01gzsKoHRvMZwFP09jrwoJcBnwIdB4QlsDPtpWi2hQBkOqkItDTOIxHKMFf+h78IGx4lj4PyDwA8uAP05bgL6ovC8c0qqwMD+pqYBn7bc9VljaDP22rPQ94RKiNAC8DQc+PqoEKlbfc60Gfhnvgp0fbJw/+msCgB4S2TwhzKg+KPKugthGtgfh9igDQgiWOU2T5w7aOj/v/BezJwpUK/zHEWgYxLV5fGudZEz2Qs+Pq/WVdDfjhd5ui2hIBkOqsPNDLQNCDF5H8xc5ajgdGaMHD/BEwemV49TSBv9JLoLUOfEFzBHjeuHhg6EGsB5ol8EPw8c5ldPRgEctqAoJRXFRnKV8Ggwh+6sdrIrLM1cKgtVrZeK+e6KN5omVhtApqf3q9ye/2s9cjgh6mjUBP01nAVFm/B0ue7Ph4ZXova8br3rPWeeDsAR/Gozvqi42nqLZFAKQ6qQz0bHwEf5HlS8uzN3+0zNk69dME9rwP9qMEf7b8CP7Q+mGXxiKQrHVH440Q6QEgjp/6Nb2Nt3GlYwaMqhr4i+CuCQBG5XnPBXrWQG9c+4VAzI9QYeux5TcBQYQ/69dlWYQyOx54tMDlLf1qmREEevcBzZeBoFUNFEbXL5ah4dHzgB7YRSAZgSFFtS0CINVJRROXB3MedHhA4wGPrU/LGRT2PPjTvvQDfxH01UCu1+ca6MPx8MbR1uONvwWjCPxq4K8ElXjNeHGl8KjOpkLgs+WiNVClIDUIBNo8CEMaZwHOps9A0AJNyRLo/dDxICiCw8itEIggrWOHf7dm+94UnjCfV4/3Pah53g+vK3RH4MdnAKlhiQBIdVLeL+8IBGsgyIMf1aCw50FPBksKdlEdTeEP3ViXhkVLvl6f7ZhnYFeKL8G6d669c2/7ZOPwevHiaoXXTaZsaS6DT28JWD+DQiC6Pauc90xfJlxiziyBNo89v5EVMLL8eW78+zUcPw8CVQjC3rUeCX8kIsR6sGfrjCDPwl4N+BEAqWGIAEh1VggPNiwDGC9ey/DAKIO9DOzUH1n27Mdre1Zfk00h6Na6srHyoM/2y7P6RZAYQXUN+NVCYJQe3dF1lMmrs1SmPmtZgigExZq6+oHAKJ8KwdmCYs2n1+tNssR5lkBbh92o0hT8bLsjCMTvn2dh9ORZCu15iM6L/R5rPvtdiJ4HtH2o2Snsgd/IyAj/Co4aigiAVCeFMGMhRaTZ0q/IVKDx4DKDOwQ7D/Qi+ItgsQ3488JtX7z4aJxKYOgBIJ4L7xz1A3yl85xdN6gsvQeSNQBo82QQGFmkbH6Esppyo3ZYsMPzZK15Xt7oo+kxvweDWp4HZdkysI6LB3EeBNrrDce49BygZyn0dgZj2Xj9RfXqd9hbLm6yFIyASFFtiwBIdVIRqEUQ44GWlwYBSeXBXVMwimCpBIA2XRuvg8G6orHCcfPak/VH80TnKYM4dTc9IpjhBO1dR6XrDN1NALAkD+TwPXZRe7CM2iPmEZkM5risWwJNC3rWeqd5FVawLs2n6a3fswJafwkC8Tr3ZGErAzEvzLPmYV0IeLY92cYOL43WwWcAqeMpAiDVaWUgaN0RHGIakakvL47gLrPWNf1oPR74WegswV/pdTCqKD4ap2wco0kU6+kH/DwQigBQ68N0kT8Ki9L0A4AWsprI1mWXS0UmL0tm+RH6MA7rsSAnMvmVJZqnxhKo5xuXgb26vOflEPDQelj7+hc94jXZpjyw8yDRwqltF44zgmD0XUAYpKhhiABIdVIe9In4S8MRtIjES794g7agFoFMBJ22vZGFz8tn49t6FyD2yYPaaDxqrX8IJsOw/uG1gPm9tBEw1QJaEwBEwMrSNemTyGTIRRj0gM+GI/xlY2fT11iZLEB6Viu0yqHVT+FO6/GWgkuvf1E//gDRuFogxDHKvu/eWGLZ3ite9DtbWgr2ABHrqr2GKaqJCIBUZ4Wgh7Bi/Zreg5sM7myYSPmfPbLn/iJQyiDRgl0/8IfWP/si6Aj8Sta7DARtPm/M2wI/z9JXAsAoLAvvVzXlRfCH1rKsrAwGS+3z6tFwfKUKgmCNFdBbEtY4C3Z2qRN360YbQkoQmMGYN17eNS5Sfh7Q/hVcZuXzviO2X9Gzf7YtpQ0hFNW2CIBUJ4XgIlK39JtZo7z3+6k88Cn5PSCM4FD7FAFeFtfPi6C9MbFjU7KMZvBXA4Pe+YrC8LxjXAZLJX9t3CBpPZWWhksA7MmCAuaNloPRKofghzBYgo7IChiBjbcBJIK7JhCI10Rm7YteD2Pj8btQArZoF3BUpj0H0W5fe/TSU1TbIgBSnRcCCsKKpmkCbxZcIoCr+WTAhLDkxUflNYE/D/Ci8mqg1htfLx32KfLbcBumiiZ2L6wG+GpgKsvn1VMjhKsoTQTJtSpZBSMQLKVBkPSsgfa5NIVBu0tYy7HgEr0Gph8IjL670YYPD9i8+Ej4fcoULetav5bpfT9sGnU32QlOUU1FAKQ6KQSaprBnAQjzYHlZfFSnSD044k2+BH6e5a4W/tAaF4FzDQhm8IfQFo1tDfhFsBeF1UBgFl5SCcqiSbkmTwlYm24qiayC6o7GsWQJ1LLRGhhZANGKqNcILgEj8JXeCejlqV0CbiIPEHHM9Fh7n/DaVwuFmL/fa5miMhEAqc4K4USkbuMH3sjxGT28oUZlWiscwlr2omQP8LSeyHKIcR4g1sCfN3F4aUrgVxrbaOz6AT8PUrx8WZlRWE1ckzRN0tVYBG0cwp/1l8AwAkHvO+HBn9cmtAZ6dSIIal7PmpUdte2eWzXoLuDMChj9kwh+n2qsfFimbafX5tKGEIoalgiAVCflWe8iIKm1bEVgFsVFgBRBWgZTWk9WXxvwp3V4/c7gLstf6hNaHdFtzymOgz1G7lpALIVHimCpRtkSnVeG93oWC1s2XdN+iOQg6AF1ZAnMrIGRBdC7JgaFQAS70i5g29dayBN5/L+MM0tgU0ujtwEkArwICvutm6JqRACkOikEEQ3L4A7T1PhtWJa+FvZK/wQSxXv1eAAXwZ912355ZWUgaMc8+2TjbY9anhdXA3YetETXSqR+QKpWpbK95+y8fBn8RZbADBI9SxaOa40lEMvE3b4WBL3vjIhMAUUNq4HAyJ/BUdNNHxFgRbuo2/B7IOidIxxzimpTBECqk/Imk9JNtem/dyDEIHzhrmGssx8LYARTJfCrhT+cGCP489rqjWHWfnuuBgW/GujL0pTCp0tee7xXsNjwDAY9ZWlqxiySQqH99HqT3+UnMtUCaK9DtOZlz/+htRAhEr+zevS+T003fXibc6x1Uf2epbCp33s3oO0LjkE/546iakQApDqrWuufB0SYB/1NYMneuCPYw3Lwo/3J4j0gjCaiCP7sBOLFRZBaY/WzbVR5QFgCvwhKSrCC9WRpI2Vpoz42VcmSVtOPEgzWLhHjtelZkxT0SmGq6D+FLVhZ6yBa9nBpFC2A1oKXWf+0nsza58l7CbRnRfSu+6guBE4s345PaWlY8+qxaf8oqlYEQKqTyqBFpLzEUnqhcwlkPJjLwKn0MmisI2uvZ/WzaSKosxOFN3aRBbQG/iII9OCvBvhqwc+DpSbgMx2K6o42W9SAnw0rLQnj0qWtx1raonZm8GdloQWXhq27ZldvCQLx+sYXnpeuVe+61zqs9Q/TROOIfu/5Qs9fcx/To2cJpag2RQCkOqvoJh5Z//rxi0wFIIQ52wYPCj1gw3gtw4v34NHGi0xemo0sgJrO1pWBoNf3JhBoj7VWvybg510PGbR0XVl/vXAP/NDvuW3+CCxEplrTNL7Ju+csuHnw4qXx3uuHVjG7TIrtxesggyPveUAdF4TObNxGRkamLN1mVrxB/Fqv952hqDZFAKQ6qYcffliOHDmSwpAHQghZmt6Lf+CBB0RE5P7773f/ixfLyuIQBm3YgQMHRERk3759YVswLwJpCWa1nzt27BARkTvuuCN9VY3I1Nd2IOxm7q1bt4qIyJYtW1IwLE1iJSjq9XqyZcsWERHZvHlzmLcNbdq0adJxmNI6Nm/eXIQuL86GRXnHx8cnxk7Pl02Pu3298MxtX1Q8NjYmt99+u4jIxNH7GzncQYzh6B8dHXXj9u7dKyIid95556S6NF6Pmn9sbGxKnIZhnHXfc889IiJy7733uuUfO3Zsov82r6bR18BE8V577bho+NGjR8Prg6L6VW+8yc89ihqyDh06JPPnz5/uZlAURXVOBw8elHnz5k13M6gTRLQAUp3UxRdfLLNnz06XWpta/9ByeP/998v/+T//R37kR35Ezj77bDcNLtX2YwXcv3+/3HTTTfKOd7xDlixZ4vYlW072rH+e9a7X68kdd9wh1157rdx4442yYsWK0PLnhUdhNk61detWecMb3iCf/vSnZc2aNVPS2qNVZvGLLHqbN2+Wyy67TDZu3Chr165tchk10qZNm45LPU3qyqx7kd+6N2/eLK973evklltukTVr1kyy4OERy4jSeFbB8fFx2bp1q7z1rW+Vm266SZYvXz4lfWQJtFbEKA36d+3aJe9///vluuuuk0WLFk2xnA1q/dO8d911l3z+85+XV7ziFXLmmWdOKTez5LVpBTx27Jj827/9W3xBUVQfIgBSndRpp50mJ598cgpbNR8EQAQ6EZGzzjpLFi5cmOavDffitZ7FixdPQFn0PsAsLANedWtdK1askHXr1k1KKzL1P4JrPiJTn/XT45o1a2T9+vWT0ngA2A/4YTlr166dqGuYOl71NKlrUBBcu3atXHzxxVUAaJdnbVzpo9JrL1qWjeDJA6II2FRLly6V5cuXT4CWl1Y/o6OjYVwUr/16ylOeIgsWLAjTY93qL9WZfWx5hw8fLl4jFNVUBECqk4qedYssVujPrGfRM29Z/qgcz/IYWdiiZ/y8MiKrX9RG2x/tE8Jf9kxgCQC1/Xa81F1zRLfnj8Iof3OIDdcw68fzp/Eah0fNNzLS38uH8UeC9etmC4U3GyYy+V88bP3oxrrw+6Bl2v7beKsojQ3Haz5Kb9uJbdH+Nb1/YXkU1bYIgFQn5QFIBmIZXHnllQAwgjOsC4FNy8Y4VWY1tO3JrHwliPT62wb84Xh59UTAl4FgFEb5QujzwhTsvHw1srBWm89eA3bHrI3zykVg8sAJ89nrHOHI5kdFUGUhTsNxfL3vWi3kNd1BbM8jfhcpqi0RAKlOqsmvZfVHcIR+C0O2rMgC12QZNfsnDWx3KX9kDSwdbT0i7cGfB3nW3wQCszCqTiUQ9K7xyPpnrYCqphCYQU9k/cuOFtLUr2XaOr3rNvt+ZX8Fh1AWgaYdryaQZ/NjO2v8FNWmCIBUJ4XAlQGdZ0HLAA/jo/we5HkwFS392nCRqS97zgCvtAycWQS1D97YNYG/aMnX89vzZo8YHvmp/hWBoAeGEexZ2XgEo9r22PyeFa8W/jwQtN9V+/2ywvf/ecu6GB4BIvZJy4iWfnEMvbI0f2YFRD9FtS0CINVJIVRkEBLBEgKSlxfDSjBXAk8vv1dPbZ04sdTCm45LPwCoeW19njs7X57b80+HShsqcFNDE01n/zzow3OBz/vZMC9O3RZGsvqx3tJSrnfUfB4I2u+Lrcv7TtVY3xDYMohDaMuWfjNAjPoV3d8oalgiAFKdVQZ0nl/zoD9bGrZ1ifgWM5xsPLDK/goOl5E8QIzKtoDpvaLG65f2YxD4y6AvgroM/KKwYatfkGuzvuPZbwttXngJ/jLrYAkCo/PvgZItD4/e0rEHXLYuzwpo++l9H3G51qa37dY6ImiLln4VAm1+7/teawWkqLZFAKQ6qQzoPFiJAM+DGQQreyOP8mcQGUFjBqe2rGhZOfN7H5wE24a/DPQy+Duek1cT4IteodKPBTDr4yCbMfpVBOC4SaTUbgTGDEi8a8XGIehhHnvENJm1zIvzvhcIg5H1z9sQkgGfzee1LVvqrbUCEgCpYYgASHVWbVj/SgCl6UplR0u0Xj2RBS+anLx8UVwGpNpOb+zahr8I+I43/NWA2vGwAkZ1eP23gDnstnnnw9spbIEwWwrOIDADQIQ/BD3vKCJT8uB3qnSdexZEBDWEN8/S6H03PeuiV2/p/lRjBaSoYYgASHVWNb+KMzj0gKaJZU4/tZbBaCnW1mOXgCPLYeYvTXbe2PULfxH0ecDXJfArQdXxfAawxvqH7/AbhrxzVvs8ILY1g0AtPwoXmWzds+HesbQkWgNIaGGzIIjAaaFOv/eqGujDcbWwWNrgUbrfUVTbIgBSndSwrH82TtUEwGotgwiOURuz/FHbPOtfCWpr4M8bnyYQGPnbUgZmTcO9NP0AYAn4ME1m+fN27bYpBTvP78FfBIMRBEbfL5UFP88dWQm1zAyarBs/TV/9gpBny7bxkUWxH8ijFZCaDhEAqU4qAzr092v9wyXcmuUknFiiNJ41sNTm2rI8iEM/hkX52oS/YUCLSDO4G8QyWErr9a9m6TezAipsYtnDsgpqebXLwCWLoAc5WbsxPLvGEAg1vAagvO+SqvTqF4RArNfG6xhEUGj7Qisg1TURAKlOqhaWMG2UF2EP02cQWQNsEXQibEVLv1hGlg7LRRD16s/gD8dc3RiG4Xi+2lYt4DUBwUGeuWtiFcwA0rMwRta/YYIgll2y+OGSseb1LIE1AIjgZePxuyky+VUy0XcdFW3MwDjvOUCEvOg7m23iaNMKSFFtiwBIdV41gFcDh571D9PYuKgOL73nRyi09WUwGLXJ619t/gz+vLw23LbbHjG8LdXA2zDhcNBnACOLX9QWD8SsPwobVNhWC3lN4dD7PkV1WiE8RsvAGB8Boq0fYc8DrNIzfXj9Z4BYsgJGkJdZGylqmCIAUp1ULfDVpsW4Uni0/FqyDIr4zwVqPdlSr6bDv4MrTVDehNEm/HkQGPkHUQmQvDRN/aW6vDpr5cFfKZ3Xt+MJghkEan21EOhdO1596LdLvDYNAlNkMcTvhLcU7D3vhwDmWQaxLZ6VcBArIPahlJai2hQBkOqk8MaN4U2BL3r2z0uHYVGcB2D9/hdw7fN+Wd3ZxGjhLxtLG27DMvegamq5awMChwGAniLAitpi448XCHr1eM8FapoIAr0yrbznCO11mb0bENOVrvPou1F6h5/W4UGtF4dtszA5yOYQFfaXotoUAZDqpKIbYz/AlwEU5ivBWE1cBl9Zm2xb+gE8nECiSSVKa+NsWOYeVDXw5oFZlq9LABgpsvxFbkxn87Z1PrL6Iwi07YngLmtndG1iudGScPTdLm0IiZZ+M2teVm7TOm3ba58TpKi2RQCkOikPgvoFvtpl4ybWv9qPBc3Sc3+R9RDT1YCkp9pxULc9F557EDWx2g3i9vylMAVAuyzpbTAYRFhXCb7UbfNG/kFUaoetE90ZrHhhCIUZ5Omx13vMimfLxe9oVE/pexpZAW09Xp1eOg/6MC6CPu85QQIgNQwRAKnOKvoVXIJB9GdAiGn7sf5FUBdtAInKKE1SUbpS/0Wmvu7FprFj650Dzz2I+oG9UvomFkELdl4ehL8sDyoDRQtU0bEpCNpz0pY1MKrXS4MQqnE1S5fed6PJUrANK1nuEMS85/2iZ/qwHsxXA3yl72nUb/zOUlSbIgBSnVYNtKG/ZvOHN/lEaUvWPy8ueuYwAsQa+LPpojHAcROJ3/XnTbDeEd39qg0rHy7P1sBgDbxFS82ZvDHBuiwQeoAW1VULgsOyBnr1ZEdbpwdlqBK8Rtend21mGz/sq2MQzmyZ3net9Lxs0+9s7VJvaewoqi0RAKlOCq1n/QJftuzp3XSjG3kT65/XHqw3a2M2IdVMNvYYbaKx/uyI7n7VFP6isJIFTSQHvpp21AJgBFvWHwGhhtu6LHTZsposw9q2DXreorq9I/bb9hdBxmtbBHQ2Dq9dG1YLYGjxs+2xabLNJpmlz0tbu9SLeW0f234EgaJECIBUR1W6qWoYHkvWvxIQ1tzUS23z/FEZNfV75WbtycbSm0yjI7r7Vb/P8HnHKK60rIvuzO8tAau88aixZqks+GGfMkXAVWMNHEReHd4R82RtwPTeeGVLolhG6XvT5L173vekVEdWH+bPlrib7A6mqDZEAKQ6KbypapgXV4KxKG/tTb7JBpOo7Kju2o0fJbc3UXiw67XJO6K7H/Vr9YuWcr04BLWmsGnDaqAMn3XDcAs+ntvLF1n9LHyhEL4y96Cy7cC2YZzXx9JyJo6H953x3Fq2jSt9f7zvb2TNy368ZWXa9mk5Ta2AOG6DfhcpyhMBkOqkHnjgAZkzZ87ETRI/UbgX1+s9/n4+G3733XeLiMhdd90lIyMjE2m8tF45pbTq3rVrl4iI3HHHHVPiPZDsd4NIr9eTrVu3iojI1q1bwwlMVYK+bNLZtGnTpCOqdqk1ymePW7ZsERGRzZs3T7GgZfmatkvHbsuWLY3ACcepBDq9Xm+iT3rE+JpjVLYN27x5s4jE56lWNfCudWmfEKg9f+kzNjbm+nfs2CEij32nRGQifGxsbJLbC7Of8fFxGR0dnZTe+vfv3y8iIvv37w/zeJ8ozfj4uBw7dmyizRgXlXXkyJGBzh9FeeqNt/ETkaJa0qFDh2T+/PnT3QyKoqjO6eDBgzJv3rzpbgZ1gogWQKqT+v7v/36ZM2fOJEubyGNLpp5VDuMy65x+vvOd78jGjRvlda97nSxcuDBMV2tVjMJ2794t733ve+WGG26Q5cuXhxY/z9KX7Sb2lr+2bNkib3zjG+XTn/60rFmzxl0+U793RHekTZs2yWWXXSYbN26UtWvXToT3swRbetZvy5Yt8oY3vEF++7d/W1avXl209nnhJcugiMi2bdvkyiuvlA0bNsjKlSvD5d6SsjHV49atW+VNb3qTfPKTn5RVq1ZV5YmWGL261b1582a5/PLLZePGjbJmzZrGfUFlY7pp0yZ53eteJ5/5zGemnKfMCijyuAXP86MVcHx8XLZt2yY/+7M/Kx/60Ifk/PPPTy1+GIaWucxat2fPHvn4xz8ub37zm2XBggXVlr5SmtHRURERN68Xd+TIEfnqV7/a93mjKE8EQKqTevKTnyxz5syZBHUIfzVxeES3iMg555wjS5cunZJGgc7L2+v1ZPbs2VNA0eazYSIiy5Ytk6c97WmT4hEWvSXi2uVhkccn9zVr1sjFF188Zem3BBFN4WDt2rWyfv16Een/Gb8MAHUCFRFZvXq1XHTRRUVg9I6ZW/26vLx8+XJ5+tOfXux7Cb7QbY9a/8qVK+Wiiy4KQV1k6n83NzmqVq9ePXGevPgmKoG1XnsR9OEO6GiZFwEOoU3ksXP1tKc9bQKcMhDT+NHR0Slxx44dm8iL8SIi5557rixevHhSWV5aL7yUtiaOS8DUMEQApDqtEsB4n2zzA36alNNvHNafPVzupc/6XTN21u+5s7BatQF/GIYbPNBKFIFfrQUwshzaid+TjhNaCNWvbpvOC8P22nbYczc2NjbxYwXbgWV7RywX3U2F5dox8dLa/mZpatrofXf16O3Axe9lFJ/FYb2Yz7Yzy5dtOLFpvXIoahgiAFKdlN4w1a1HezO1cTbeS1t7s6256fcTh30rfbLdjV64iG8p8vqKbRlUg8CfF2bhK1o2bAsCo/AMWBD8bJgHXx78eX3KIErHRM+xB2AZ/Nm2twGBWK8XrnVYv/bB2xWM7bFlaB4sK4LBYXx3a763+B2Odv9iH73+ed9rimpTBECqs4rgxsYh4GEc+mtv7DUWPi9vlE/TZjtzS4DntV3lTRLRZBNBYj/qB/6yMA/+bBguH9aU6bXLs/BpWMkCGMlaeGqsgeq3MBQBmh7RGlgDg94YDAqBWR8jiLNhFngwbdR3dXvXtaavsQKiFQ7b1AT+auIjfwaIIyMjMjo6Gn7fKaoNEQCpzqoGkNAdPS+VgZWXtvaGXhuf1eP1obb9HvTZY+RuA/6s+oG/zOqHaay/pjys2wM6BKcmAOiNO+ZBINTzlbW1dC5sPbgs7EEZ9rcEmk2E9dXGexbUUjutFTD6PiA0tvX9xTD0lyx99uiBXclNAKSGJQIg1Ul5EKTHbPkXP9FSKpYZwVothNWUmS3r1k5AXtvQAhq1v00NavnL4K8EdlEYpkcgyyyCmK70DCBCDIIOAiFantCSiRCW+fWo1sAI/DzoahsCIyGQedCHS8HY7pJVUd0IgZEV0Oat+f5hXbX58LvZ1jIwRbUtAiDVWdXAmAc/NTAVla/QmAFldOOP2oJ9yiacWutfacy8NpQm00HVJvxFQIdpSuDnWQMjd40FsAR/1u3BoIKgrROfh6u1BGr+DAKt0BrZhiL4jeK0HVmfbFux3d7zgx4ERuXr99SWgd9vbxnYi7N5sd8ZHGJbMosgjgtFtSkCINVZ2Zuk+jHOg0GbNroJ43NUGTSWbvJRm5rCX9M0ts9RfaXx7Ue1Fj89RtY6awXD+Ajc7CtAbLrSEnJ0tG7bHg8APbiIQNtbjrR1RM8yeucxAzaFy2g5GNuLENiGFTCDLi/e1tGvFRDLKkFX9L2s/X5n5WI/SnCI0BcBX7RZhqLaEgGQ6qRqgMeL9yCvBFU10Ih14yeLq2krtjdLWztuUd8GUWRZio418JcBYCm+tGPYc9e2O7L0WSH0YZiFLAQuHQcEB9u+2nOuEJi1OYK/NiDQa5MtX8O0jiwfthfb7m2ksmOl36Wmm0FsnAKa17YMBPuBQ1t+tPmDEEgNQwRAqpMqgZNIvjMY/TWQl0Fj6Waf5Yn6EE0CUTvR70FnNJb2iO5aDcPyVwN5Np9npcvKqGkrlocvG47GK4I+D6zsOUJwtRY8hJJICGoRBNr0Nl/bEOhdWzg+g1oBEShtWR4E2rhBv7+1MFcLh7bt0bsEsX8U1bYIgFSn5UEeHr0wLw4hz6oGGjHeq9Mrw1uewzJKr4+pnQRqIG/QySSy4AwCfzUAiFa/Ul6vLd7RS1cLgOiOrsEI7LSeaGdvE3kQiOOAsGfVlvXPa1cbVkD8vtj0dpxtmuy1LniM0njx3vc0gsNSnV6c7YP+NRxFtS0CINVJZb+wowkBb8Y2fc0v8aguW75XZvYcntenfiYI9A9i/etH2YSdAVct/GWf7D2ANcDoubFP+pdbIo/9B2vNpIsQgkcEP+v2nlm0AKfh3o+C0vm2EIiQq2nQjeW1YQVEi50HgqqmVkCsE8cmul7xe5tt+MBl4OjeE32nsS67tBvt+C25KapNEQCpTgtvyhjW9IaM+ay/FhojgIzivTKy9tuj197SWKE7SlMrDyIiK5p1I2DZ8CYfW0YT8IsAsPR6GIROFY6d95wYXkPWbWEGl5ttmkGtgQiStm/qjsDKi2tDEQhm6W27PaDUcITrtr670Xe1Zhk4+/6XwqJ/PaGotkUApDqp0i/haGcwloE342iCjtJHIFaT30JlVlZkzfMmKi99zRi2IQ/61B9Z/Szs9AN/beQXmfpqmOxYeg2M59cjvvtP4yL4QMi15Ub/AVwjze8BsAdjEQQOIg/aPIBTWbCKLIAa5n2XbB77/at9J2BUNpaZhUU7fKP7VJTPaxdFtS0CINVZ1fzfr6bLbu42X00adHvLv+qu3ZWMcdEkE+UvgV7NBNHPJFKy1GBatDS1AX8Ik03BEduWgZ8eSy+CRrd3RBi05xI3s3jA0AYEerBu21mCvX5gMEofgV2pjBqrpB0zBEF0Wz9a2/C7nbVrkHuMlm+tyNF9gS+BpoYlAiDVSXm/fGsnXu+/gbFsvNlmS3eZG8srTZbRJFPqr21nVFc2Pv0IYc47qtvzDwJ/+gyeZ10sQWD2fsGsL6X3AFpl158e7Tmyy7oWAHEJ2JvsNe2sWbPSNmXS/iN4ITB5VsBBLIJYJtapflX0H8FeGzW9DfNAEMvyvj/Z99vLW3qXn+1XBJveMXIP8j2mqEgEQKqzKoFSk0m4dMNtCnilukogWoLZCCS8MSpBYxZeoxL8WbdnffPiM3jz3hEoMvn1LB4MNnktjNeXWgugSHz+ovOmboRT3G0cwWCv15PR0VEZGRmpsgjh+cax9OAO4a8N8MvCEUaj9tdaANHyh+DVz/fYlt/kvlKbxitbhM8BUsdHBECq0/JukhkMevn0GP1nrs3j/WqPJvUmL6X24qN2YlyNokmxX0VLc1FaBIwsrgn8ee/+i/JimFeXDbP9xDBvF3DNNRYBAFqocGczAosNt9d7aYMIQlV0Trz02fUybCtgTX4sy0sXgaD1Y3rPmqfxTe81FjgxzmurjYueA6SoYYkASHVS+P4/kfimaeOiv4PDYwZitRM7+ks365rJBdNhX7P6MrDtV5n1L/L3s/RbAj0sD9+f16SuqF9a1rFjx8LXwJRe/aJH7+ON2+jo6BTQy/wlCMzOjz5PaNviWeMQ2AYFv1I4ll+7GQTTI2RHgOmdlxIsYlj2/c+O+NLn0nOANh9FtS0CINVZRb+EmwBe9msd66mFQCzLq7PfZ/W8MmvHKKqjqaKJ07OWWX+/QIb5MmseLvk2rccDPlW09GzlvfpFxN8olH2wHRZ6LPjZid8CnH1nXnbuEHSxTAtW6o+gr20YxLqjfFn78PviWf90TEsvhbb+7Ptv4a3W0lcLiNimmnsARfUrAiDVSdmbXvbKl1oYbGIZjOry0jS5QUcTTw1sll79Ek1Ag8iz+nmAEQFTLZDZDR8R4Ik8/rwcbhBpY2ewlq/haAEsQXy249f7YDvsRg8LghEU9nqPPROIG0MymPLOD/bHwlUbVkCULS8CQpGpm0G89nn5ELBLbfG+z1G5mCf7/np/71ZztG77LyCEQGoYIgBSnZb3qzubALw82c3by+PVhTf86K+oMjj08pcmgujGXwueTSeOkvVP3V66yIJWa5FDUPOgTSfEbDMIhnnQh3Br0+myrKcSwEcwiFBoodZCnoU6a62zbrSGRecJwxVImiwFe+U0uaZqYMzWWYrD8ux31VsGzr6XEXB6cJeFR+Vm3+3I7y0JU9SwRACkOqnSjbTpL+umZdS6o5t4CTSztqG7NE5N89SoxvqnYRaeagEvAr0oXmQq/JXyZq+S8SBw0NfAeACAViyERAVABRAFAN3t64FfBIZ4jiws2f5aCMT+aFoEwTasgLacDGKzvNhWLw7HQD/RK2ay7zimjY7H635EUW2KAEg9IeTdFNGKlr1TLypDjxmENf3lH7W9aVtUx2vzxyDWP0xfY/Er7ejFJWAvLoLAbFkY+4EAmP0XcJMfDfajUKd+bAc+B2g3eiAg4jmxFr3sXJUg7nhbAT1Ys6pZBo6+tzjOWG/puxR9n7G+2ucAMY+18nlLvQQ+6niIAEh1Uvfee6+cfPLJ0uv1ZNasWRMTnLqtv/ao+fRz4MABERG58847p6QVEZk9e/YEaNo6e73epDibxpaj/h07doiIyPbt2ye9xw3Bzi7L1WwqUNl0W7ZsERGRzZs39w2A0VHd4+Pjsnnz5ol6ovfvRc/wWQubPUaWwe3bt4uIyB133BFaCbWMWkskukVE9uzZIyIiu3fvTiE3+hEQufGcjYyMyO7duyf6hGntDxl7jXjXi5anR4zbtm2biIhs3bp1Sj1RG6Nryztabdq0adLRKgJTLzz7waBu7c+2bdvcayD6QTA6Ojrhx3THjh2blH5sbEz27t0rIo9fG5ofy/E+mLZ0xHzWffjw4SljSlGDqjdeY3+nqOOkQ4cOyfz586e7GRRFUZ3TwYMHZd68edPdDOoEES2AVCf1kpe8RE4++eQpVju0uFlrm/XXHPfv3y8bNmyQn/mZn5ElS5ZMsfaV6o7C0CK4Y8cOufrqq+UjH/mIrFy5MtwYUPsRiS0yW7Zskcsuu0w2btwoa9eurR7vJtY/tQBeccUV8tu//duyevXq4rIvWmmiZV+bTpfFduzYIe9617vk+uuvl/POO29KenzWD61FkRUQnwfbs2eP3HjjjXLNNdfIokWLwrHyrF/2XGoaz/Kn/t27d8sv//Ivyy/+4i/K+eefH1r4NK9apTOLIFoFe72ebN++Xa688kr5xCc+IatXrw6vpTasgJs2bUqvvdI1hucn+2zZskV++qd/WjZs2CArVqyoeiTApon8GLZz5075wAc+INdee62ce+65k9I0tfDZI5aTtWdsbEwOHz4sX/rSl8JrkqL6EQGQ6qTOOussmTt37sTSrV3CVYibPXt26K856mS5aNEiWbZs2ZQ6PHcpLvqIiKxYsULWrVs3BVq9CT1aJq5ZbhQRWbt2raxfv756vKNJ2Lq9uNWrV8tFF11UBDqENZzsbDpd+tJ0CmrnnXeerF69esrkieVhnRhu+2z7omUtXLhQzjvvvCljFEERAhOeVzy/dvPF4sWLZdWqVVOuB3SLyKRHIUrpsF0rV66Uiy66yL2WsK1ev7IfH6jo2vN+TETumh8O2q9169ZNgbLS8iwu1Xpue+0tWbJEzj///DB906MuN0d+rOPRRx91x5qiBhEBkHpCyVpTMj9OTqXJy5vMognQ82O4F28n6ax90cQatbcmfSZ8CgQnaoyzE7BXVjaxYxkROIpMhjrN51lgPPDzrD9e3V6fbHpPJQDX/AiCNq9tj776RcPsxgK7+UP7om5vXHu9eEesDbfSMrF/tkx0e/6mytoapY/q1fw6Xras7Dtp4z1/zX0hO2Lb7f3K2whSgmuKalMEQKqTarIE1daxFCYy9T2E2cRi472+1VhUShNXm8qgLsuTWQgjq2ANBEZAGFl6MgAs1Sky+TUzpf8C9sAPPwpxGQDqGCkEIuRF7mistewoHYJWdg1FgNcv+EWQ54Vn5Ufwh0Cpn6hOD/wUxLCemnvF8bgvUVSbIgBSnVZTePJ+aXvhXj1eHpzovfReOaUbdg38WatMVucgqoW+CJq8NF76yAIXWfAisLQ7Iz34Q7dIvMPYa4+mb2IBtH5vOVXE/zcb2zaRxwE0A76xscn/kesBoMKnBz9oBVRwQisgtrVtGIxk26WyFlFMZ4/ZD5XSD6nou43nEP8KsHR/iix7tT8CCX7UMEUApDqr2mVd9LfxSzu6yXuTiIbVAFvNr/paeIzaO4i8JcNS+pJFKoKtEuh54fi3cRn81VoCsezR0VE5duyY29/sx4G1RCkIjo+Pu0u6Fk4Vvnq93iTLo4U/myazBuqxBH+1VkBbHroHkR2rqF1Rnizc+65iPj0H0ffY+r26vHr6OUb1RD9iKaptEQCpTmrQSabWMpjlydpRa+nL2ub52+p3U2WWQA/OonSYB61/XnwEaBbkbH77gL5N1y8AZu3DcUULUJNNOrYsO4bWbaHOts2DQe/cWLDyLJ0eLNn0utu4BIj9gmAJ8gbJ3wQmbZ7a73EGciVL36CiJZAahgiAVKeFwNb013XTerywGsuATRdNKt6D9jUWh6xtw1AGg16YZzVsav0rPacnEr8+pgSDXvnWkqhHawGs+ScQtdhpmN19q5a/CBZKfcK03lhoPTjG6rZ1euGe1cwLs3HDuu48YMN2Yrh12/y4ZFz6XmblZu2tSRelr/mBij82KKptEQCpzqpkvSvBYamcDB6jidsrO7tJN4FHq2izSU3eWkVLhF5cTd4I/jAssrSVABABz4JeG5ZADwatvOvFfvDv3mxahBK0ZlrZJcqojRhn/dYKiOcosgBavycER4TGNq2BXru85wBLZVoYj9JG9wqMz+4NtT9GS5A3bCsiRaEIgNQJoaY35dKNPwqz/n5vzDXgWcpbk7ZWmcXPA7Aovwdz2YaLWusfgmRmBax5LjD6WAtgBBsR/FnYUGCx6dGNMIifCP7wXERWQA33lre1LR644bOGXtttu9u4BjNIq0lr+1JbDubHH3re+R8EAglzVBdFAKQ6rTZvqDVpSxN3VE72LFhtWwadHNqYXDIYrMnnQZsX3sT6hxsmsk9mDfSObVkA8SXe2mYEC4TiaMdxr9ebAnjYxswK6FnpPCteZP2L4K4N6CtZ5UrXWvTdifrifS/t616icr17gJevpn1RGgIjNZ0iAFKdVa01LDpGr95oUh9OAk0tgRhfA5P9tPN4C61y3tFanyIrngUxL05f+YJxkfUQgbD2n0I8CyA+iycSWwDHx+Nn/lClZwC1fXZJMAI9hEQLeBGEa/s8IJxO9WPB875Pto8l2Cx9n7N7QulcIzT2C3nTfV6oE1cEQOoJoya/igf5ZV2bpk2LXTTRDOvm78GBdWcTcQ38IbRZd42VsEl8ZA3Ev5OL4M9aGPWIVh58ObD3V30KgZjOsxiVloAt0HmWQM+6F0GiJ5umBgLRuua1YRiy9Xnh6sb42mcGNX+Te4oX1oYlj1Y/6niLAEh1UqV3X0WWtH5vnln+WqudtQjV1BX5vQ0gtWU1VQn0PFBqUqYHf6V6IuugTest+5bg0OZDqx+CoF2mFZl6fVg4s7t/Mb1IvJMX60XIK8GzB2w1cV64DVPro1UGhoNcgyULnQXPEtSVLIil7+fxgLQof6k8vguQGoYIgFSn1c8Nt/QrvObfQZpOEqWlpCxvjdosqw1lVkAR38KF/ppXv3juCPxqng+stQRmr4HBj939a9PVjJ+t21oSsV0RHGK8BVQEYVt3E+vf8RDCWwnmmpblhUV5S24MQ2vvIFbAqGyKGoYIgNQTVoPcYGvKzdzq79faN8ikMCzVTrgZ/Hmgh/4ay1aNFTECwsztPRdo4zQ82gRizxu+8sXKs/pZUMPnIzPrX2mcvLwli90gEDhsWGwCf/Z82D7VllX6odYE6ms1rPsWRTUVAZDqrJpY7EpllG66JStg7ZLYIGrTQtivShOvF59BoPqbwKVnncviIqsYWv3sphJbjj2K5P8FbC1/4+NTN35kO0Sjf++w7fHAEeGxyThimAd/TSCwLfgb1MLXtrDMmt2+Nt8wrH58GTQ1bBEAqRNCbf2arsnfNfhrKg8MMr+IhECUlR2BYAZxXnrPH5WT7QpG+POWgrWvmQXQfjRc5PEfCd7rRRDkvDFBS56Nj/J4gFhjASyF67ONWRrPf7zU1PLeRpk2Tb/fV1r9qC6JAEg9IYWTbpM8NTfhpks/ERzUtKOJjtfEkYEZprNHkfz5vyb1RVDopR8fHw8BD8uM3h2Iu4Y1vWcdsi9LttegDY/gLHq1DfY5sxY2GVOVhTrP+ufltzoe114/lsFo+ddLV/P9tOk9d5Sun+81rXzUdIoASHVS0U21Bvia3pD7KdsqylezzDyd6tdiE+Wrtf5FgKOyO3A9eKuFpsgS6G0MsVBWsgBq3lmzZqU7Uz3Lnwcq2M5oqRh352bWw8w6V2sFrFW/+YYl7zlADw5rXgZdqqcmfhAgpMWQGqYIgNQJo7ZuktEv/9Jzgm3UZ8O6eNP34K8GCGvKLVn/sNwI9jLLoAUthD9r9fMsgGhBUniIntvzXuJcgleb3hvHJhbAmjFv+gzgdGiQ5wVrys7Coh98Nc8HRuV2bXypmSsCIPWE1XTfUIf1vGDTpac21NYEm1n+ovCsbgSkKC/uqrWgZ8Mjy5+1Ouo/gaAVSWTyi58jELBQ5b3CpdSXDA5rxrY07m1cN22CYgZ4pWXqQcq2aWrLalMEQWq6RQCknnDqZ5mmn+XYDMQGvXk/EW/+nlUKj6X8FsqieK++rN7MIoj1epZBbxewfUE0LqXqM4C6JIuWPtyxG7Wr1C9vHLL83vsAI3n96rIVsKRBrYT9fr8Hub+UyqCoYYuvF6c6r36fpemnjmHItqU0UXjtfiJODE0nY89SpUfPyld7jHYbR5ZBm08tgdYi6G0e0bZF9ZRgGcOxn1meWkXpB4GmYavJ87ZenmH+e0ZTQBxksxpFDUu0AFKd1N133y1z586VXq838VdbNUe1ztR89u/fLyIie/fuTdPZOrw4e/TCbr/9dhER2bZtm/sfsjUflfV7FspNmzZNOnrKrGjWn322bt060SeRyTtnoxcz69E+k+dZ4WzY2NiY7NmzR0RE9uzZMwXC+v1gvaOjo3L33XdPXHu2/XbM7Xmz10TT6+/AgQMT1x5eV1FZNhzrjdp0xx13iIjI9u3bJ8rRfrR9LW7evLl47XnXIV6DNdfili1bRERk69atU6A+uhYR4r0wGzc6Oiq7du0SEZHdu3e3et01PT766KNVY0pRTdQb7/JPQGrG6dChQzJ//vzpbgZFUVTndPDgQZk3b950N4M6QUQLINVJvexlL2tkAWxi+bMWwJtuukmuvvpqWbJkyVAtgG9961vlN3/zN2X16tUiMlwL4GWXXSYbN26UtWvXumPbhgVwy5Yt8uY3v1k2bNggK1euLFpdPAsgpvOsf+Pj47Jz50754Ac/KNdcc40sWrQotZb0Y33R+Lvvvlv+7M/+TH74h39YzjjjjElj4p1f7/qovSbvuusu+cQnPiFvectbZNGiRdVWbiwb24UWwB07dsg111wjH/7wh2XVqlVDtwCWrj3vOuznWty8ebP81E/9lNx8882ycuXKoVkAd+7cKddff728613vkkWLFrViBezHEvjoo4/KbbfdVhxTimoiAiDVSZ199tlyyimnyMjIyMSElx1r0uikZ9OLiCxatEhWrFjhpiu5az8iIitXrpQLL7xwCiDayTWajEXE9avweaG1a9fK+vXr3bGNANDz6yRkw+1zbStXrpR169alk2mTSdGDOa1/8eLFsmzZsinP5h07dmxSWj0eO3ZsUlk1RxGRM844Q84+++yJ/ljIqr3O7LHX68ns2bOnxImInHvuubJs2bLq61YhL7sGEQJFRFasWCHr1q1Lf7Tg9dfvtZhde9512ORaxOtv1apVcuGFF6aA1/QaREgTEVmyZIksX768eP1g/tr0peN///d/F8eTopqKm0Aoippx8iDYS4MWqSb5p0tttUWtaBRFnZiiBZCiqBkntFyhBVXDvPDa/NOlttqiVkqKok5M8RtOUVSqEgjUAIf3DNmgZZbSa7tLZSHEZUv50bJnVq43fm30L0tXe06o6VGXLMbUzBUtgNQJId5QB1evN5y/3PLKjSxuteWVyqiJ8zY16BGhDZ+Hs3kya2CtpdGLK1kf+wlrQwRHijoxRACkqIaa6bDZBAAyqIysdroZo9aapXkiwCttZBgZGZnY7KHhdgMFpvU2T0T1ef0YxPrX1JrY9FxNp6b7e3U86p/uPlKUFQGQ6qz6uVkOeoM93jdoCx7DzHM8hLBXY1H0loVrgKb26OVTgBsbG5sCdiKPLwFjX2zabPd2qf5+++GV2c910MVr54mi6QA4QiM1LPEZQKrz6menZdMdjMO8ydq2lOrx2v1EnAAGfcbNW6bFZ/pqjtGrTGxZFupsPnwVi02HwJfV0wROvX5meWrVZDm5K/Ku+9L32uYZ5i7m2u+kpmvSli7uLKdOTNECSD3h1OTGGN1Ma8rw3lPWTxuisrs8+XqyFj0PamqtfWp9i+Kt30uDx5olWFzq7fUee5/e6OjoRHvsi5FnzZo1xQKocQh39iXNkTXQa1epX944ZPmj5xQ9ZUD5RLsuRdq3/DcFvEHuDwQ+arpEAKSesJruG2dTiGxSrk7CGSi2CZE1AFdbDvr1420EKcGKt6zqwZR9DhBhDJd6RR4bO3UrBGpZ9kXN+GwgfqL/7M0sg6W+RHAbjU1m3RvUchipTUjMrrvoH0LaKLtJmibpakXgo6ZbBEDqhFFbN9TI8pe9EHjQ+nBCRUtbVxSBnDcOTaAystpFaTFP9lFLnweGCIFabrTZwrbLLg1H9Wbtwn5GYZ4FsI3romRt7IqGCUql73Q/y9Clugh+VFdEAKQ6qeifFuykneW18FG64TYtGxXlQ7Dr2o2/X6tfBmYWXKNNFB7AWdklYkyPFj0vjaazy73RebXttVa7WbNmTcR77Yv+Us2zBNp0EXRhOz3wwz5k45lZ/kpg3VRdg0ZvObYW5Npcuh3k2eUu/9MMdeKIAEg9IdUE2jBPzU21ZAXw0uMnmhgtoDadPI/Xs4O1dVj40HHyAK72+cCSFTCz/qGlDyFQ89nrxV4LCn12Q0jWRg8AvfYhDKplENNhn5sAXjamKtsnD0RL/T0eGmSZt+aHnv00aUuT9IMAH0UdTxEAqRNCbf1SHtZzfTVlHq9J1rPOZX6RyVBXW3ZmBURLXgR7nqXMuj1LX2b503cM2mf89OhZAL3+RQBoAa9kCfTKy/xZGzzIzM5PTXjN+wZL/mGq1qrfZpk2Tb/3AFr0qC6JAEh1Vmjlw6XdJmWUrH/Zc3i2DV5cWxoEAtsCyNL4evHWmum1o9YKaNNmS70RPCIQRbIvjdb24i7gzAKobtwRLCLuphAPBGsshVFcjSJwzI7ojsptQ4N8f4b13bOqfc6vdH8Z5F5F6yA1bBEAqSesmj7r16Tcklv9JfCKQLOfZeBhWwmbQBq6sU8a5vkjAIqsgSUAxB27ESBGS782n0gzC6BnCSy9E9DWZfsaQWLNOEX5onPXD/w1Tdev2viBV1uWtxxc+/3vV3y+j+qKCIBUpzUMq5+1KNpwrwzbhiitF+7B4aBWDyxr2BNxJgQHPE8ehCEIlix5Nq11R3mbbODR9qo1cHx8fAoA4vI1HtVtd/viBpHMGohjUWP9K8Xb9iJcRn1B93SoKbg1Lau2/CbwV7LYtWkNpKhhiABIdVJN3vhv/cfj2Zxs8qi1CmYwp4BqoTMqb1AQzOAay+3nOUAbhiDoxUWQh2nRmhcBZLRsb8+T9qm0BGzHxKbFNiMAen205WVWw8jCF1n6auKiPqkyS2Qpb1Nl3zc8X03vCV68B4O1+W2atu8zpfKG+a8m1MwVAZB6wqgfSPOOJYtiTT3ZRFIrtCziZGotZm0LxwAtdLZ+Ly+60QqI4JJBmi2rn/jS83644UOhz0KgZwG0k64Fuagt3qthROLnArN+Yf+ysSlBY3YOa62AXp1eeW0r+p6VrHNN/3qt3x9+JWvfIPcsihq2CIBUZ1Xziz474lJvP/V5ViOMbwKKbSzlTvfyr0i+BGyByi7T4hIwWvkQEmuhy3se0Cr6EWAhcHz88dfAWGDz+uy1B5/vw6O3GUSk/B/C3sukbXui3b8lgPbO4XSrH/DJLGlNv5teWBPoi+IHXRomEFLDEgGQ6rTa+GWNZWXyoLFmucZCTM1ScGTxG2QibmOiiKyjJaupZ/lDC2NkDbTxmNZCXbY0q9Lz4C392nNrQRXPlYJX1E+vjV6bo40hdnk/e0aw9OwftsPz4/hH/fD6GYUPqtpl3yZpSt9X/NS8BNors62l2DYthxTVrwiA1AmhyMpTe2P1bvY1k0q/bfWsZjaulLcmba0y6MN6vecAoz7Y9Bn04bN+EexEcZnVz7q1nWj5iyyA0Xhk7YwsgZ41MOtTFB7VFeWPrKh4flUWTjF9NB6DatAfcYPCEn6X9frI6m4KcAQ6qosiAFKdVXTzRCtdaVdvk5uzhRgsCzckaHzJ0ocTh5cWw72NICL+pNsvCCL4WX8EhTat5/fg1panQBEBoR5LQGPlWf3se/3sudR67e5f226tp9YCaMNwuTZbCtY8w7D+eecnarvnz/rtld0vCEbXl/edafpePq+cUj1Z/kHgL8qHS8P8GzjqeIsASHVaHuR5E3cbVoAoDCGvNHHZD0KdTWtByIZ5bfDC27LAoCL488It0Nk02LcMVBR48O/jEHA8KIqgT2Qq2HsbPxQuLPTNmjUrfA0Mumvf+WcBsKZPpZ3BJUCMIK0EfhkMDut6E4m/f00tcSJTl2m972WprtJ9pOn9pik08iXQ1PEQAZDqpO6++26ZO3fupIl59uzZkyZItbigv/Z44MABERHZu3fvlIk3ssxgnRiGcSMjI3L77beLiMj27dtDC49dqoteHZJZbvS4efNmERHZtGlT1TjXWjzws2XLFhER2bp166Q8dvnMAhcuu0Zx6rZhu3btEhGRXbt2TZoYx8bGJvyZ22u/N/Hu379fRET2799fhCBv7DNYE5n8DOPevXtFRGT37t1TrILeNYbXVwaa1r99+3YReezaw3Ta5ibXG/bdhus1l117EbyVrje8prZu3Soij19/0bWD4ZhmdHR0SpwN2717t4iI7NmzZyINfmyeJkfMb/3Hjh0TEZlI/+ijj4ZjSlH9qjfOnxhUh3To0CGZP3/+dDeDoiiqczp48KDMmzdvuptBnSCiBZDqpF760pfKnDlz+rLseUfPord//375+Mc/Lm9729tk8eLFqbXRWvuiZ7oia+COHTvkHe94h9x0002yatUq1zIUWV5wyTCyPOlx8+bNctlll8nGjRtl7dq1VWPdZHlKP5s3b5Y3vOEN8slPflJWrVrVlxWwxvo3NjYmO3bskPe+973yvve9T5YuXTrJkqJ1ZBY/azX0LIDq3rt3r3z0ox+Vt771rbJw4cIp41SyhpXOnz3vu3fvlve///3ynve8R5YuXTrp2qmx8mWWPxu2fft2ectb3iIbNmyQVatWNbL+RdeYdxR5zPJXuvZqrzHr9s7fli1b5M1vfrNs2LBBVq5cmVqUI6ufjbdprAVw586d8qu/+qty3XXXyTnnnCMiMsVqmH36sQx6lsIjR47In/7pn7pjSlH9igBIdVJnnnmmzJ07dwK4+j2q24vXyWvhwoWybNmySUBn89h8OlFHUInhdjJdsWKFrFu3zp3IvYldJIbDDAhFRNauXSvr16+vGmtv+S1yI0CtWbNGLrroosZLu9GynOdWLVu2TFatWhVO5BlE1kCgwtDixYtl2bJl4Xg1gb/sWUARkaVLl8qaNWvcZd9+3FE9q1atkmc84xkuMGbXWdRPHAur6NrD66zmGvMA0F4XK1eulHXr1rnXlHc9KZRFsGbhTtOJiCxatEjOP/98t5zsaOuqSR8duQRMDUMEQOoJJWv1GRkZfCcwxmMYTk464dk4Lw+m17ixsbGJDQYY1+tN/TeObBxsW0rpM9l60e/FZe3z2oTty+BiZOTxzSDq9p6P1HHU3bxaDx61bi1LN3zYeBxzC05e33AcEIqiDRwemFnLXwZ2tv/RD4LSjwJsp22v14+oz5G/qTwgLKUvfX/xR4PNV/rO1tQTxdfeX2w7M3/NeFDUoCIAUp1UdkNFWPL8/R6j+ry22TzZDdvLXwKlDOqiuLYnDQ9IvTqwLR7wabiCmAd9NkzhDpcsLRBpWzRddD4RBK0lybZNl//VkpuNC/a7BGaehU5EpjxSgJCnffX+ESSy5Nmx8tocwZ5NW7LyDaLoOq39DtXkr/lOeuBXqtMLi+Ct36PXBgIhNQwRAKnOyvvVjJaZ0i/tJr/QS0BYmmAsVNSCoaaNwM/rs2c59MruR7Y9Fv6wPISgyHpp22chRSdNDwT1qBBo68Q0FgY9K3D2sTCIffMsgFYeaNUCIFr1PPhDSIwAMQPCzPpnz0UEgxFA9qNa6MNzpNdJVk4t6Gl52Xcf/REEtgV5XttpDaSOlwiAVCeF0IdQYtOUjqXl4SwPpregof4a0PPKQdiqsf5huU3zRPIgD8NL5ddaAq3fA0l7tCBkASg6pwrgvd7U//rFc4Xu2bMfux3qM56lfiL4WXcEZ9oPvX6yZ/gy2PNAr0lc1K9a69+gVkHve9xPnui7VfOdxDQIhxiH9ZV+fDa1DNaUQVFtigBIdVYe9Gk4urOjLaMWAq0VT8MiK4HX3mgSUoC0zwFGECgST7QR8LUxUdRYAT3LXdZ2bC/m8Sx7erTWOIQ+BEFtpw2vgT/b3qbPAOqxFgIxbWTZK23wsOVEZWfQ3fTZv0GhT6TeEohxGTBaWPLivHNfKr8Gzrx0gxxLQElRbYsASD0h5N0w29oIUnPDRzi0aUoWhwg2Pfjz4GmQZeAmk3YbVsAojddeuxRs0yAEerCJVkAEvl5v8t+94bn0zm3TZwDV7YEfxnnP8Nk0uOGjZBnMwDKy9pXO3bCsf7XfC/wuecu/JZDCcqJ6sx9oWFcULzIZOmvvO9EGkKwMihqGCIBUJ1W62SMwef7SsTYuc3s3e3wOEOOtpSyzANZMtJinLdVYATXMswJGbdQ8Km/Xr02Dz8LZdPgMH07svV5vojzvNTDqxzZaEPPGBd0RAFqY86BN4xD+ovcBemFoCfQAM2rbdFn/vB9ZtXm9PKU4C5RZvPVn9TS9l9Qea+Ioqk0RAKlOy/v1jJNR0xt17S9/75Uh6o6eA7TQhPVg/kGWgbM4TDcMK6AHDTVLwVGbETQQDFV2d7Cd2KPlXhxbr316tACW/Rew116E2swihyDmbfjIQC8CvpL1z4NqLz46R1l4pBpwyQAn+g6hHy1x3seLU3n5sb4SHGY/LrK2Wz83gFDHUwRAqpNCELMbQTS+9lia+KMbv2dZK0FeTZ9KFkAPnHAZ2IPgCN76VY0VUMEhgsaoXCv7Pj8EPzteCi4KZ5iu5mPH3rM2qj/bBez1y0JVDfzhuYxgz3su0IPFEgBG/cjAr03rnyoDG3ueapZ/sUxMV9MWDw6jcjFPdh+xG5CiNNF42Pte0z5RVBMRAKlOywObWujzbpzZL/vMApCV5dXZ1jKwSD4BR2kGmTBKVsAMGrKlYC+9ly96NlDjdHxtnloAtOcTnxeN3qGH7fTahcdaC6CFugj2PPirtTJi26KlXy9tzXmrVQZ8pXw1333Pjd/H6L5QuhdgOyygZe3x2pH1IesnRQ1DBECqkyq9r8vehHE5sNbSl/3Cz8Iif2lC03gFlmwZWEQm9aPX61VtBonq7XfyziyUWL/6SxAYAaCITIJAPJ8WUvDVQGgxsm2vBXxtw+zZs91NIF5f8RhBYBRmXwRdAj/b96YAqPm8PmRWv7ahzwv3YA3TeedMFS3/RnWXrgnPH7WhKeChZbD29TLe9U1Rg4oASHVa3o3Rezegd9PEI+4S9urC+rK/DrPWJywH4QPrqLUA1k7AXto2wK82ra2zFFeyruHrYXBp1gOGyBronYcIJiz0ZLuAsQ9NAdD21QO+CATteJSsfR4A2vZG4FfT36byxrr22oryefmj71qUxwNOTB8BWtQmC3lZe712eUu+TcaJopqKAEh1VhG8IfRlRw8GbBpMZ/1evE2D5XlgktWZQaCI/7xdNEZo9fTStWkF9NqE1ia0WtTUr3Bj/+PXxnnletbA6Nyo3zvaXca1zwBGFjMPymz/IliL4E7b18Tih20ugd/xtv7h9wzT1UB7Vi4CWfQ9xmMEeVHa2nJKaW2YB5EU1bYIgFQnFUFTFB/BIuZTP97gs9eKZG4sr3SzRhiNloE1LU7C2WaQaHzasALWQCDCaM3zgJHsRg+EpdKmDzu2tu2lidjW0xYAqrxlXQ0vLec2We7NQC/ye6DaxDqYqfQ9Vr+FNS8uKi/b/Ru1pwbwIsjEdmZ1YnmZZbD2PkdRbYoASHVW0e5fbxKwk7xndWvy6x/dpdfBoKUO2xHBYhsWQNv+0kTdDwxiG0ppsT2DQKDI1N21TXf8RufQOyKUZX1EvwdOuKnEA8CS1W9Q+PPa2wTu+jlvGXxZd3ZdlQAtSl8LdRGU4Xe71Ac8ep8oTen5P3vtUtQwRACkOqkaKIteDWPLwBtxZOmL0mfw6cEmfry3/GP+6N15CHY2ffZKGFuHZ7HrV1FZkcVS/W1AoNZTAyzeeUQYtO3GtkcAGPW71NbIKufFtQl/0atpvPZ5x0HlAVv2Ha3Z/FECPa/MWiiLyorqju4vUT5vDLx8Ubsoqm0RAKlOC3+R1zwHmN3oM6tc9kLh6INl4CcCRM9i6R1t+2ssfJ4b0wxiBcS2oTXJg1aRwZaDPSAqnRPv+ojaJiJTlpqzJWBV6ZUwmTtaAsZ+RhBZA3/eGEbu6Hy2pZprE9NHIBaly0Cvn+9udP0gVGbtwLbXhPH5P+p4iQBIdVLeDTWDPu9/gSNrUDQJZNAQ7QbWuj2wjPrkgR+2IYMpzwpo02GdUT1NZNvjxWG5WMf4+HjV62EiiFZFZXh5PcjWttij5tdNIDX/BIJhmTXNgziEx6ZWPyzPgz8bFrWlpm+1KgFbBl3RS4+j77tXj/e99tpo64zuD7Wvoonye3XZsOh5wJKbotoUAZDqtHCyj26aOMEjNOHNGOGpdEP34M/G1UxuXrzmjTauYNnZxBxBbdsqAdwgEJjVp9CCG0RsvzOIL4GEZwHMxrBfALTCl0DbdE0hUMvzwkvAl4UPqgiisvTeOYy+Ux74ZYBn2+TVkbU7u09ElsFSnV6c7QNFDUsEQKqTsoBk/dbtwWHpJm2hK4NDb9LJyvfq8yYUrN+DpH6tgNEEjmXasCby2mOPNfVEEFhjYdTlUk1ny/GsfZHb+3Fgoc/WUwtNEQxGbnvesk0gtQCo5WCeqJ3RMetrpgx00K1+hLno+xKVGaWr/U42TStSt/zrleXVp2He38ZF40BRbYoASHVS0Q3Qsx41hTkvjx4zC1L2t2OlvyTDtmJaLR9fCSPS3AqI/gjO+pEHal75/UBgVF8EUbYuBEEP/Oz4eCAYWdVsW7z2obtkBbSyzwBi3SUQtOVllr+a9mV97EcRBJZApuZ7mu3ctd/H6LtYiveWf70+lSCvFhpt+RkMU1TbIgBSnZUHcmgRjOAwgzl7o8Vwr+wIJCK4K8GfB4GeVUok31jhWQFx/Eqw2M+EH0FFEwgUKW8M8YAVd3BrOjtO+P4/rd87Wje+mqXU92wsvKOtI3tFjBcehWlZEWxG7W0T/mqgDv0ebEWwGH2fbNk1MFb6Tkbl1bSniWUw25ls06JlkKLaFgGQ6qTuu+8+mTNnzsTkpv+Zai0m9qF9G2fjdTL3Pt/5zndERGT//v3VeUQe+69YTKOTrea35ezatUtERHbs2DGRDp/9stDhPRcW7RQVmQwGW7ZsERGRTZs2TRrPtif+zZs3Txy9ySua9DO39duwbdu2iYjI9u3bJ0Gdl97Gec9eem1T7dixY+JY+yLoKM6DXZtm+/btIiJy++23T/rbuQzgPPiL0qvbnqfSue/nOrBjqdfcpk2bqkAL/d5GCRtnw/SauP322yfF2bx6VPfo6Oiko43XNMeOHRMRmQjbu3eviIjs3bt3Sn6bN/t4dWvc6OioiIhbpg07cuRI43NDUSX1xvnzguqQDh06JPPnz5/uZlAURXVOBw8elHnz5k13M6gTRLQAUp3UD/zAD0xYANHSFlnnbHxmyVML3V133SWf/exn5YorrpCFCxe6eTKrIMap1cVaCHu9nuzatUt+4Rd+Qd7//vfLihUrWrMCesuHW7ZskSuuuEJuueUWWbNmTdUSJbprtGnTJrnssstk48aNsmbNGhEpbwRQf7Tc5pUxPj4uW7ZskTe96U1y8803y8qVK4t5sniVt7ty+/bt8ra3vU1uuukmWbFiRfVYqLKXR+N527Ztm1x55ZWyYcMGWbVq1ZR4m9+z+nllYpjIY5a/173udfLZz35W1q5dO6UMdDcRjvvmzZvl8ssvl89+9rOyevXqSXE1y7M2PLP+jY2NybZt2+Tqq6+WX//1X5dly5YVrX/WwofpIove+Pi47N69Wz72sY/JVVddJQsWLHAteiUrn43HtkUWQww7cuSI/M3f/E1f54miIhEAqU7qjDPOkJNPPnkSzOlSr13ytXEY7qXFfCIiCxYskCVLlkxZSm5Sn5cPH/A///zzZc2aNRPxFio9dwSJnl9kMoCsXr1anvGMZ0xJ0/ZS8Nq1a+Xiiy+e8GcQWAN+dqJXv7Zr1apV8oxnPKPqOauaI7ZTx2/VqlWybt26qv7jmJXGGY96njQsgzttYwZ90XHt2rWyfv36KeW1BX/2uHr1alm/fn0Kfbjci0u4CHIe2ImILF++XNauXTsRXlqeVQjzwhDq7BLtOeecI0uWLHHLsfmbxEf1eW05fPhwX+eJojIRAKlOSm/idvMHQkK0McS6Na3m78cagZ+orFJ5tm+Y1pYpMnlHsKZT4XNwGoa7I219Np+d9NHfj2x7PHd2xHGxVlC7s1fLs+6onqh9WK/Nb4/o9srLwrLyPCCvseTZTSPeWGTHUjsHkTfeGo7XYAZ/pe+Ot8miSRlZvO1H9t3NyvU+Nbt/sX/YFoyjqDZFAKQ6regGmkEYAl8GiFhHVg7Gea+Y8fJhXyzYeP3zAMVzqz8bO5sGy44ArB8NAoFRvbpL2Po9ixtOjh4QevAXgbDd8FPqc+TPgLAEgFhuZPVrcszcTeXBSC0IZmmy72aWVo/R7toIyGrjsN4oX9aXJnV45VDUMEQApDop76ZowSqKi/L3c3PPILNpnK0H4TAKt5Ap4sNf5MdJU+PVn1nFhgmBtdL0CH1RGSWw9IBQw9Vvn7+0457V68WVLIB49Kx52g4vbak8r13DgD8Pwmyc5/esfyV/ZEkr5WvyXW87DscAxwLHIRsjzE9RbYkASHVS9maYLQPjhO/lw7SlG7gN8+JrPp4V0IvHcPWLPL6si7CicdmkYMuLLIrHAwJteTX1e3VnsOONQa0F0JblldEE+jAsgz8MQ2ujB35NjlFY1O5aIcR4R88dgU0NSGXLxTZ8EOtf6ZO1rba+bDm4Zvk3+65TVL8iAFKdVDSJWD8ClAeL2U0c66sBudq4Uv2eJdP6IzgSiZc9S2NZAjwc0zYg0PprLJBReXq0zwdqmDdGXlsyC6CITLEANulv5I+grNbilx1r4yJ/E0WAl6UvpctAy9ZT+v5mkFaCuBLIRW0tlYlx1u9BXZavdswpqqkIgFRnhSAlEi8De2lrgE3TWXjMwK7JB9uKbfKeI7RpRKZaATVehSATlWHjMstYW4ogMKszAkMPnDwQjOrP4NkD3pL1D/NGYZm7CfhlcTX1RW0dVN61ZsNtXLT0i2H4/cjiNW6Y1r/su9tvfU36jONJUW2KAEh1UhEoIZhlQIjLpx7UaRzmjepoEpfBn8ZnS8XYbpGpAIOTg/XruKk82ImgC9P1oxrwtO5+oCsDwSbWvwg0S/VH4RmMYbq2ga+27lp515sHJxksYVgNHJXyiEhV2Vl8Dch5+bMyS/237gz4op3PFNWWCIBUJ+WBlL1p9vNcIOatmWT6udnberNJxGujTadukakbQkTKzwHasbSK4AuPmndQiIjgqwZIbZ4MzOwrc+zO4QgII78e21oCRtllZk1bA4ClsKbtqBVCXXTEdBm01Hy/aqx2UXlZOdmzeBjv9bH0KeWvfd7Pq5ei2hYBkOqk8N1XGTSVLIQW+DLgqrH0eYAnIlPCEKiwD7b+bHezBadsKdi2wcahFTACseMJgejPrIEIgjXWQoS3CAit36unpk8lYVtKUNuWpe94wp+XXlWz69f7rpXS2DpL6TIYjEAze71Lk1fG1Gz+KAGfHROKalMEQKrT8qDKhjcFQu8Gq+VhubY8tTDV3PSxvdGEpu0sLQHrMVsK9paGNY+FwCjf8YJA26daa6DNH7UBAc72MQNCr+xaAPQUAR+6vXqz9McT/ESawV8GOBifwU72fcq+vzUQ56XJ6tFy7Rg0bV8/wOelpahhiQBIdVYe5Gl4EyDM4AzzRpa+LM6zAtr0Xp+i19TYNOq2x9JSsDeZehBo02ZWtbYhENuL/pq6SmlK7bTLxV65dgkYLaiZIsDL3P1a/Gr8/SqDPy/ci2vy3F8EbaV0tvwM8Lw4z/qn/pLVrgY4SzAYAZ83toRAalgiAFKdFIIaQlMEWyXg8yYumy6y9GFc7U5he2PXyUNEpuz+7fV6Mjo6OqkObZs9lpaCs8nC2xSCEGjdNVa5fpVZA9HvQVBb7fDaZK1ys2bNapw/C8uWgKcb/ETK11LpO1TKlwFRLTTq//N6+b1PqTyEN5Gp79/L2lwTV4JFmzcCU4pqWwRAqpPybqgZ9DUBQrypRsCYWQGjMqM4kXipyusfWvrs0VvuLbkjYESgqoXAtuRZA20d3tIswl9bMDjoEnA/AFjrri1/EJWuowjy8DqPwksQlqVpsjmj9D1rAma2nqb5snjb9tqlYYpqWwRAqpNCEMJwBCYEMEyLz+TZZUBMN4gVcHR01IVAr/1Ytv73bZOlYBuG6XDSwKVgBC87phim6YcFgV57orAM/kr+mna0CYBe+KD+rK5+5IEbhpfgyyuzX8CrBal+6hkdHS2WGQGZFxfla3PzRzTGFDWoCIBUJ1UDeXjzbAKE2WRhn+krPe+H8ZrHprH1RFZFu7Rtl4IjS6CI/zwgjh/KQqBnfYsgEONtPW0pgr5oCdj6NawGjKJ0gwIgtqcmbDotfiLtwV8NfPUDfzZOl35L392oHG+JGaGtiQUwemawCfBFZUbjT1FtigBIdV72BlkCwtpl4WiHX3STLi0ne22wEw72x9aPm0G89xRaC6HdzBE9D5hNGv1AoJaJ6W14W4qsjBEsRTCIYaW2tgGAXp1ZuFfX8QA/kXbhr/R9yr47Nk8JqjwLoAU3rN/GZbAVtc0bCw/UMpD0+ufFRX6KGpYIgFQnVQt5mDaCvmhpV/M3tfRl6aMl4GwTCMIfptN24tFaDDEum0CaQmAWbtvSpkog1AT82mhjk7xZ2lroa1pnEyHYoDs7RvDnpck+aNHLQMxbXsW8pQ0gtr0lGCwtC0f5BgG+Upsoqm0RAKlOKoO6WisgwpgHdbauppY+73k/C5zRUnXUZrT82bIyEEQYtmOYCSHQKzM6enVk8DWIauAoqtu2LyrHG6faPtSkawqDTepvKuxrm/CHZZU+pXSZNbAET15Z0RIvPhdYgrZ+rH810BmNMQGQGpYIgFQn5d0sa5d6M0AUySerGkufrdd73k+hygIi1oMQ6i0DY15cBrbLwR4k1kwaFgK9uFoI7OdZvKaysIR982AQw714m2ZYzwBmdTXJO6iGDX8lqPOseB7oZZa7qK6sXm/jh4Uym7eJRS+zMjYFvBqLJEW1LQIg1VllUNeWFRDr8cpCS58tA5/3s+k03Js0VbgUjJbAkvXPTuLec1g1ypaDbZoI/uzRsyQOQxEIenVmsOiFD/oMYE1dTdMMKu+cRe4MrtQdwR+GlUCwadrMuhZ9sE3ec4EezCk4qmqtjFH7sn55Y+mNLUW1KQIg1VnVWOOiF0OXANG7Sfdj6cPnCr1l5gg0bT2ZJdDGZVZAW46tt0YRBHruzAJo3Z6/bZVgz0uTpW2rHaW0mSWwTWEfhwV/Ebgg8EQWtwzIIngSqYOyCNCiMhAcozQ19UbffzuWtP5R0yUCINVJeTdND/IsqNVaAaMbc62lL7MoYri3LIuAh/8AYuPsBIRWLzziRNEUcGogMDtPGQRqOcNWDRBGaYdhAfTqOR7y+l0CvuhYC38ZANq8NRbAGuCybSqV5aXJ4CsCVr1PlNpr87Rh/Wv6XaaoGhEAqU4KIS7zl6yAJXjT+rw0mg5fAC0yGfp0R6NnZbSTiK3TazeCowUyBcXMCmhh0IbXKnsm0PYPz1VmNbTpMGzYqnkGcNj1HU/VgHoUFkGfvaZsWASAmCZbivWOdndwZsGzdUXLvxEQehs/sGy8P9QCYa31rwYOvf5SVFsiAFKd1KFDh+Skk06SXq83AUAjIyOT3DZMPyKP/X+rxntpNO6+++4TEZG7775bRCQss2kYxt15550iIrJ79+6JejB91L/MrX7b9ttvv11ERLZv3z4p3H5EpBimfhtu3Zs3bxYRmTiqoqXNkj/Tpk2bJh2HJdunYYPcMPrkgbntU2ZNKsFfjaVq69atIiKydevWKeCGaW14Bj2ee2xsTO644w4REdm5c+cEgFmIU4j0gBCXmTHOfg4cOCAiInfddZeMjo666bIysf1N2mXDjh49OtjFQVGOeuP8aUF1SIcOHZL58+dPdzMoiqI6p4MHD8q8efOmuxnUCSJaAKlO6pnPfOaEBbDWCtjr9SZeiJxZAUVEZs+eLffdd5/82Z/9mbz0pS+VpzzlKa71blDrn1oAP/zhD8s111wjS5cuDdOLyEQfvH6j5c+zBN5xxx1y9dVXy4c//GFZuXLlhCVrEEugDVP31q1b5fWvf73ccsstsmbNGtdihvk9dxam2rRpk1x22WWyceNGWbt2benS6VvHq5626soseerevHmzvPa1r5XPfOYzsmbNGjdtyfpn/Z7lT8O2bt0qV111lXzsYx+TFStWDGT585ZS7XLrzp075YYbbpB3vetdsnjx4tR6NogV8MCBA/IHf/AH8r//9/+WM888M63n2LFjE/2KrH8lS58XphbAf/3Xf+3rOqGoSARAqpM67bTTZM6cOSF4KShFfuuOPqozzzxTFixYMCkuyq9whvFZfarFixfLsmXLiu2KYDcDXz2qli9fLk9/+tMngZsFyyYflYVU1erVq+UZz3iGu2yMaWuWgTMQXLt2raxfvz6Mb0vHq55+6yqBn+dfs2aNXHzxxZPiMgD0nn8rfTTPihUr5IILLpjIW7OkWwIhD85EHvtOLV++PHwGMPvokq71K2RiPWeeeaacc845Vem9z7Fjxya1H5etvWVsm//IkSONrhGKqhEBkOqkPGvAyMjjr0jRjQaR305gvZ6/ASSyZnj5o3Z46TGPnVQ1LcZjGVqHrc+6tTxNq3Eqm17bMzo6OgVKa6VjaPuu9ehR+4RHOx7qtnkt9FlwGfZzeE8kedDnhXtWOy++Bv6y70f0wfx4fWfwl6VDIPLahuV49XvWuayMEgh71jqvf5i/5M/aQVFtiQBIdVYIeB7E1fg9aLNAYm+wUX4vTuXBnD7sLTJ1QlQYQ9k2WriLQNCWrRCIkwlCoE3fVDa/Bw5ZvqYgaMNnsvoFPy89wgYePdjBvDUAaMsrQVPJOhhBotZlLWjYVs9al0GhFx7BGab3xqkEhyXY88aVotoUAZDqpDygK1n9+rEKal22PlXNS55tOTbOswB6YBe1T4HO86PFD8NtnzTeLhPbfpRAUPti+6fhtp7I+pfBX1MQnCkTYdbPWvCLIBCP9hqx6UpwE4GOps0sYhn8RUugnh/7lVn4bB+8cktwl5UdtS8av6Z+7C9FtSUCINVJeTfCQayA6McllQwYo/CapeCoL146tAAq0KEV08Yh1CFsWsjD9LZ8DwQR/qLzVDM59QOCNszWF8U9kdUE+jAsc3uwh9cI5vUgzwtHcMJ6vTQl+MuA0fv+RNCFQJali8APr21vLLyNHVH/a/04hqXrg6L6FQGQ6qQigBvUChg9m+dZ8exNPopDkPPivXoszFmLoso+62dfAK1xERCqsN4MAjU82wDinR9bV+2Scg0Iql/riSa/EwEGa/tX8nvuEgB60GbdtR/vx0cJ/jRdZhmMXtaM13YEfB5gRem8ePtfwFFeHK+2/bZ9FNW2CIBUZ5UBWxtWQG8SscDnLed6wBdBnMjUZVkvXuuLngHUZwZ1SRqBzwIh/osCgp8dP2/zSJNzon4t07bXpkO4s2PruW25uEFEy/PaheV3TRGwRWmisBrwi8LwGqyBkBr4s1BWA38lCyBexx6oqSJLH+6szSyPXrwdH1ueB2fD8Hvnk6LaFAGQ6qTwRu0BgwUC9FurnQUj68eJEssrWfcsZGV/BefVkbVX24ggaEExgkCsK4JA9aMlMJOFLwQFDc/K6ve5wAyAbNosTZa2bTWZsL3+RWWUwM+6vaMHfxHweWHete/lq4U/z1KnoKXpIguft+mjtg8Ih1EahFosz/pLr3Xx2lvyY98pqm0RAKnOyi5L4k0ysupZICpBIpan8p411Ju8lbc07d2o7cQX3cg965+GlyDQgp6dhC0kWouf98yf1qEv0rbS/kWgZQGk353G2XKwVxdaBm05mTI4w0l4WOoX+tCPcOKFedd4DXxk4RF82evWA7cIsErwF1nnbLomnwi2EN68MYjKLI2n16cI9rx7HUUNQwRAqpPybrzWKhRZ/ezO3QgSccLyIBKthgii0Y3ZswBmE6xXjmf9Q8hDC6C1wGldCGJoDUQQ1DHUZdzsWUAPOnAcSiAYgV6UJqozgkEv/nir1D8PBmugL3JHxyiu5vr0rtUIXkRy+POgzx5r8kcQl8FUBHsenGq5CHe18Fbye6+kKY1p6TqiqH5EAKQ6KTsZWPjSOAQ6C0cWCjO/rauUvhb2vPf72XbXvv9PwzNroIVAfA+g1mcB0bMAor9mSTgCAQQthNIaECxZAj3wwzTZzuGo/n7VdGKOJvRBIRCPeL16oGHdNSDo/WCK8nuwVIK/zOoXWQExLnruL7Lu1UAhjknb/hrrHwGQGoYIgFQnpTdFhDDv30DQMhZZ/XBS9KxlnjzLn7VwWanl0INN78bu5Ufos+lLEGgBwLq9dwd6IKgfDwJ1zL3l8wyiakEwkgc80cYSTI9xWfkeIA2irIwIxqL8tQDogZ9XTwn4MDyzqkWwNCj8eXBm/drfGqvg+PjU5/S8crOxiKAy+nhlemOSjbWtm6LaFgGQ6qzspGbBpAYK7Q0Ud9kisHg3aVuOt0HDgzzbBnvDxsnKtsXWacvHG3604SOyANqx0bprLIBWto5oKdizOuJSvaoJCEbWP3uOsdwICL04T22laZovgrsozgvLwE+PTSHQXpcl8MO0bcBfBFQZOGWfrJ8eHOJrYDKY8/xNl3qzMaSoYYgASHVSFmC8zRb2xuhBoQrzYxm2vqgOD/QiC2DUF9snT5GlD5+l89y2DJzoLODVWgDxuUDPGmjrtv2LnhfsFwSxfHvUsrwJsvR8Ycki2M+kW8oTxddAn3XbsJLFL7rG0R/BiRcWgaBtUw0E2g0fJRDEMPxODfrJxiMb1xo/Qmw2lrYMm58QSA1DBECq87IgIzIZ+ESmLtFiGpvf+j3LXFNFVkCsU/vhTbBWuMkjegm0deP7/2yfEP40r+729SyAFgat5VXrjPqEFjfvWbwMBLV8lDcxRqpdBvbim9RTUpY/muy9vJ7bu24ieFCVYKMEflE668d392XHWvjzXtfifXebtNOLjz74fSqljeqsGX8PmClqmCIAUp2UnQwQOtCCZ2HLsxoqeOC7ANGKVQONWK63qcPWMTo6GoKmZ+XDuKYQiGOC8Kewp7t9SxZAKzu+HmjasYyWgW2YjcusghEs1ewi7ietrXMQRWV4kFaCPpG6ZV48WpgrWbpq4C+yAOJ3aRjw54FZCeL62RSCfYz65fVTy8QxtOegBgi99BTVtgiAVGelgIBwZ2+I6s92CWPa6MYuIlMgMfN7YdHysdbjgR7+y4eNq4FAhSe0BNox0HQedCL4eRZAtAYiKNjz5cGfB4KePKtgBIBeXi++KfzVqLa8DAL16F2PqpK1LzpGYR5s1IBfBknWrW1Gq5gHfx4g1sIffqciuPP6lMFh9ALnDBi98+j1L8oTjZU9JxQ1DBEAqU7Kwou1Ftkwz0KHG0JK7wYUmfzS5NLzf9HzgDiRYl/06KXzXvBs4yIItOCHk4W1zEVWQE3XxAqIsvXUWAHteJWeF8Tl3BIAeqqBv0HqqUnnpckAsAb6sJ0Z8KE/ug6bQF8EglpOBndReC382R8gHhhGMBoBZAnmvLGOysR2eBDqWRBtuXgeNT1FtS0CINVp2Ru5hUEPxmw6Dwg1jfe8XDQptiGcrESmvvuvCQQqnGWbQizUZlZALKOJFdDWpfn0vNRaAUtAqGlwLO3YYFlNhBZaPTaZcEtpMR5hInqMAAGk9hi5LUggbDT5oAU4ssph+hL8ZVZB68dHHbCeNj9Rn7w+RtbBqO8154rgRw1TBECqk0I4shO1BRp1YzoLf1Eae3P1ng9s+jygFxb9wrfyNnNkEOiFi0z+9w1bV2YFtKBn09daAu2Epu3R+ksg2ORorwkLeRkQYr2esF22nho1hT9tM4Kbl74J9EXtjyDES5cBX+ZHuPQgrnRsCn94nWcAV+pPqY/Ypwz2IsjDcx5BJEGQOp4iAFKdlN74vGcAvQ0hIlOh0d44vaXgaOK04GHBpunzgKgIADWvbauG1UBgtBRsx8JCswd/1vInMnWXcGYBtJNTBoKeu6QIUmzeDAhtW2rqwjpr80SKzrfN78FgTVgEfAgQKrR8Z9DnfbznSxFmbL010Oe5S/CHYJZBH8bVPvdn/XiucHy9ems2l2TnzBtPimpbBECqs7LwEcFgBHyZ1Q8hCicwK3ymMINETY8QqPH2xo4QZfOLxBDowV7pGUCVPj9oQTCCweg/gREAbT223AgEI3d0tIrALANCO/4lNQHAfifkErzZY5S+phxsP17rTT94DXtQY+vwdvo2BcEI/vDHWwaPNfCH4+KNYQkycSyitmVjh2Noy6CoYYgASHVSOMEhDNow6/ashDhBWWub5kVLWQaFKHzOEPPjL/ls56+WJ+JDYOS242DrslBmX/2icR78IaCqNTA6T7bfESja3dqRNTA6en1C6IsAE1VaDrb19KsIHvGa0zAPArE9paPn9q69CHSiT+0mBttuD9ZqARABTduA3yccv9LfvEX9teMUfez58Npty/UAsQSEGTh61wVFtSUCINVJPfLIIzJr1izp9XoTAIIWKesvuTFsZGREDh06JCIiBw8enJRG5DHo8fLYDRhYdhR2zz33iIjIgQMHRETCPLVt99za5r1794qIyK5duybqsku8mK/mY8dey9ixY4eIiGzfvn0SzNk61W2Pdjk2SoOQtm3bNhER2bJly8REGKVFefFRni1btoiIyObNm/uecL18XtjWrVsnjjXwF4V76Swcbd++XUQeG0MPWKzbgxAvPvrs3LlTRER27txZtHhly8mRZcyG7du3T0RE9u3bJ8eOHUvTNoFOHT/93HfffSIict9998nRo0cnjU2Ur6Y/mduOvYJt9mgJRfWr3jh/WlAd0qFDh2T+/PnT3QyKoqjO6eDBgzJv3rzpbgZ1gogWQKqTOv/88ycsgJ51Dq1UmeUM82j4Qw89JP/0T/8kz372s2X+/PmuNQ4tdSKTX5ei5WYWvXvuuUf+6I/+SC699FJ56lOfGra1iUUzcu/Zs0duvPFGue6662Tx4sWh1VSkuTVQ84g8ZuV55zvfKR/84Adl+fLlbjrP7flxkwbWtX37drnqqqtkw4YNsnLlSjctumv8qK1bt8qb3vQmufnmm2XVqlVp2pIiy51qy5YtcuWVV7p9sukzS5/I1BdmoxVx+/btcvXVV8uNN94oy5Ytm5Qus/h56aKPWq927dol119/vbz73e+WxYsXT7FmZUvSTd379u2TW265RV772tfK2Wef7VoMay2C+LJn677//vvlq1/9qjz/+c+X+fPnTykjs1Rmf43nWf2iPBp+xx13pNccRTUVAZDqpE4++WSZPXt2Clu4NGuXOu0SrgdyFgZOP/10efKTnzwpH6aPPl4e67dwc9ZZZ8nChQvdNmu+qE81btunc889V5YvX+4uSWdLzBkU4pKziMiyZcvkaU972hTYi4AwWyYWeRwGbZwCyfLly2XdunUTaaNl4AwKs3CtZ+XKlXLhhRe6+TJFiykIZSKPg5vW5aWJjgh9evTATdPqeSqly+AkWqrEpdDFixfLihUrqp7/86Asc6v/2LFjIiJy9tlny6JFi8Ln9zBv6Z8+8KPxT3rSk+SMM85I85TaH/0FngeFWIf2l6LaFAGQ6qTsZKewYMMURjRew8bHJ+/O1TDr9iZWjFe/lo8TpcrLg8/r2HZ7+W0++08fIlPhSOM8yNFx0Lq0HQhKCnPaN1t+BHK4WUT7pP91bIFOz4H9YJj1q1vb7Y2tPU/aPnuubf9seRasbF8R1mw5ts5MWRovLoI8tLxhvEgMfdheC2eYHyHPA78M9hDatFwsC8GmZkdwFOal8f7zuin82TGK8kb9tHlK42TddpxxHL12RdcGRbUlAiDVSenNsAR+GC8yGarwpm1hUeVNiJpXxH9JtCcLoDYP3uRRCiYKgbZtWJ9NizBoAdC23bOq6RHzIuh58IewZMcsAr5aCPRgEMcvgj/PbfsbwSD2wwP1GpWgz/rtNekBm8ZF+WrhzwOYEvjVQqAXb8fPjmMJ9rw4D+IicKqBP9vfDBo13n6HsU36KS3zesBXAr0snqLaFAGQ6qyagB/Ga7gFGwUzfP0KQoy92Wo+Lw2GW1nLY+lGbuv0ALO0pOktl+pEY6GwBICeNTCyCHpQhiBYgsCoDQiD2Cc7vtjvyCKIY1eyqLQdb/3RtYfnvQn0RW5bph2/EvhFsKflZPEe6GQAiMudGQDid6oG/kppo/bhmEdpbDk1z/1hfC0IUlTbIgBSnVU/4IcAgMAXgZm9QVvAQxi0aex7+mrgDq0XVtFSL8ahGy18HpghNJYAEGHOxnvnwNaDeRECsSwbr26bJgKcDLo1v5040Y9jacu0oFQrb5LOINCrCyERjzUgGPl1qb4W/Oz3AaExAkCsqwYAMU0pnYU3bVMJ/krg5y0NYz0RzKHbpkUgrAU9L56ihiECINVJ2ZtpBH7qFnl8+VSfoat9HlDrQmgREdda6KWx4d7NGuvx0jWBPuvGpeAIzDQegTGDQbQeliyAURrtXz9WQG/8MF7zRVBoy7BjiIA2CACqPBDMyvLArXSsdXug1A8AZmGedcuOYQkAa+Awctt6msKfuvEv2zxIxPPk9SEDQgzzLJ41IEhRbYsASHVSeiPMwK+f5wEtgHk3aG/JWMvxQNCmsfVhX7RN2C6ryApYs/lDZSHG/p2bpsOySgAYLQsjLHkAWGtRtEBowU6PXl3Yfx3jGiisUWnCbVquLS+yANl0/YAgXvseTDQBPy2rKQB6sBUBUAaApaXhKK4J/Nmx8YDMO084JiUgjIAygvMIPimqbREAqU7KAiDCXr/PA4pMtt7hJCcik6yINn0GblEabQPe6G0+64+WaqMwD4S8uiJgUiDUMA3H18Bg2TiGNQCYWQVtGmwnnls7GXoAHLmj8bThCDA1iiZmDEcA9AAG00aw54XZ9kYgVwOACI8e7ETwg33KAM8DKhufwR9+p0rwF9WBbY3S2Hqiv6XLxiQCPTx3mZsASA1DBECqs7JgEbkR/NQtMvWZMAtlNs7mV4seLv16FkQPaGx6W46I/2B+ZPXDOG2X3SGcWcLsJBmBldY3NjY26UXZNo0HhZ71pBYAPaDUvkftjKDWA0EbZs8v+m0+7wdBLQCqvAk6g0CvLg/y9OiFedBn3Rl8lMAvSm/DPAsa+iPQywAQ4ckDMxy/DP7w3X8lQMS6tU+1L3b28kTw2wQEKaptEQCpTgonvGhyR/CL3g+oR4Qykal/Xu89K2jBDssqQWAGFk2e/YvSRhZA7z2AFuY0zMJlZAXEMB0/fA9gEwC0fhxDm8Ybvwj6vLHz/F5YBFc1agqAHgzWACBCn433/PiDoAb8auDPs3phXRbANLwGALOwCJzsj5IMCkuAiGlxrCMAxjCbPwNxrz+Rm6LaFgGQ6qQywLNuC3kl6+D4+ORNIXiDt7AoEj+H520UySAQb/52B7FIeWnSui0wzZo1a0ocTlTZpg+EOtt+m96DQG9yi5aOawAwg0GvLhyPkhsnUC8sA/UalSDQgz60MnnHDPqs2/NjPSXwi+DPgpGWh+nxx0cEO96xn+cCta5hwR+eG2yb1147phGsRu4SaFNU2yIAUp2U3vg8wLNukcnP3NklXARGmzYCMwuLGRCqX6QMgbZPFmDQQlcKx6Nn4cMJH4HRAy5vadam9yAQxw7Phy23Fv4ii6aWa62pTQEQ5YV5E3UTtQWAWHethSjzW/DB+Br4816kHAGgB3QZAKIFPgIy3LFr60JIbQJ/mBfdXr9L/fLicQnZO/+e27smKKoNEQCpzkpvvmjZi9wKYp71z6bVcO/m7gFfBISaRiSHQO9m3+v1JiyB+Fwfhit0abyXDsEMAdAu82paz6pnrXh2WRgh0ELZ6OjolHitt2QVtH7Pba+DCMxwbDJ3FuadpyZqAoDq1vHz8iDQeWElAEQoi8Av+yAUZtYqrasEfTXHyO3VVZMvgj8PGiOALkGgB3F4XjwQzNzedUVRbYgASHVWClwi8TOAkdvmtUCnoCYyFSxqLYCDWAJLZVlwsrCI8Z4FzJbvASCmLUGYhTkEOZysPGtfySqY+W3fbF0Km168lYVqb5yOBwCi37sOPHArHUvQh9CicQg2TcGvCQCWAG+Q/weOIKtN+LNhdmyzdNivaJyi8xi5+7kWKapGBECqk0KQU5jIngeM3AgiuBHE3sxLwNcPBEZgUQt7VhEAqsXOA7Px8akbP6JNH9aNcKZtRdDOANBa8Wx/tR01lsAMaqMxs6AYCSERfxA0USm9hUGc5BE0omMNBEZgiUBSAj/N0wT+sC4vPgvHoweJCFIZ9Hkw1hT+ItCsgT/M18Rt8+L1Q1FtiQBIdVJ6M/SWfKPnAZs8J5hNqCK5pa4fCNQyI7jIYFCBDcPwaDdM6ASI4IcwaNttx8bbBWzzeKAZwV9kFfTq9vqFsJSBXwbQ6EdIjEC9JG9yxjAEQKyrFvxsGF6rGJdZpJqCH0KKBSAcMw+iaoDPHqPnAr1NIB4otgV/doyj8cJzlI1JE+DzyqeoNkUApDope9PDZV4EQpF8x65Nb+HM3lSbbhxpAoE4IVjY8zZ8qBDucEcvHqPJJ7KwKehpWrvpw4NAC4JenzLoi+IyGFS3jlG2CSQCv5JF1YZ7k3hJ0cSMwIduD2AyCNRjDfRhmKZXAML4Ehh6abx34nl1IVTVAGEGhVq+1lUDeoPAH45X1BYML4FgyR2dR4pqUwRAqpNCALRgVgJCz+1tEMHJtC0IRGCz9XmbPkphCDkKawppFta8CQWBLnLjpg+FPQ8E7eRm/y4vAr8IDG0YWuSyV860ZQW04U0tgDXwh3685hAOoiMCnx49UMisUZ7VqQn4RQCXQWETq5+2NQIz61dZoPPS1UJmFGbrydqJ33M8B02Azzs/FNW2CIBUJ6U3PbQ6ec/6IRBa2Mt2BuNEaZ8PHAQCMQxv5h4sZmGetSsCRNtHnZi0PE0TWQQj6LOQ6AGggrbtf41FsNQeC+Zal7cJpIkV0POragCwNBHXwJ9XV/SjxObNwM+6EdY0zrsWm8BfCQbx2ovy1wBeTXqsa1DQi8K0nhL8lUAQX6Vj3RGcY3qKalMEQKqTwglRZLIlsAkQIvip27sJDwsCtR4MUxjJgM/2X49Reg/MvGVeC3Ue4KlsGguGONl7cGjzZ0AY+b3zh2XjONVCoBdmxw5fzVKSN0FH8BfBkpe3Kfih30K0B3AloLNlZEBo+2DrykCpdMwsgvacDRv+dExr4c8DwVrg8wA9ur4oalARAKnOyrvp6aStQFIDhJHb3lw1XMttEwJVdpL00mfAly0J2/QeAFrAq939q37bXguCnlXO+2B+bWct/EVLs9oGD+w8MPT8GObVU6MS/Fm/hST11zwDGIVlftsPBZgSAHrg54FhBHRYdwR9JcDz8nq7bK2/BJVNwxB+7TjXwF/mtuOE14t3LihqGCIAUp1UduOzUIaQ0QQCvV/lWk5bEIgAY+tpAny1S8I44XvgpSrt/lXYi0BQ+6SgmX0srNXAoO1fBIA4hpjek33WEoXwlCmblLO8HsghBNSAn3XXlIVg0y/4RTBoLWbqzyxlWVgNlOE1UQN2/cAfglmUpin8IZxHY00IpIYpAiDVSWU3PbT2qd9ajGqsgt6kmoFODQTikq63BGz7occmwGfzW2izbUNYsunUrWlKu389EMQ+edCndZdgENNhn+15yp4BLI2VyOOWN88aaHcbN10C1vbV+O11YJdLMY0eozC8Zr34aGNGP+DnhUfPuHk7cW0aDwRrXg6dAWC/L5fOwA7HpF/gy9yenwBIHQ8RAKlOKrrpWSBBCNT0kVXQA0KtqwR4Gl6CQA/ccLIaBPj06Fn3tC+2LgRED/Rqd/9quB1f76/gso9tQwaDNl2T18B4MBj5McwDtBp512kGgzjh97MEnEGf59fzlEFfCQ6zMM8CWANJWboS0Nmx7Cd/Cf7sj4BB4M+z9ll3di4JgNQwRQCkOqmjR4+mYCEy2dqG7mi5USFjZGREHn30UREReeSRRybibRoLQbYsL94DJk330EMPiYjIAw884LY3yufVj3HY53vvvVdERL7zne+EIDfoR0Rk//79IiJy5513TpyzDPY8dxSm0v7t3btXRER27949CfIxT1SOVRTX6/Vk9+7dIiKyc+fOIgBmE3JN3K5duybqQgC0bgQ+Lz4DRh27vXv3ToE4mzYLq/3cddddIiJy4MCBCdhEMIwA1ANIbYtXxn333SciIvfdd58cO3ZsSlq0VGPdGbza/A8//PDEMWt/1BcPsiNLYDb2TX6QUFSteuP8aUF1SIcOHZL58+dPdzMoiqI6p4MHD8q8efOmuxnUCSJaAKlOav78+VXvk9MwEZFZs2ZN5I+sXppeLYC7d++W8847T0455ZRGlrjMEojWuQcffFD+6Z/+SZ797Ge7/bLtx3DPyqd+jBN5zCLyJ3/yJ/Kyl71Mzj77bHcMPKsojq/3bJ6t/8CBA/KpT31KfuqnfkoWLlyYnpsay19kyev1erJ371658cYb5ZprrpHFixdPuk5Kr4KxKoXv3r1bPvCBD8g73/lOWbJkiZsWFf1+LoXv2bNHPvShD8m1114r5557bprWs/J54Z4l8M4775SPf/zjcuWVV8o555zTtwVQZLIVTdNZa9ddd90lf/iHfyg//uM/LmeddVbRmlVaJo2sd+Pj43LvvffK17/+dXn+858v8+bNcy17pXIyy5+6H374Ydm6dausWLFCTjnllEaWv8yK5y37Z+dhbGxMDh486F4nFNWvCIBUJzVr1iwXiLJPtPzrxVlYnDt3rnzXd31Xmscu1Wp+Lw0erU4//XQ544wz0rS2ntr6MK2IyJOf/GRZsGBBCJMesGag6MG4iMhTn/pUWbx4cXpeVHgOIlhEt06c5557rpx//vkuTKLs2GN8BIJaz6JFi2T58uVuGpFmy7/W7wHAueeeK8uXL3fhDY+ZG/24BLpgwQJZsmRJCGU1oObFW78uxZ511lmyYMECN22T5+i8DSwKiho3b948OeOMM8I6Ss8BZvVZKD3llFPk1FNPTaEVX/TsPQ+YgWr26WdTEkWVRACkOik7qdWo1/N3BnsbOHq93qT/RdUbec2mDwUj+4oYDcMyNA4nUrvhQ8u0bcYwbS9a5VTYZ20vbu6wacbG6nf/ehCHfSpZ/2weWw6mw/5hn7zx8Y7ROwJRFhRx7GpV83yWvZbttW3r6gcCrd+2wwOgWujILG8RwHjfJ5vWK7MUXgJIb/wQFLMyakAxA+tB4A/PYc2HotoWAZDqrJrc9BRWmkCgnTDVXYJAG68Q6MVZMMSJUevXMqLdwDbMtjECJIU2HQ9Mj5DX5L9/NU6P+MqUzALogR7CoNcvtAB6AGjdXhi60Y87PbGeSNG1ieEIflgvgoQea+DPttmGe/kVlErQVwOHURiOXwRD/bg96xyeswjuPHct/HnfJ8IfdaKIAEg9YeTdCHUy17gMAjEOy+0XAnVJFa17aiH0rAglq58Hh5HVz4Z7k7CFOoRAD/owjfdBqK0FPy8MrXVoHUTLXAZ8tRDohfVrARQpvwoG3Th+JeDTIwKfTev5SxbAJkASWdSwfq0rqq8ta6Adk6YAGdXp5dV42zcty4M/PFfRWOP1QOCjjrcIgFQn5d0IvUk8gsLI2mdBzd7cFYT6gUDMgwDnTQrZ8nEEh03CLWhiG20+DywtGEYWQa9P0bJuLQxiH1SZBbAJBHp+G97EAqh9rwn3QLD2r+CwHR7oWXcUby2A6vfylaDPtskDMzt+mL9kKWvqtmPUBPKawJ89d7Xwh+lKoB1dQ4RCatgiAFKd1KA3vRoItOXrci7CVQ0EYh4MR8uIZzmsse7VhFvA0HLHxx+36GkbcIONpkGYQxhEALRLwJoO89s2R2HYL3u043fs2LEpO39rrH41INgFC2AJ+LywDAS9PpWgL4NBze+BobdMWwLJfqyBdpxq0ntAG4WXQFPdbcFfkw9FtS0CINVZDXrTK0EgTqwIgRn4odv6vXCtRyeEEjSWwtFiplBnASKz+uHzfxbgIhDMLIBRPJaB7fD6g258Rsvb4BHt+u2qBTACs+hY60b/oNBXA3423I4fwlA/1sAI2lT9QF5T+LPni/BHnUgiAFKdlMKIuvtVBoG2Lq2vHwgUEXcziMKUnZRtuM2vbUMAi8IjqLMwa8ExsvppuU1BECf7yNJXC4OZ29YV/Rdw9h+/drzsmKIGsQDadmJ5XjqEhgz+9FjrtvXa68FuArHp2wA/TG//naMEeBpWA4sW4rAPGch57loIteczArxhwV90bVFUGyIAUp2UvQEOCoIRBOINWuO8jR0iMfhZcMQ4tIzg62MUtLwlYbTUafs8ayACm4XNzOpnQSh7DYwFcm2v7ZMHfh4UejBo09jz7VkAbb+9Y+QuAaI9b/0CoAqvU28iH8QC6IUh9GXwVAt9NemwTBEJ/3M4A8paax2WhRbAqL8Ie9Zfs4v3eMOfdy4pqm0RAKlOyrvpDQKCJUtgFJdBIMKidds4nLwtiGVLvJmV0AM3m9Za5kqwZ+EO4yKLXk09pbDS7t8mFkA7PhhW4/fGrqlqwE/dg1oAPSsfwgJCWQaAg4JfCTYzwPPKq7HOYV1eWR54lsAN++qN8bDgz9YXxVFUWyIAUp2Wd+PrFwQRAlV2AvEgEPOh9Q9hUfOo37PKaXnq98qOrIQIVN5EZWHJe8WLbXM/IGjr8ayRGfhFfrQOangbFsDIb8ObAmB0/dWAYFMLoM2jYSXwQxhBy5wtcxDww7GyUBtBZ63VLQPMKH8GhRG4Re3xxtxr66Dwh3UQ/KjjIQIg1Unpzc/CBqofEPQg0FoUPAissf55sKgAh7BUgj1bdgRJUR6ETQ/2FAIRXhEE9Zi9Bgatck12/2I8nlPPqllrAczcUZgHZbXyrkEP/NRdsgAiVCHg2TD0W7dXTwYpGN7Eahgtq5asgbVQ6LUVLZtZnggySzCZtckb67bAzzuvFNWmCIBUJ2VveiXQyyAxSm8nXZH8+b4a61+Wzk7qOlFklr1+ANFaHDWv1ufBng2PQNCzDGJZ2B+04tVYAUvuzDKHr4TJ3J7fqokFMLveMM4DQVuXbpjANBHw1bixHt0EgmlqwK4Ub6FI6ywBUxtQqMoshTVgqXHR7l6tYxjw1wQMKaptEQCpzgpvem1aAxFWRMoWvpo4L52tJ3v+z5bRBBDts3N2Evb+SQThDS18GQgijOnRQrCXFtvYBASxLrQAZv/5G70aJgobpgXQu9b0iEBQOtaAn0JJBl2Yryn42TJtXWhtLOWzcZGVrhZCsb+15UdAZ89bW/CH5dWAIUUNQwRAqpNSOFG3qm1roJal9SHARRa+GuufAqKFMp0wcLevt1TrbRDJgM7WbSensbGpr4AZFAS1T9F/AWdt9PqgfhuO44ywaY9eWAaHnppYAEvxVjjpa9u0nNpnACNQtOEILB6URSCF5dWCH9al7sziGMU1AUbsl2dVtGlsmSVrXgRkbcBfEzD0riGKaksEQKqTsjdAD+pK1sCaGyaCmeb1QG+Q5WFvArdp1W9hCQERQQrD1VKIE6PGR6+A8UAQQU8hyub3Hsj3wM6DwdrdvzUWQHusdVvZ8H4tgNG1Fk3geB3Y668pBCLw2TRYT5O/gus3HuvK8kZAmuXzYMqDyQjwsv/uzZaAjwf8lcIoqm0RAKnOyt70hgWBqgz6PL8FqlIcTlbeq2IsyGl7RKQ6zrZT60KAVJVAsCYeAUbrtLCobYpgENuM+TC+qQUQwyO/ytttjCpdUxgf+fu1AGoeW14EhxZqPIucdQ8Kfgh2JWtjBmk1cbhEi+Ft1OGNOeGPOpFEAKQ6KQsTegNEv4b1C4HexNoEAmstg9EEjhY/jUPoyuK0To1DK1YGiYOAYOlF0Lgz2PY3s/bZ865qwwLo+THMnp9BLYAZCNpJvWQBRBBFQPDCsHw9lqAO8zcFQ4SxmryljSlZu7GuQS19kR/HZpjw551n73qiqDZEAKQ6KXsDRJAr+ZvUYd0e/Fi/txmkxjKIkz3m0zhbr7X6ZUCGm0RsXXayarrzN4u3Y4egqeMQwaAtz6b13HaMbV1ahk1X6/b8Ki3bPteoqr2+SuCHdSFMe3lrgE/d0bIlLgFHIIP+phZB7ZtnjWsCdxFMWr8tuw1LH44X9sH+KKiFvwwAS2Pv+SmqTREAqU5rUAjM4BAnw8jyZiEkgsTMMmgnDs9qiFCGYBgBmbdJBCdOzIsQ2AQEsc9ank6O1uLnwSCOn6a16dRtjzgpe1CJ5dn8kR/DI5DKVLq2PD8uYWYWwBoI9Cx4nhuBxqaJ4KsmTQRPtdBoIa0WGqO6msJeKa09Z9iurJ1twh9FDUsEQKqT0pufBbi2ITC70ZbAzgM9Ed9SqPKsck2sgQiJCK1oAfTiNdw+h+iBoPYxgkGtx9sF7AGjLc+6Peugxttxtn3CeHvOav7z19ZjhRbApipBI0KgHgd9BlCPGRxm7wHUsFprH6bR67r0v8NtWQRLYJsBXZO0eF+ohbu24Y8gSA1LBECqs/LAr18IzGQtMFZNITCyFNrJ2PajxhqoYR5MYnqss7TzV+v3IBKtefjBDRMe3CHglax9kWUPYSmyFGZu9CPg2esGYSdSdJ1lPzbUjaBeA3sY7+XBfN5Sqk3br7Uvise6mubH8MxaaOvCPtXCXVN/Ewj04jAs86ObotoWAZDqpBRC2oJALwwnZU/9QqAHhSJTwa1kDUSojCxyWF5kbSzlr4m344Ww5G06sXkia18EddinNp4BjMIGtQDWgB/WZfuUwV509EAxAkG8JmxaDzr6ATdbV7/gl8VnS8Vtw553PmoBsDS2TeGPEEgNQwRAqpPSm1+bEOjVYeuKZMFM21QDcurHekrQWLIGZqCGk/AgoOfFaxq0NEbpPBCMrH3e8i8CoPap5hlAW1bkt+ER1EaKrpnsh4ZI3TOA1u2BQO0ycGkJGP0ZHJbAzetTm+CXtX0YVkBvbPsFwCb+zE1RbYoASHVWJfBrCn0YX3uD9aBPy6ux/tlJG3cJa3k1/qYgaAFwUBDU/mgaay2LloARBm2c546A0AMztBTaMjA8EsLiIBbApsDoWTWjaxPLx7gIFtAK5y0BY/k1cFgDbh4AtgF++ENHr79BYS/y2zGvBcBSWDbOmZui2hYBkOqkFLqsuwYCrUpA6E24WTu0zKZLwN5k3u+SchSG/UDYHNTih/EqW4+2rdbahxAXAaEC0rFjxya1K4JAq8yPkOeBZqTa6yryI6R5cOi1C/NHbfbAzoISxtlyPQCL4j0oQwtgv1bFpnDWNvzVQKsXh2GZv+TG80lRbYoASHVWCHk1EFiyCnpQ2PRXdgRpIvkSsF3CbGr9q7UGRrCp49cEBKO+WSjTsavZ7OGVqYqA0PZFRFILX9NXwGDYIBZA7/rJQPDYsWNT6vIm/OwYPaNm3er33s3npctgqwRtCJsi/f3lXA2o4SMIpfSeP0tTgrzjBX9N700U1UQEQKqTioCvDQi0degxio+WEjMoi5aAReqsf7bMpiDoLQGXrHleudqeyCpoARNfA9PPi589INQ0uNxsz4E9Rs8FeuV68gDGU2lCbmI91Lpq4K8EfF6YgiYuNWfQh2kwbQmW7HlqG/xw/Nqy+mVtjeJrwrxz0g/8EQKpYYgASHVWbUKglcZ5k27TttUs4doJ3E46JajzytR6ozzW8qIAWGvxq4FF2x6R/BlATKtlemnwaGEOrT0W8mrc1m8te5jG9mnYFkBvF7BNU7MMjMcor8Zb0MwAyLqbgFLNP2XUgJ/tQ5QG3znYj5WvxsqZ9QfDM38TdxRGUW2LAEh1Uhb0mkBgJC+Nd7Nt0jZbNj6T5y0B23oGtf5FeewE6gEgQlWTpV8Nt3E42WavgYmsgxoXHRE2UdHSr2cNzCyEbVkASzBorwMPNmtgzx49yyzG6fXgwZFtE4JH06Vgm68W/Gx4UytgW3lKENgUAGviovTZuaaoNkUApDqrCAJVg4ChjWtyk0X4s+VFgGbLbWr9a5rHg5jSjl5MY+MjqyBOpt5Sbrb0q8caILR1eS+CLi39Rsu+w7YA2jKjcA8SsLwmwIcw4fWpBCiZtc9Lh/EebHppsrJqoA3LbQKUXt9q4K02TdROz52F2SNFtS0CINUp4cTnQaA9WreITAkruUUmvy7DlmHdWZgHVRao9DmsY8eOybFjxybAx9tUgSAWpdH6MI3WdfToUTly5EhYFvZD5e3m9SDu8OHDIiJy5MiRCXeU1pYbjbF3VGn5hw8flkcffXRKmhp3FubV89///d9hupK8CRuva68uD/qaLAVjvWNjY3LkyBEReex60Dproc+6PXjD+KNHj4Z11YBfVLaXxz4XaneHY31ZOV7/onHROr1ymwLfIPBHGKTaVG+cVxTVIe3du1cWL1483c2gKIrqnPbs2SOLFi2a7mZQJ4gIgFSnNDY2Jvv27ZPTTz89tdZQFEXNFI2Pj8uDDz4oCxcuTHeyU1QTEQApiqIoiqJmmPhTgqIoiqIoaoaJAEhRFEVRFDXDRACkKIqiKIqaYSIAUhRFURRFzTARACmKoiiKomaYCIAURVEURVEzTARAiqIoiqKoGSYCIEVRFEVR1AwTAZCiKIqiKGqGiQBIURRFURQ1w0QApCiKoiiKmmEiAFIURVEURc0wEQApiqIoiqJmmAiAFEVRFEVRM0wEQIqiKIqiqBkmAiBFURRFUdQMEwGQoiiKoihqhokASFEURVEUNcNEAKQoiqIoipphIgBSFEVRFEXNMBEAKYqiKIqiZpgIgBRFURRFUTNMBECKoiiKoqgZJgIgRVEURVHUDBMBkKIoiqIoaoaJAEhRFEVRFDXDRACkKIqiKIqaYSIAUhRFURRFzTARACmKoiiKomaYCIAURVEURVEzTARAiqIoiqKoGSYCIEVRFEVR1AzT7OluAEVR3dLY2Jjs27dPTj/9dOn1etPdHOo4a3R0VLZv3y4rVqyQWbNmTXdzqOOs8fFxefDBB2XhwoUyMkIb0YksAiBFUZO0b98+Wbx48XQ3g6KoadSePXtk0aJF090MaogiAFIUNUmnn366iIh87Wtfk9NOO22aW0Mdbz300EPyfd/3ffLlL39ZFixYMN3NoY6z9PzrfYA6cUUApChqknTZ97TTTiMAzmDx/M9s8fGPE19c4KcoiqIoipphIgBSFEVRFEXNMBEAKYqiKIqiZpgIgBRFURRFUTNMBECKoiiKoqgZJgIgRVEURVHUDBMBkKIoiqIoaoaJAEhRFEVRFDXDRACkKIo6zlq9erX89V//9XQ3g6KoGSwCIEVRndTdd98t119/vbzwhS+UdevWyXOf+1y59NJL5fd+7/fkv//7v6e7eVQf+vmf/3lZvXq13HzzzZPC//qv/1pWr149cPlHjhyRT37yk/LSl75ULrroInnWs54ll156qXzhC1+Qo0ePDly+6qMf/aj86I/+aGvlUdR0iH8FR1FU57Rnzx551ateJaeffrpcffXVsnr1apkzZ45s2bJFPv/5z8tTn/pU+YEf+IEp+Y4ePSonnXTSNLSYqtXJJ58sn/zkJ+UnfuInZP78+a2Ve+TIEXnDG94gW7Zskbe//e2yfv16Oe200+Rb3/qWfPrTn5anPe1psnbt2tbqO146cuSIzJkzZ7qbQZ2AogWQoqjO6f/7//4/mTVrlnzhC1+QF73oRbJ8+XJZvHix/OAP/qDcfPPN8oIXvEBEHltK/b3f+z356Z/+aXnGM54hn/jEJ2R0dFTe/e53ywte8AK58MIL5Yd+6IfkM5/5zETZ//zP/ywXXHCB3H333ZPqvOGGG+TVr361iIjceeed8tM//dNyySWXyDOe8Qx58YtfLF/72tcm0m7btk3e/OY3y/r16+Xiiy+WV7/61bJ7924REfn2t78tP/mTPynPetaz5JnPfKZcdtll8l//9V9pf/fv3y9vf/vb5bu/+7vle77ne+TKK6+UvXv3tjKWXdNzn/tcOeuss+S3fuu30nR/8Rd/IS9+8Yvl6U9/urzgBS+QT3/602n6z3zmM/Iv//Ivcsstt8hrXvMaWbt2rSxevFhe8pKXyOc//3lZunSpiDwGVNdff7085znPkXXr1smrXvUq+fa3vz1Rzj/+4z/K6tWr5R/+4R/k5S9/uVx00UVy6aWXyo4dO0RE5NZbb5WPfexjsnnzZlm9erWsXr1abr31VhER2bdvn1x55ZVy8cUXy/r16+Xtb3+73HPPPRNl//zP/7xcddVVk9p9ww03yOWXXz7hv/zyy+WXfumX5IYbbpBnPetZ8oY3vEHGx8flox/9qPyP//E/5OlPf7o873nPk+uvv75itCkqFgGQoqhO6f7775dvfOMb8prXvEZOPfVUN439o/qPfexj8sIXvlC+9KUvySte8QoZGxuTBQsWyEc+8hH58pe/LG95y1vkN37jN+QrX/mKiIhccsklsmjRIvmTP/mTiTKOHj06kV9E5Jd+6ZfkyJEjsnHjRvnSl74k11577URb7rrrLrnssstkzpw58pnPfEZuvfVWecUrXiHHjh0TEZGHH35YfuzHfkx+7/d+bwI83vSmN8lDDz3k9uXo0aPyhje8Qb7ru75LPve5z8nv//7vy6mnnipvfOMb5ciRI4MPaMc0MjIi11xzjWzcuFEOHDjgpvnP//xPecc73iEvetGL5Etf+pL8zM/8jHzkIx+ZAC1PX/rSl+S5z32uPO1pT5sSd9JJJ02cvw9+8IPyF3/xF/Krv/qrctttt8nSpUvljW98ozzwwAOT8vzGb/yG/PzP/7x84QtfkFmzZsm73/1uERF50YteJFdccYWsXLlS/u7v/k7+7u/+Tl70ohfJ2NiYXHXVVXLw4EH53d/9Xfmd3/kd2bNnj1x99dWNx+i2226Tk046SX7/939f3ve+98lf/MVfyC233CLve9/75C//8i/l4x//uKxatapxuRRlxSVgiqI6pd27d8v4+Licf/75k8Kf9axnTQDRq1/9avm5n/s5ERH5kR/5kQlwU73tbW+bcC9evFi+9a1vyZ//+Z/Li170IhEReeUrXym33nqrvPGNbxQRka9+9aty+PBh+eEf/mERecyS80M/9EMTz6UtXrx4orzPfe5zctppp8mNN944sdxs2/qc5zxnUlt++Zd/Wb77u79b/vmf/1m+//u/f0p/v/KVr8jY2JjccMMNE2D7/ve/Xy655BL5p3/6J3ne855XNW5PJL3whS+UtWvXyk033SS/8iu/MiX+d37nd+Q5z3mOvOUtbxGRx8Z3+/bt8qlPfUpe/vKXu2Xu2rVLvud7viet95FHHpE/+IM/kPe///3yfd/3fSLy2Pn5xje+IX/8x388cT2IiFx99dUT5b3pTW+SN73pTXL48GGZO3eunHrqqTJr1iw5++yzJ9J/4xvfkK1bt8rf/M3fyDnnnCMij8Hmi1/8Yvn2t78tF154YfX4nHfeeXLddddN+L/2ta/JWWedJc997nPlpJNOkoULFzYqj6I80QJIUdQTQn/8x38sX/ziF2XFihWTLGNPf/rTp6T93Oc+Jy9/+cvl2c9+tlx88cXy+c9/Xvbt2zcR//KXv1x2794t3/rWt0TksWW9H/7hH56wEr32ta+VDRs2yKWXXio33XSTbN68eSLvpk2b5Lu/+7vDZw3vueceec973iP/83/+T3nmM58pz3zmM+WRRx6ZVL/V5s2bZffu3RPLyRdffLE861nPksOHD08sK5+Iuvbaa+WLX/yi3H777VPiduzYIevXr58Utn79etm1a5eMjo665Y2Pjxfr3L17txw9enRS2SeddJJceOGFU9phN6Uo6N17771h2bfffrssWLBgAv5ERFasWCHz5s2bWD6u1QUXXDDJ/7/+1/+Sw4cPyw/+4A/Ke97zHvmrv/qrCYszRfUrWgApiuqUlixZIr1eT+64445J4WqFmzt37qRwXCb+8pe/LB/4wAfkne98p1x88cXyXd/1XfKpT31K/v3f/30izZlnninf//3fL7feeqssWrRIvv71r8tnP/vZifgf//Efl+c973nyf//v/5VvfOMbcvPNN8s73/lOufzyy6fUj3rnO98pDzzwgPzCL/yCLFy4UObMmSM/8RM/Ee5CfeSRR+SCCy6QX/u1X5sS9+QnPzmt64msSy65RJ73vOfJr//6r4dWvSY677zzplwzg2j27MenR7XMjo2NDVRmr9ebAqoeyJ1yyimT/Oecc478+Z//ufz93/+9/P3f/728733vk0996lPyu7/7u9z0RPUtWgApiuqUzjjjDPne7/1e2bhxozzyyCON83/zm9+Uiy++WF7zmtfI0572NFm6dKlrSXvlK18pX/nKV+QP//APZfHixfLMZz5zUvw555wjr3rVq+RjH/uY/ORP/qR8/vOfF5HHLEP/8i//EgLdN7/5Tbn88svl+77v+2TlypUyZ84cuf/++8P2XnDBBbJr1y4588wzZenSpZM+p59+euP+P5H0sz/7s/LVr35V/u3f/m1S+LJly+Sb3/zmpLBvfvObct5558msWbPcsn7kR35E/v7v/17+3//7f1Pijh49Ko888ogsWbJETjrppEllHz16VP7jP/5DVqxYUd3uk046aQoMLl++XA4cOCD79++fCNu+fbscOnRIli9fLiKPAT1uPtq0aVNVnXPnzpUXvOAF8p73vEc++9nPyr/927/J1q1bq9tMUSgCIEVRndMv/uIvyujoqLziFa+Qr3zlK3L77bfLjh075E/+5E9kx44dIQSIiCxdulT+8z//U77+9a/LHXfcIR/+8IflP/7jP6ake/7zny+nnXaabNiwYYoF6oYbbpCvf/3rsmfPHvmv//ov+cd//MeJSfw1r3mNPPTQQ3LNNdfIf/zHf8jOnTvli1/84sQy33nnnSd/+qd/Krfffrv8+7//u1x77bWp1fAlL3mJnHHGGXLllVfKv/zLv8iePXvkH//xH+X6668PN0mcKFq9erW85CUvkd/93d+dFH7FFVfIP/zDP8hv/uZvyh133CG33XabfO5zn5MrrrgiLOv1r3+9rF+/Xl7/+tfL5z73Odm8ebPs2bNHvvKVr8hP/MRPyK5du+TUU0+VV73qVfLBD35Q/vZv/1a2b98u733ve+XRRx+VV77yldXtPvfcc2Xv3r2yadMmue++++TIkSPy3Oc+V1atWiXXXnut/Nd//Zd8+9vfluuuu06+53u+R9atWyciIs9+9rPlP//zP+WLX/yi7Ny5U2666SbZtm1bsb5bb71V/uiP/ki2bt0qe/bskT/90z+VuXPnysKFC6vbTFEoLgFTFNU5LVmyRG677Tb5rd/6Lfn1X/91ueuuu+Skk06SFStWyBVXXDHxuhZPl156qWzatEmuvvpq6fV68uIXv1he/epXy9/+7d9OSjcyMiIve9nL5Ld+67fkx37sxybFjY2NyS/90i/JgQMH5LTTTpPnP//58q53vUtEHrNQfuYzn5EPfehDcvnll8vIyIisXbt2woJ4ww03yHvf+1552cteJuecc45cffXV8sEPfjBs7ymnnCIbN26UX/u1X5Of+ZmfkYcfflie+tSnynOe8xw57bTT+hzBJ47e9ra3TezQVl1wwQXy4Q9/WG666SbZsGGDnH322fK2t70tXSqeM2eO/M7v/I7ccsst8gd/8AfygQ98QE455RRZtmyZXH755bJy5UoReezZw/Hxcbnuuuvk4Ycflqc//eny27/9243eSfhDP/RD8ld/9Vfy2te+Vg4dOiTvf//75eUvf7l8/OMfl1/+5V+Wyy67THq9njz/+c+X9773vRP5nv/858tVV10lH/rQh+Tw4cPyile8Qn7sx36saMmbN2+e3HzzzfKrv/qrMjY2JqtWrZJPfOITcsYZZ1S3maJQvfGaJ2cpipoxOnTokMyfP1/+9V//9YQHkHe/+91y3333ySc+8Ynpbkpn9NBDD8kzn/lM+drXviYLFiyY7uZQx1l6/g8ePCjz5s2b7uZQQxQtgBRFzTg9+OCDsmXLFvmzP/sz2bBhw3Q3h6Io6riLAEhR1IzTVVddJd/+9rfl0ksvle/93u+d7uZQFEUddxEAKYqaccJNBxRFUTNN3AVMURRFURQ1w0QApCiKoiiKmmEiAFIURVEURc0wEQApiqIoiqJmmAiAFEVRFEVRM0wEQIqiKIqiqBkmAiBFURRFUdQMEwGQoiiKoihqhokASFEURVEUNcPEfwKhKGqSxsfHReSxP4WnZp70vD/00EO8Bmag9JzrfYA6cdUb51mmKMpo7969snjx4uluBkVR06g9e/bIokWLprsZ1BBFAKQoapLGxsZk3759cvrpp0uv15vu5lDHWaOjo7J9+3ZZsWKFzJo1a7qbQx1njY+Py4MPPigLFy6UkRE+JXYiiwBIURRFURQ1w0S8pyiKoiiKmmEiAFIURVEURc0wEQApiqIoiqJmmAiAFEVRFEVRM0wEQIqiKIqiqBkmAiBFURRFUdQMEwGQoiiKoihqhokASFEURVEUNcNEAKQoiqIoipphIgBSFEVRFEXNMBEAKYqiKIqiZpgIgBRFURRFUTNMBECKoiiKoqgZJgIgRVEURVHUDBMBkKIoiqIoaoaJAEhRFEVRFDXDRACkKIqiKIqaYSIAUhRFURRFzTARACmKoiiKomaYCIAURVEURVEzTARAiqIoiqKoGab/H2wBcWNoffvIAAAAAElFTkSuQmCC",
            "_dom_classes": [],
            "_figure_label": "Figure 3",
            "_image_mode": "diff",
            "_message": "",
            "_model_module": "jupyter-matplotlib",
            "_model_module_version": "^0.11",
            "_model_name": "MPLCanvasModel",
            "_rubberband_height": 0,
            "_rubberband_width": 0,
            "_rubberband_x": 0,
            "_rubberband_y": 0,
            "_size": [
              640,
              480
            ],
            "_view_count": null,
            "_view_module": "jupyter-matplotlib",
            "_view_module_version": "^0.11",
            "_view_name": "MPLCanvasView",
            "capture_scroll": false,
            "footer_visible": true,
            "header_visible": true,
            "layout": "IPY_MODEL_1b817de141c140e7bd92b7ef0b40c453",
            "pan_zoom_throttle": 33,
            "resizable": true,
            "toolbar": "IPY_MODEL_b1eb76ddff144279b699cd1ca2f07f08",
            "toolbar_position": "left",
            "toolbar_visible": "fade-in-fade-out"
          }
        },
        "1b817de141c140e7bd92b7ef0b40c453": {
          "model_module": "@jupyter-widgets/base",
          "model_name": "LayoutModel",
          "model_module_version": "1.2.0",
          "state": {
            "_model_module": "@jupyter-widgets/base",
            "_model_module_version": "1.2.0",
            "_model_name": "LayoutModel",
            "_view_count": null,
            "_view_module": "@jupyter-widgets/base",
            "_view_module_version": "1.2.0",
            "_view_name": "LayoutView",
            "align_content": null,
            "align_items": null,
            "align_self": null,
            "border": null,
            "bottom": null,
            "display": null,
            "flex": null,
            "flex_flow": null,
            "grid_area": null,
            "grid_auto_columns": null,
            "grid_auto_flow": null,
            "grid_auto_rows": null,
            "grid_column": null,
            "grid_gap": null,
            "grid_row": null,
            "grid_template_areas": null,
            "grid_template_columns": null,
            "grid_template_rows": null,
            "height": null,
            "justify_content": null,
            "justify_items": null,
            "left": null,
            "margin": null,
            "max_height": null,
            "max_width": null,
            "min_height": null,
            "min_width": null,
            "object_fit": null,
            "object_position": null,
            "order": null,
            "overflow": null,
            "overflow_x": null,
            "overflow_y": null,
            "padding": null,
            "right": null,
            "top": null,
            "visibility": null,
            "width": null
          }
        },
        "b1eb76ddff144279b699cd1ca2f07f08": {
          "model_module": "jupyter-matplotlib",
          "model_name": "ToolbarModel",
          "model_module_version": "^0.11",
          "state": {
            "_current_action": "",
            "_dom_classes": [],
            "_model_module": "jupyter-matplotlib",
            "_model_module_version": "^0.11",
            "_model_name": "ToolbarModel",
            "_view_count": null,
            "_view_module": "jupyter-matplotlib",
            "_view_module_version": "^0.11",
            "_view_name": "ToolbarView",
            "button_style": "",
            "collapsed": true,
            "layout": "IPY_MODEL_af79aa5b832f401487aa467b12cb617c",
            "orientation": "vertical",
            "toolitems": [
              [
                "Home",
                "Reset original view",
                "home",
                "home"
              ],
              [
                "Back",
                "Back to previous view",
                "arrow-left",
                "back"
              ],
              [
                "Forward",
                "Forward to next view",
                "arrow-right",
                "forward"
              ],
              [
                "Pan",
                "Left button pans, Right button zooms\nx/y fixes axis, CTRL fixes aspect",
                "arrows",
                "pan"
              ],
              [
                "Zoom",
                "Zoom to rectangle\nx/y fixes axis",
                "square-o",
                "zoom"
              ],
              [
                "Download",
                "Download plot",
                "floppy-o",
                "save_figure"
              ]
            ]
          }
        },
        "af79aa5b832f401487aa467b12cb617c": {
          "model_module": "@jupyter-widgets/base",
          "model_name": "LayoutModel",
          "model_module_version": "1.2.0",
          "state": {
            "_model_module": "@jupyter-widgets/base",
            "_model_module_version": "1.2.0",
            "_model_name": "LayoutModel",
            "_view_count": null,
            "_view_module": "@jupyter-widgets/base",
            "_view_module_version": "1.2.0",
            "_view_name": "LayoutView",
            "align_content": null,
            "align_items": null,
            "align_self": null,
            "border": null,
            "bottom": null,
            "display": null,
            "flex": null,
            "flex_flow": null,
            "grid_area": null,
            "grid_auto_columns": null,
            "grid_auto_flow": null,
            "grid_auto_rows": null,
            "grid_column": null,
            "grid_gap": null,
            "grid_row": null,
            "grid_template_areas": null,
            "grid_template_columns": null,
            "grid_template_rows": null,
            "height": null,
            "justify_content": null,
            "justify_items": null,
            "left": null,
            "margin": null,
            "max_height": null,
            "max_width": null,
            "min_height": null,
            "min_width": null,
            "object_fit": null,
            "object_position": null,
            "order": null,
            "overflow": null,
            "overflow_x": null,
            "overflow_y": null,
            "padding": null,
            "right": null,
            "top": null,
            "visibility": null,
            "width": null
          }
        }
      }
    }
  },
  "nbformat": 4,
  "nbformat_minor": 0
}