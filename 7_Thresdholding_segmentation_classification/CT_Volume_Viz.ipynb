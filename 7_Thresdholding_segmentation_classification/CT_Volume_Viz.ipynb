{
  "cells": [
    {
      "cell_type": "markdown",
      "metadata": {
        "id": "view-in-github",
        "colab_type": "text"
      },
      "source": [
        "<a href=\"https://colab.research.google.com/github/dalexa10/Scientific_Visualization/blob/main/7_Thresdholding_segmentation_classification/CT_Volume_Viz.ipynb\" target=\"_parent\"><img src=\"https://colab.research.google.com/assets/colab-badge.svg\" alt=\"Open In Colab\"/></a>"
      ]
    },
    {
      "cell_type": "markdown",
      "metadata": {
        "id": "3Q9P7Cx6v3Wt"
      },
      "source": [
        "# Ray Marching"
      ]
    },
    {
      "cell_type": "markdown",
      "source": [
        "###NOTE:\n",
        "To run this code, you first need to dowload the .vtk.gz file from [here](https://github.com/dalexa10/Scientific_Visualization/tree/main/7_Thresdholding_segmentation_classification/viz_files) and manually uploaded to Google Colab.\n",
        "Apparently, there's some issues when trying to pull the file directly from GitHub into the notebook  "
      ],
      "metadata": {
        "id": "PKj5vvVAXTWl"
      }
    },
    {
      "cell_type": "markdown",
      "metadata": {
        "id": "nBObrurNv3Wv"
      },
      "source": [
        "In this activity, you will march rays through a VTK render to implement various transfer and composite functions.\n",
        "\n",
        "The outline of this activity will be:\n",
        "1. Implementing a grayscale transfer function with the max intensity operator\n",
        "2. Implementing an alpha transfer function with the over operator\n",
        "3. Implementing the ray function with the ray casting method."
      ]
    },
    {
      "cell_type": "markdown",
      "metadata": {
        "id": "PpWUJ47Lv3Ww"
      },
      "source": [
        "Starter Code:"
      ]
    },
    {
      "cell_type": "code",
      "source": [
        "!pip install vtk"
      ],
      "metadata": {
        "colab": {
          "base_uri": "https://localhost:8080/"
        },
        "id": "v3NaU_haw5pt",
        "outputId": "69742aa6-33bf-47ee-b4b2-d944879f7cb4"
      },
      "execution_count": 1,
      "outputs": [
        {
          "output_type": "stream",
          "name": "stdout",
          "text": [
            "Requirement already satisfied: vtk in /usr/local/lib/python3.10/dist-packages (9.2.6)\n",
            "Requirement already satisfied: matplotlib>=2.0.0 in /usr/local/lib/python3.10/dist-packages (from vtk) (3.7.1)\n",
            "Requirement already satisfied: contourpy>=1.0.1 in /usr/local/lib/python3.10/dist-packages (from matplotlib>=2.0.0->vtk) (1.1.0)\n",
            "Requirement already satisfied: cycler>=0.10 in /usr/local/lib/python3.10/dist-packages (from matplotlib>=2.0.0->vtk) (0.11.0)\n",
            "Requirement already satisfied: fonttools>=4.22.0 in /usr/local/lib/python3.10/dist-packages (from matplotlib>=2.0.0->vtk) (4.40.0)\n",
            "Requirement already satisfied: kiwisolver>=1.0.1 in /usr/local/lib/python3.10/dist-packages (from matplotlib>=2.0.0->vtk) (1.4.4)\n",
            "Requirement already satisfied: numpy>=1.20 in /usr/local/lib/python3.10/dist-packages (from matplotlib>=2.0.0->vtk) (1.22.4)\n",
            "Requirement already satisfied: packaging>=20.0 in /usr/local/lib/python3.10/dist-packages (from matplotlib>=2.0.0->vtk) (23.1)\n",
            "Requirement already satisfied: pillow>=6.2.0 in /usr/local/lib/python3.10/dist-packages (from matplotlib>=2.0.0->vtk) (8.4.0)\n",
            "Requirement already satisfied: pyparsing>=2.3.1 in /usr/local/lib/python3.10/dist-packages (from matplotlib>=2.0.0->vtk) (3.1.0)\n",
            "Requirement already satisfied: python-dateutil>=2.7 in /usr/local/lib/python3.10/dist-packages (from matplotlib>=2.0.0->vtk) (2.8.2)\n",
            "Requirement already satisfied: six>=1.5 in /usr/local/lib/python3.10/dist-packages (from python-dateutil>=2.7->matplotlib>=2.0.0->vtk) (1.16.0)\n"
          ]
        }
      ]
    },
    {
      "cell_type": "code",
      "execution_count": 2,
      "metadata": {
        "scrolled": true,
        "id": "UADIBp4Sv3Ww"
      },
      "outputs": [],
      "source": [
        "import random, os, gzip, numpy, vtk\n",
        "import numpy as np\n",
        "from vtk.util import numpy_support as VN\n",
        "from PIL import Image\n",
        "\n",
        "VTK_FILE = \"./HeadCT.vtk\"\n",
        "\n",
        "def compositeKeepA(a,b):\n",
        "    return a\n",
        "\n",
        "def getVolumeScalars(volume):\n",
        "    scalars = VN.vtk_to_numpy(volume.GetPointData().GetArray(\"scalars\"))\n",
        "    return scalars.reshape(volume.GetDimensions(),order=\"F\")\n",
        "\n",
        "def volumeRender(displaySlice, volume, transfer, composite, yval=-1):\n",
        "    # get the dimensions of the volume array\n",
        "    xsize, ysize, zsize = volume.GetDimensions()\n",
        "    # get the min and max values of the scalars for volume\n",
        "    srange              = volume.GetScalarRange()\n",
        "    # get the scalars themselves\n",
        "    scalars             = getVolumeScalars(volume)\n",
        "\n",
        "    # compute the resulted image based on the volume input\n",
        "    # you will implement this function later\n",
        "    img = ray((xsize, ysize, zsize), scalars, srange, transfer, composite, yval)\n",
        "\n",
        "    # write the output image to the displaySlice\n",
        "    for x in range(xsize):\n",
        "        for z in range(zsize):\n",
        "            ra, ga, ba, aa = img[x, z]\n",
        "            displaySlice.SetScalarComponentFromFloat(x, z, 0, 0, ra*aa)\n",
        "            displaySlice.SetScalarComponentFromFloat(x, z, 0, 1, ga*aa)\n",
        "            displaySlice.SetScalarComponentFromFloat(x, z, 0, 2, ba*aa)\n",
        "\n",
        "def saveSliceToImage(displaySlice,fname):\n",
        "    xs,zs,_ = displaySlice.GetDimensions()\n",
        "    scalars = VN.vtk_to_numpy(displaySlice.GetPointData().GetArray(0))\n",
        "    scalars = (255*scalars).astype(numpy.uint8)\n",
        "    scalars = scalars.reshape((xs,zs,3),order=\"F\")\n",
        "    scalars = numpy.rot90(scalars,1)\n",
        "    im      = Image.fromarray(scalars)\n",
        "    im.save(fname)\n",
        "    display(im)\n",
        "\n",
        "def decompressVtkData(ifname,ofname):\n",
        "    if not os.path.exists(ofname):\n",
        "        if os.path.exists(ifname):\n",
        "            with gzip.GzipFile(ifname, 'rb') as fin:\n",
        "                with open(ofname, 'wb') as fout:\n",
        "                    fout.write(fin.read())\n",
        "\n",
        "# transfer = transfer function to pass to volumeRender()\n",
        "# composite = composite function to pass to volumeRender()\n",
        "# ymin = y value to pass to volumeRender\n",
        "def render(transfer,composite,fname,yval=-1):\n",
        "    decompressVtkData(\"/content/\" + VTK_FILE+\".gz\",VTK_FILE)\n",
        "\n",
        "    reader = vtk.vtkStructuredPointsReader()\n",
        "    reader.SetFileName(VTK_FILE)\n",
        "    reader.Update()\n",
        "\n",
        "    volume = reader.GetOutput()\n",
        "    xsize, ysize, zsize = volume.GetDimensions()\n",
        "\n",
        "    displaySlice = vtk.vtkImageData()\n",
        "    displaySlice.SetExtent(0,xsize-1,0,zsize-1,0,0);\n",
        "    displaySlice.AllocateScalars(vtk.VTK_FLOAT,3);\n",
        "    volumeRender(displaySlice,volume,transfer,composite,yval)\n",
        "    displaySlice.Modified()\n",
        "\n",
        "    saveSliceToImage(displaySlice,fname)"
      ]
    },
    {
      "cell_type": "markdown",
      "source": [
        "Note: Run the line below twice (second time after ~ 30 seconds the first attemp). For some reason, Colab fails to load and decompress the file automatically"
      ],
      "metadata": {
        "id": "W_C6OfLw70-A"
      }
    },
    {
      "cell_type": "code",
      "source": [
        "decompressVtkData(VTK_FILE+\".gz\",VTK_FILE)"
      ],
      "metadata": {
        "id": "Ex5m52uk0bfP"
      },
      "execution_count": 3,
      "outputs": []
    },
    {
      "cell_type": "markdown",
      "metadata": {
        "id": "OkKDcmkgv3Wx"
      },
      "source": [
        "# Part 1: Maximum intensity projection\n",
        "\n",
        "Implement `transferGrayscale()`:\n",
        "\n",
        "- function should return an `(r,g,b,a)` tuple\n",
        "- `r`, `g`, and `b` components should be equal to the linear interpolation of `scalar` between the min and max values in `srange`, normalized to (0,1)\n",
        "- `a` component should always be 1"
      ]
    },
    {
      "cell_type": "code",
      "execution_count": 12,
      "metadata": {
        "scrolled": true,
        "id": "sI2wKRVIv3Wy"
      },
      "outputs": [],
      "source": [
        "def transferGrayscale(scalar, srange):\n",
        "    # c = np.interp(scalar, srange, [0, 1]).item() # item() converts np.float to python native float variable\n",
        "    t = (scalar - srange[0]) / (srange[1] - srange[0])\n",
        "    c = (1 - t) * 0 + t * 1\n",
        "    a = 1\n",
        "    return (c, c, c, a)"
      ]
    },
    {
      "cell_type": "markdown",
      "metadata": {
        "id": "9hwOl3pjv3Wy"
      },
      "source": [
        "Test `transferGrayscale()`"
      ]
    },
    {
      "cell_type": "code",
      "execution_count": 5,
      "metadata": {
        "id": "yrRtChhGv3Wy"
      },
      "outputs": [],
      "source": [
        "# unit tests for transferGrayscale()\n",
        "r       = [4,7]\n",
        "scalars = [5,6,5.5,6.5]\n",
        "grays   = [2/6,4/6,3/6,5/6]\n",
        "for i in range(len(scalars)):\n",
        "    numpy.testing.assert_allclose(transferGrayscale(scalars[i],r)[0],grays[i], rtol=1e-2)\n",
        "    numpy.testing.assert_allclose(transferGrayscale(scalars[i],r)[1],grays[i], rtol=1e-2)\n",
        "    numpy.testing.assert_allclose(transferGrayscale(scalars[i],r)[2],grays[i], rtol=1e-2)\n",
        "    numpy.testing.assert_allclose(transferGrayscale(scalars[i],r)[3],1, rtol=1e-2)"
      ]
    },
    {
      "cell_type": "markdown",
      "metadata": {
        "id": "93PXqxmNv3Wy"
      },
      "source": [
        "**Before we can render the volume into a graph, we still need to provide how the ray interacts with the volume to generate the pixels of the graph.**\n",
        "\n",
        "Implement ```ray(size, scalars, srange, transfer, composite, yval = -1)```. This function will return the generated pixel values of an image when a ray passess through the volume along the y-axis direction.\n",
        "\n",
        "The inputs are:\n",
        "- ```size = (xsize, ysize, zsize)``` are the dimensions of the volume\n",
        "- ```scalars```, a numpy array of shape ```(xsize, ysize, zsize)``` with the ```scalar``` value at each position\n",
        "- ```srange = [min, max]``` are the maximum and minimum values of ```scalars```. This will be used in the transfer function\n",
        "- ```transfer```, the transfer function that returns a pixel value based on the input ```scalar``` value at a position. The ```transferGrayscale()``` function you just implemented is a transfer function\n",
        "- ```composite```, the composite function. This function takes two pixel values of the form (r, g, b, a) and returns the composed pixel value. The first input should be the composed pixel value from before, and the second should be the new pixel value.\n",
        "- ```yval```, representing the y value the ray passes through. If ```yval = -1```, the ray will pass through all possible y values in range ```(0, ysize)``` (in the corresponding direction); otherwise, only consider the y value ```yval```\n",
        "\n",
        "**Return**: A numpy array of shape ```(xsize, zsize, 4)``` representing the pixel value of the image. More specifically, ```output[x, z]``` should be the ```[r, g, b, a]``` values of the pixel in position ```(x, z)```. For computing the pixel value at each position ```(x, z)``` assume that the ray goes through all the pixels with that x and z coordinate but different values for the y coordinate.\n",
        "\n"
      ]
    },
    {
      "cell_type": "code",
      "execution_count": 10,
      "metadata": {
        "id": "XGBYS0Qbv3Wz"
      },
      "outputs": [],
      "source": [
        "import numpy as np\n",
        "def ray(size, scalars, srange, transfer, composite, yval = -1):\n",
        "    out_array = np.empty([size[0], size[2], 4], dtype=float)  # Initialize output array\n",
        "\n",
        "    for i in range(size[0]):\n",
        "        for k in range(size[2]):\n",
        "            if yval == -1:\n",
        "                comp = transfer(scalars[i, 0, k], srange)\n",
        "                for j in range(size[1] - 1):\n",
        "                    nxt = transfer(scalars[i, j + 1, k], srange)\n",
        "                    comp = composite(comp, nxt)\n",
        "                out_array[i, k, :] = comp\n",
        "            else:\n",
        "                comp = transfer(scalars[i, yval, k], srange)\n",
        "                out_array[i, k, :] = comp\n",
        "    return out_array"
      ]
    },
    {
      "cell_type": "markdown",
      "metadata": {
        "id": "ULyvJQtQv3Wz"
      },
      "source": [
        "Test `ray()` function"
      ]
    },
    {
      "cell_type": "code",
      "execution_count": 7,
      "metadata": {
        "id": "RMTzGj_6v3Wz"
      },
      "outputs": [],
      "source": [
        "# unit tests for ray()\n",
        "# make sure your transferGrayscale() is working before running these tests\n",
        "scalars = np.array([[[1, 2, 3], [2, 3, 4]], [[3, 4, 5], [4, 5, 6]]])\n",
        "size = scalars.shape\n",
        "srange = [0, 7]\n",
        "img = ray(size, scalars, srange, transferGrayscale, compositeKeepA)\n",
        "numpy.testing.assert_allclose(img[0, 0], np.array([1/7, 1/7, 1/7, 1]))\n",
        "numpy.testing.assert_allclose(img[1, 1], np.array([4/7, 4/7, 4/7, 1]))\n",
        "numpy.testing.assert_allclose(img[0, 2], np.array([3/7, 3/7, 3/7, 1]))"
      ]
    },
    {
      "cell_type": "markdown",
      "metadata": {
        "id": "GENkFb7Tv3W0"
      },
      "source": [
        "Test render using `transferGrayscale()`"
      ]
    },
    {
      "cell_type": "code",
      "execution_count": 8,
      "metadata": {
        "colab": {
          "base_uri": "https://localhost:8080/",
          "height": 247
        },
        "id": "yeDAN4wFv3W0",
        "outputId": "ff1bd985-c1e4-46c2-f619-f5559b520c8b"
      },
      "outputs": [
        {
          "output_type": "display_data",
          "data": {
            "text/plain": [
              "<PIL.Image.Image image mode=RGB size=270x230 at 0x7FD758127A90>"
            ],
            "image/png": "[encoded data removed]"
          },
          "metadata": {}
        }
      ],
      "source": [
        "render(transferGrayscale,compositeKeepA,\"test.png\",200)"
      ]
    },
    {
      "cell_type": "markdown",
      "metadata": {
        "id": "1LnucIGKv3W1"
      },
      "source": [
        "Implement `compositeMax()`:\n",
        "\n",
        "- `a` and `b` are both rgba tuples of the form `(red,green,blue,alpha)`\n",
        "- return value should be the max of `a` and `b` using standard ordering operators (e.g., compare red, then green, then blue, then alpha)"
      ]
    },
    {
      "cell_type": "code",
      "execution_count": 9,
      "metadata": {
        "id": "0CAj-XXLv3W1"
      },
      "outputs": [],
      "source": [
        "def compositeMax(a,b):\n",
        "    if a > b:\n",
        "        return a\n",
        "    else:\n",
        "        return b"
      ]
    },
    {
      "cell_type": "markdown",
      "metadata": {
        "id": "8NySC_QMv3W1"
      },
      "source": [
        "Test `compositeMax()`"
      ]
    },
    {
      "cell_type": "code",
      "execution_count": 13,
      "metadata": {
        "id": "TgD8e2h_v3W1"
      },
      "outputs": [],
      "source": [
        "# unit tests for compositeMax()\n",
        "for i in range(1000):\n",
        "    a = tuple([random.random() for _ in range(4)])\n",
        "    b = tuple([random.random() for _ in range(4)])\n",
        "    if a > b:\n",
        "        assert(compositeMax(a,b) == a)\n",
        "    else:\n",
        "\n",
        "        assert(compositeMax(a,b) == b)"
      ]
    },
    {
      "cell_type": "markdown",
      "metadata": {
        "id": "8VE7j0tKv3W1"
      },
      "source": [
        "Test render using `compositeMax()`"
      ]
    },
    {
      "cell_type": "code",
      "execution_count": 14,
      "metadata": {
        "colab": {
          "base_uri": "https://localhost:8080/",
          "height": 247
        },
        "id": "OTj2hdEFv3W2",
        "outputId": "8923eb8c-359c-4884-9423-6adf76916432"
      },
      "outputs": [
        {
          "output_type": "display_data",
          "data": {
            "text/plain": [
              "<PIL.Image.Image image mode=RGB size=270x230 at 0x7FD72CEB7BB0>"
            ],
            "image/png": "[encoded data removed]"
          },
          "metadata": {}
        }
      ],
      "source": [
        "render(transferGrayscale,compositeMax,\"part1.png\")"
      ]
    },
    {
      "cell_type": "markdown",
      "metadata": {
        "id": "p9FpwJyqv3W2"
      },
      "source": [
        "# Part 2: \"X-ray\" projection\n",
        "Implement `transferAlpha()`:\n",
        "\n",
        "- function should return an `(r,g,b,a)` tuple\n",
        "- `r`, `g`, and `b` components should always be 1\n",
        "- `a` component should be equal to the linear interpolation of `scalar` between the min and max values in `srange`, normalized to (0,1), and multiplied by the constant `0.0125`"
      ]
    },
    {
      "cell_type": "code",
      "execution_count": 15,
      "metadata": {
        "id": "q6qwFDDgv3W2"
      },
      "outputs": [],
      "source": [
        "def transferAlpha(scalar, srange):\n",
        "#     a = 0.0125 * np.interp(scalar, srange, [0, 1]).item()\n",
        "\n",
        "    t = (scalar - srange[0]) / (srange[1] - srange[0])\n",
        "    a = 0.0125 * ((1 - t) * 0 + t * 1)\n",
        "\n",
        "    return (1, 1, 1, a)"
      ]
    },
    {
      "cell_type": "markdown",
      "metadata": {
        "id": "HGRf-wdOv3W3"
      },
      "source": [
        "Test `transferAlpha()`"
      ]
    },
    {
      "cell_type": "code",
      "execution_count": 16,
      "metadata": {
        "id": "JA5r99lQv3W3"
      },
      "outputs": [],
      "source": [
        "# unit tests for transferAlpha()\n",
        "r       = [4,7]\n",
        "scalars = [5,6,5.5,6.5]\n",
        "alphas  = [0.004167,0.008333,0.00625,0.010417]\n",
        "for i in range(len(scalars)):\n",
        "    numpy.testing.assert_allclose(transferAlpha(scalars[i],r)[0],1, rtol=1e-2)\n",
        "    numpy.testing.assert_allclose(transferAlpha(scalars[i],r)[1],1, rtol=1e-2)\n",
        "    numpy.testing.assert_allclose(transferAlpha(scalars[i],r)[2],1, rtol=1e-2)\n",
        "    numpy.testing.assert_allclose(transferAlpha(scalars[i],r)[3],alphas[i], rtol=1e-2)"
      ]
    },
    {
      "cell_type": "markdown",
      "metadata": {
        "id": "xPGaE4jov3W3"
      },
      "source": [
        "Implement `compositeOver()`:\n",
        "\n",
        "- `a` and `b` are both rgba tuples of the form `(red,green,blue,alpha)`\n",
        "- return value should be the tuple `(ro,go,bo,ao)`, or the rgba color resulting from the application of the over operator for `a` over `b`\n",
        "- see image below and  https://en.wikipedia.org/wiki/Alpha_compositing#Description for over operator computation reference"
      ]
    },
    {
      "cell_type": "code",
      "execution_count": 17,
      "metadata": {
        "scrolled": true,
        "id": "TXwl2PNEv3W3"
      },
      "outputs": [],
      "source": [
        "def compositeOver(a,b):\n",
        "    alfa_0 = a[-1] + b[-1] * (1 - a[-1])\n",
        "    C_0 = (np.array(a[:-1]) * a[-1] + np.array(b[:-1]) * b[-1] * (1 - a[-1])) / alfa_0\n",
        "    comp_tuple = tuple(C_0) + (alfa_0, )\n",
        "    return comp_tuple"
      ]
    },
    {
      "cell_type": "markdown",
      "metadata": {
        "id": "xaacBX94v3W3"
      },
      "source": [
        "Test `compositeOver()`"
      ]
    },
    {
      "cell_type": "code",
      "execution_count": 18,
      "metadata": {
        "id": "TKT-rt0Bv3W3"
      },
      "outputs": [],
      "source": [
        "# unit tests for compositeOver()\n",
        "a = (0.4,0.7,0.2,0.5)\n",
        "b = (0.1,0.9,0.8,0.6)\n",
        "aoverb = compositeOver(a,b)\n",
        "numpy.testing.assert_allclose(aoverb[0],0.2875, rtol=1e-2)\n",
        "numpy.testing.assert_allclose(aoverb[1],0.7775, rtol=1e-2)\n",
        "numpy.testing.assert_allclose(aoverb[2],0.425, rtol=1e-2)\n",
        "numpy.testing.assert_allclose(aoverb[3],0.8, rtol=1e-2)\n",
        "bovera = compositeOver(b,a)\n",
        "numpy.testing.assert_allclose(bovera[0],0.175, rtol=1e-2)\n",
        "numpy.testing.assert_allclose(bovera[1],0.85, rtol=1e-2)\n",
        "numpy.testing.assert_allclose(bovera[2],0.65, rtol=1e-2)\n",
        "numpy.testing.assert_allclose(bovera[3],0.8, rtol=1e-2)"
      ]
    },
    {
      "cell_type": "markdown",
      "metadata": {
        "id": "1RWNw4xSv3W4"
      },
      "source": [
        "Test render using `transferAlpha()` and `compositeOver()`"
      ]
    },
    {
      "cell_type": "code",
      "execution_count": 20,
      "metadata": {
        "colab": {
          "base_uri": "https://localhost:8080/",
          "height": 284
        },
        "id": "3wVXd_75v3W4",
        "outputId": "abf61319-795b-4662-ef7f-6d53d1dcb9a2"
      },
      "outputs": [
        {
          "output_type": "stream",
          "name": "stderr",
          "text": [
            "<ipython-input-17-521ce6541127>:3: RuntimeWarning: invalid value encountered in true_divide\n",
            "  C_0 = (np.array(a[:-1]) * a[-1] + np.array(b[:-1]) * b[-1] * (1 - a[-1])) / alfa_0\n"
          ]
        },
        {
          "output_type": "display_data",
          "data": {
            "text/plain": [
              "<PIL.Image.Image image mode=RGB size=270x230 at 0x7FD758125DE0>"
            ],
            "image/png": "[encoded data removed]"
          },
          "metadata": {}
        }
      ],
      "source": [
        "render(transferAlpha,compositeOver,\"part2.png\", yval = -1)"
      ]
    },
    {
      "cell_type": "code",
      "source": [],
      "metadata": {
        "id": "k6OQylbLW5Ob"
      },
      "execution_count": null,
      "outputs": []
    }
  ],
  "metadata": {
    "celltoolbar": "Create Assignment",
    "kernelspec": {
      "display_name": "Python 3",
      "language": "python",
      "name": "python3"
    },
    "language_info": {
      "codemirror_mode": {
        "name": "ipython",
        "version": 3
      },
      "file_extension": ".py",
      "mimetype": "text/x-python",
      "name": "python",
      "nbconvert_exporter": "python",
      "pygments_lexer": "ipython3",
      "version": "3.8.6"
    },
    "colab": {
      "provenance": [],
      "include_colab_link": true
    }
  },
  "nbformat": 4,
  "nbformat_minor": 0
}